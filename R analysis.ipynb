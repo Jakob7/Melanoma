{
 "cells": [
  {
   "cell_type": "code",
   "execution_count": 1,
   "metadata": {},
   "outputs": [
    {
     "name": "stderr",
     "output_type": "stream",
     "text": [
      "Loading required package: RTCGA\n",
      "Welcome to the RTCGA (version: 1.8.0).\n"
     ]
    },
    {
     "data": {
      "text/html": [
       "<table>\n",
       "<thead><tr><th scope=col>times</th><th scope=col>bcr_patient_barcode</th><th scope=col>patient.vital_status</th></tr></thead>\n",
       "<tbody>\n",
       "\t<tr><td> 518        </td><td>TCGA-3N-A9WB</td><td>1           </td></tr>\n",
       "\t<tr><td>1856        </td><td>TCGA-3N-A9WC</td><td>0           </td></tr>\n",
       "\t<tr><td> 395        </td><td>TCGA-3N-A9WD</td><td>1           </td></tr>\n",
       "\t<tr><td> 387        </td><td>TCGA-BF-A1PU</td><td>0           </td></tr>\n",
       "\t<tr><td>  14        </td><td>TCGA-BF-A1PV</td><td>0           </td></tr>\n",
       "\t<tr><td> 282        </td><td>TCGA-BF-A1PX</td><td>1           </td></tr>\n",
       "</tbody>\n",
       "</table>\n"
      ],
      "text/latex": [
       "\\begin{tabular}{r|lll}\n",
       " times & bcr\\_patient\\_barcode & patient.vital\\_status\\\\\n",
       "\\hline\n",
       "\t  518         & TCGA-3N-A9WB & 1           \\\\\n",
       "\t 1856         & TCGA-3N-A9WC & 0           \\\\\n",
       "\t  395         & TCGA-3N-A9WD & 1           \\\\\n",
       "\t  387         & TCGA-BF-A1PU & 0           \\\\\n",
       "\t   14         & TCGA-BF-A1PV & 0           \\\\\n",
       "\t  282         & TCGA-BF-A1PX & 1           \\\\\n",
       "\\end{tabular}\n"
      ],
      "text/markdown": [
       "\n",
       "times | bcr_patient_barcode | patient.vital_status | \n",
       "|---|---|---|---|---|---|\n",
       "|  518         | TCGA-3N-A9WB | 1            | \n",
       "| 1856         | TCGA-3N-A9WC | 0            | \n",
       "|  395         | TCGA-3N-A9WD | 1            | \n",
       "|  387         | TCGA-BF-A1PU | 0            | \n",
       "|   14         | TCGA-BF-A1PV | 0            | \n",
       "|  282         | TCGA-BF-A1PX | 1            | \n",
       "\n",
       "\n"
      ],
      "text/plain": [
       "  times bcr_patient_barcode patient.vital_status\n",
       "1  518  TCGA-3N-A9WB        1                   \n",
       "2 1856  TCGA-3N-A9WC        0                   \n",
       "3  395  TCGA-3N-A9WD        1                   \n",
       "4  387  TCGA-BF-A1PU        0                   \n",
       "5   14  TCGA-BF-A1PV        0                   \n",
       "6  282  TCGA-BF-A1PX        1                   "
      ]
     },
     "metadata": {},
     "output_type": "display_data"
    }
   ],
   "source": [
    "library(maftools)\n",
    "library(survival)\n",
    "library(RTCGA.clinical)\n",
    "library(ggplot2)\n",
    "setwd('C:\\\\Users\\\\user\\\\Desktop\\\\Research\\\\Conferention')\n",
    "#maf = read.table('TCGA_SKCM.maf')\n",
    "clin <- survivalTCGA(SKCM.clinical)\n",
    "head(clin)"
   ]
  },
  {
   "cell_type": "code",
   "execution_count": 9,
   "metadata": {},
   "outputs": [],
   "source": [
    "write.csv(clin, file = 'surv.txt')"
   ]
  },
  {
   "cell_type": "code",
   "execution_count": 5,
   "metadata": {},
   "outputs": [
    {
     "name": "stderr",
     "output_type": "stream",
     "text": [
      "reading maf..\n",
      "silent variants: 157952\n"
     ]
    },
    {
     "name": "stdout",
     "output_type": "stream",
     "text": [
      "               ID      N\n",
      " 1:       Samples    462\n",
      " 2:       3'Flank   1550\n",
      " 3:         3'UTR  12866\n",
      " 4:       5'Flank   1841\n",
      " 5:         5'UTR   6518\n",
      " 6:           IGR     31\n",
      " 7:        Intron  12473\n",
      " 8:           RNA   6592\n",
      " 9:        Silent 111696\n",
      "10: Splice_Region   4385\n"
     ]
    },
    {
     "name": "stderr",
     "output_type": "stream",
     "text": [
      "Summarizing..\n"
     ]
    },
    {
     "name": "stdout",
     "output_type": "stream",
     "text": [
      "                        ID summary    Mean Median\n",
      " 1:             NCBI_Build  GRCh38      NA     NA\n",
      " 2:                 Center      BI      NA     NA\n",
      " 3:                Samples     465      NA     NA\n",
      " 4:                 nGenes   17286      NA     NA\n",
      " 5:      Missense_Mutation  200260 430.667    228\n",
      " 6:      Nonsense_Mutation   12426  26.723     14\n",
      " 7:       Nonstop_Mutation      73   0.157      0\n",
      " 8:            Splice_Site    3036   6.529      4\n",
      " 9: Translation_Start_Site     352   0.757      0\n",
      "10:                  total  216147 464.832    244\n"
     ]
    },
    {
     "name": "stderr",
     "output_type": "stream",
     "text": [
      "Gene Summary..\n"
     ]
    },
    {
     "name": "stdout",
     "output_type": "stream",
     "text": [
      "       Hugo_Symbol Missense_Mutation Nonsense_Mutation Nonstop_Mutation\n",
      "    1:         TTN              1662                83                0\n",
      "    2:       MUC16              1312                28                0\n",
      "    3:        BRAF               270                 1                0\n",
      "    4:       DNAH5               493                43                0\n",
      "    5:        PCLO               473                22                0\n",
      "   ---                                                                 \n",
      "17282:      ZNF879                 1                 0                0\n",
      "17283:      ZNHIT2                 1                 0                0\n",
      "17284:       ZNRD1                 1                 0                0\n",
      "17285:       ZRSR2                 0                 1                0\n",
      "17286:     ZSCAN16                 1                 0                0\n",
      "       Splice_Site Translation_Start_Site total MutatedSamples AlteredSamples\n",
      "    1:          18                      0  1763            330            330\n",
      "    2:           5                      0  1345            306            306\n",
      "    3:           0                      0   271            223            223\n",
      "    4:           9                      0   545            222            222\n",
      "    5:           1                      0   496            202            202\n",
      "   ---                                                                       \n",
      "17282:           0                      0     1              1              1\n",
      "17283:           0                      0     1              1              1\n",
      "17284:           0                      0     1              1              1\n",
      "17285:           0                      0     1              1              1\n",
      "17286:           0                      0     1              1              1\n"
     ]
    },
    {
     "name": "stderr",
     "output_type": "stream",
     "text": [
      "NOTE: Possible FLAGS among top ten genes:\n"
     ]
    },
    {
     "name": "stdout",
     "output_type": "stream",
     "text": [
      "[1] \"TTN\"   \"MUC16\"\n"
     ]
    },
    {
     "name": "stderr",
     "output_type": "stream",
     "text": [
      "Checking clinical data..\n",
      "Annotation missing for below samples in MAF\n"
     ]
    },
    {
     "name": "stdout",
     "output_type": "stream",
     "text": [
      "[1] \"TCGA-D3-A3C1\" \"TCGA-D3-A3C3\" \"TCGA-D3-A51G\" \"TCGA-D3-A8GO\" \"TCGA-ER-A19O\"\n",
      "[6] \"TCGA-FR-A3YO\" \"TCGA-RP-A695\" \"TCGA-RP-A6K9\" \"TCGA-YD-A9TB\"\n"
     ]
    },
    {
     "name": "stderr",
     "output_type": "stream",
     "text": [
      "Done !\n"
     ]
    }
   ],
   "source": [
    "clinical = read.table('survclin.csv', sep = '\\t', header = T)\n",
    "maf = read.maf('TCGA.maf', clinical = clinical)"
   ]
  },
  {
   "cell_type": "code",
   "execution_count": 8,
   "metadata": {},
   "outputs": [
    {
     "name": "stderr",
     "output_type": "stream",
     "text": [
      "reading maf..\n",
      "Summarizing..\n"
     ]
    },
    {
     "name": "stdout",
     "output_type": "stream",
     "text": [
      "                  ID summary    Mean Median\n",
      "1:        NCBI_Build  GRCh38      NA     NA\n",
      "2:            Center      BI      NA     NA\n",
      "3:           Samples     465      NA     NA\n",
      "4:            nGenes  184082      NA     NA\n",
      "5: Missense_Mutation  200260 430.667    228\n",
      "6:             total  200260 430.667    228\n"
     ]
    },
    {
     "name": "stderr",
     "output_type": "stream",
     "text": [
      "Gene Summary..\n"
     ]
    },
    {
     "name": "stdout",
     "output_type": "stream",
     "text": [
      "        Hugo_Symbol Missense_Mutation total MutatedSamples AlteredSamples\n",
      "     1:  BRAF_V600E               192   192            192            192\n",
      "     2:   NRAS_Q61R                57    57             57             57\n",
      "     3:  BRAF_V600M                38    38             38             38\n",
      "     4:   NRAS_Q61K                38    38             38             38\n",
      "     5:   NRAS_Q61L                18    18             18             18\n",
      "    ---                                                                  \n",
      "184078:    pk_M497I                 1     1              1              1\n",
      "184079:    pk_S333F                 1     1              1              1\n",
      "184080:    pk_S610F                 1     1              1              1\n",
      "184081:    pk_S649F                 1     1              1              1\n",
      "184082:    pk_S667F                 1     1              1              1\n"
     ]
    },
    {
     "name": "stderr",
     "output_type": "stream",
     "text": [
      "Checking clinical data..\n",
      "Annotation missing for below samples in MAF\n"
     ]
    },
    {
     "name": "stdout",
     "output_type": "stream",
     "text": [
      "[1] \"TCGA-D3-A3C1\" \"TCGA-D3-A3C3\" \"TCGA-D3-A51G\" \"TCGA-D3-A8GO\" \"TCGA-ER-A19O\"\n",
      "[6] \"TCGA-FR-A3YO\" \"TCGA-RP-A695\" \"TCGA-RP-A6K9\" \"TCGA-YD-A9TB\"\n"
     ]
    },
    {
     "name": "stderr",
     "output_type": "stream",
     "text": [
      "Done !\n"
     ]
    }
   ],
   "source": [
    "maf1 = read.maf('TCGA_SKCM.maf', clinical = clinical)"
   ]
  },
  {
   "cell_type": "code",
   "execution_count": 10,
   "metadata": {},
   "outputs": [
    {
     "name": "stderr",
     "output_type": "stream",
     "text": [
      "Looking for clinical data in annoatation slot of MAF..\n",
      "MAGEC1_E620K not found in MAF. Excluding it..\n",
      "\n"
     ]
    },
    {
     "ename": "ERROR",
     "evalue": "Error in genesToBarcodes(maf = maf, genes = genes, justNames = TRUE): \nNo genes left !\n",
     "output_type": "error",
     "traceback": [
      "Error in genesToBarcodes(maf = maf, genes = genes, justNames = TRUE): \nNo genes left !\nTraceback:\n",
      "1. mafSurvival(maf = maf, genes = \"MAGEC1_E620K\", time = \"times\", \n .     Status = \"vital_status\")",
      "2. genesToBarcodes(maf = maf, genes = genes, justNames = TRUE)",
      "3. stop(\"\\nNo genes left !\")"
     ]
    }
   ],
   "source": [
    "mafSurvival(maf = maf, genes = 'MAGEC1_E620K', time = 'times', Status = 'vital_status')"
   ]
  },
  {
   "cell_type": "code",
   "execution_count": 11,
   "metadata": {},
   "outputs": [
    {
     "name": "stderr",
     "output_type": "stream",
     "text": [
      "Looking for clinical data in annoatation slot of MAF..\n",
      "ZNF99_S3L not found in MAF. Excluding it..\n",
      "\n"
     ]
    },
    {
     "ename": "ERROR",
     "evalue": "Error in genesToBarcodes(maf = maf, genes = genes, justNames = TRUE): \nNo genes left !\n",
     "output_type": "error",
     "traceback": [
      "Error in genesToBarcodes(maf = maf, genes = genes, justNames = TRUE): \nNo genes left !\nTraceback:\n",
      "1. mafSurvival(maf = maf, genes = \"ZNF99_S3L\", time = \"times\", Status = \"vital_status\")",
      "2. genesToBarcodes(maf = maf, genes = genes, justNames = TRUE)",
      "3. stop(\"\\nNo genes left !\")"
     ]
    }
   ],
   "source": [
    "mafSurvival(maf = maf, genes = 'ZNF99_S3L', time = 'times', Status = 'vital_status')"
   ]
  },
  {
   "cell_type": "code",
   "execution_count": 7,
   "metadata": {},
   "outputs": [
    {
     "name": "stderr",
     "output_type": "stream",
     "text": [
      "Looking for clinical data in annoatation slot of MAF..\n",
      "Number of mutated samples for given genes: \n"
     ]
    },
    {
     "name": "stdout",
     "output_type": "stream",
     "text": [
      "MAGEC1 \n",
      "    94 \n"
     ]
    },
    {
     "name": "stderr",
     "output_type": "stream",
     "text": [
      "Median survival..\n"
     ]
    },
    {
     "name": "stdout",
     "output_type": "stream",
     "text": [
      "    Group medianTime   N\n",
      "1: Mutant        822  91\n",
      "2:     WT        854 365\n"
     ]
    },
    {
     "data": {},
     "metadata": {},
     "output_type": "display_data"
    },
    {
     "data": {
      "image/png": "[encoded data removed]",
      "text/plain": [
       "plot without title"
      ]
     },
     "metadata": {},
     "output_type": "display_data"
    },
    {
     "data": {
      "image/png": "[encoded data removed]",
      "text/plain": [
       "plot without title"
      ]
     },
     "metadata": {},
     "output_type": "display_data"
    }
   ],
   "source": [
    "mafSurvival(maf = maf, genes = 'MAGEC1', time = 'times', Status = 'vital_status')"
   ]
  },
  {
   "cell_type": "code",
   "execution_count": 6,
   "metadata": {},
   "outputs": [
    {
     "name": "stderr",
     "output_type": "stream",
     "text": [
      "Looking for clinical data in annoatation slot of MAF..\n",
      "Number of mutated samples for given genes: \n"
     ]
    },
    {
     "name": "stdout",
     "output_type": "stream",
     "text": [
      "ZNF99 \n",
      "   56 \n"
     ]
    },
    {
     "name": "stderr",
     "output_type": "stream",
     "text": [
      "Median survival..\n"
     ]
    },
    {
     "name": "stdout",
     "output_type": "stream",
     "text": [
      "    Group medianTime   N\n",
      "1: Mutant        907  55\n",
      "2:     WT        843 401\n"
     ]
    },
    {
     "data": {},
     "metadata": {},
     "output_type": "display_data"
    },
    {
     "data": {
      "image/png": "[encoded data removed]",
      "text/plain": [
       "plot without title"
      ]
     },
     "metadata": {},
     "output_type": "display_data"
    },
    {
     "data": {
      "image/png": "[encoded data removed]",
      "text/plain": [
       "plot without title"
      ]
     },
     "metadata": {},
     "output_type": "display_data"
    }
   ],
   "source": [
    "mafSurvival(maf = maf, genes = 'ZNF99', time = 'times', Status = 'vital_status')"
   ]
  },
  {
   "cell_type": "code",
   "execution_count": null,
   "metadata": {},
   "outputs": [],
   "source": [
    "lollipopPlot(maf = maf, gene = 'ZNF99', labelPos = 3)"
   ]
  },
  {
   "cell_type": "code",
   "execution_count": 3,
   "metadata": {},
   "outputs": [
    {
     "name": "stderr",
     "output_type": "stream",
     "text": [
      "Assuming protein change information are stored under column HGVSp_Short. Use argument AACol to override if necessary.\n"
     ]
    },
    {
     "data": {},
     "metadata": {},
     "output_type": "display_data"
    },
    {
     "data": {
      "image/png": "[encoded data removed]",
      "text/plain": [
       "plot without title"
      ]
     },
     "metadata": {},
     "output_type": "display_data"
    },
    {
     "data": {
      "image/png": "[encoded data removed]",
      "text/plain": [
       "plot without title"
      ]
     },
     "metadata": {},
     "output_type": "display_data"
    }
   ],
   "source": [
    "lollipopPlot(maf = maf, gene = 'MAGEC1', labelPos = 620)"
   ]
  },
  {
   "cell_type": "code",
   "execution_count": 23,
   "metadata": {},
   "outputs": [],
   "source": [
    "save(clin,file=\"survdata.csv\")"
   ]
  },
  {
   "cell_type": "code",
   "execution_count": 16,
   "metadata": {},
   "outputs": [],
   "source": [
    "clin$ZNF99 = clin$bcr_patient_barcode %in% c('TCGA-GF-A6C9', 'TCGA-W3-AA1O', 'TCGA-EB-A41A','TCGA-BF-AAP2','TCGA-ER-A19F')\n",
    "clin$MAGEC1 = clin$bcr_patient_barcode %in% c('TCGA-FS-A1ZZ', 'TCGA-3N-A9WC', 'TCGA-EE-A2GO', 'TCGA-3N-A9WD', 'TCGA-EE-A3JD', 'TCGA-EE-A2MM', 'TCGA-GN-A4U4')"
   ]
  },
  {
   "cell_type": "code",
   "execution_count": 21,
   "metadata": {},
   "outputs": [
    {
     "data": {},
     "metadata": {},
     "output_type": "display_data"
    },
    {
     "data": {
      "image/png": "[encoded data removed]",
      "text/plain": [
       "plot without title"
      ]
     },
     "metadata": {},
     "output_type": "display_data"
    }
   ],
   "source": [
    "library(survminer)\n",
    "sfit <- survfit(Surv(times, patient.vital_status)~ZNF99, data=clin)\n",
    "ggsurvplot(sfit, pval=TRUE)"
   ]
  },
  {
   "cell_type": "code",
   "execution_count": 20,
   "metadata": {},
   "outputs": [
    {
     "data": {},
     "metadata": {},
     "output_type": "display_data"
    },
    {
     "data": {
      "image/png": "[encoded data removed]",
      "text/plain": [
       "plot without title"
      ]
     },
     "metadata": {},
     "output_type": "display_data"
    }
   ],
   "source": [
    "sfit <- survfit(Surv(times, patient.vital_status)~MAGEC1, data=clin)\n",
    "ggsurvplot(sfit, pval=TRUE)"
   ]
  },
  {
   "cell_type": "code",
   "execution_count": 16,
   "metadata": {},
   "outputs": [
    {
     "data": {
      "text/html": [
       "<table>\n",
       "<thead><tr><th></th><th scope=col>Cohort</th><th scope=col>BCR</th><th scope=col>Clinical</th><th scope=col>CN</th><th scope=col>LowP</th><th scope=col>Methylation</th><th scope=col>mRNA</th><th scope=col>mRNASeq</th><th scope=col>miR</th><th scope=col>miRSeq</th><th scope=col>RPPA</th><th scope=col>MAF</th><th scope=col>rawMAF</th></tr></thead>\n",
       "<tbody>\n",
       "\t<tr><th scope=row>ACC-counts</th><td>ACC     </td><td>92      </td><td>92      </td><td>90      </td><td>0       </td><td>80      </td><td>0       </td><td>79      </td><td>0       </td><td>80      </td><td>46      </td><td>90      </td><td>0       </td></tr>\n",
       "\t<tr><th scope=row>BLCA-counts</th><td>BLCA    </td><td>412     </td><td>412     </td><td>410     </td><td>112     </td><td>412     </td><td>0       </td><td>408     </td><td>0       </td><td>409     </td><td>344     </td><td>130     </td><td>395     </td></tr>\n",
       "\t<tr><th scope=row>BRCA-counts</th><td>BRCA    </td><td>1098    </td><td>1097    </td><td>1089    </td><td>19      </td><td>1097    </td><td>526     </td><td>1093    </td><td>0       </td><td>1078    </td><td>887     </td><td>977     </td><td>0       </td></tr>\n",
       "\t<tr><th scope=row>CESC-counts</th><td>CESC    </td><td>307     </td><td>307     </td><td>295     </td><td>50      </td><td>307     </td><td>0       </td><td>304     </td><td>0       </td><td>307     </td><td>173     </td><td>194     </td><td>0       </td></tr>\n",
       "\t<tr><th scope=row>CHOL-counts</th><td>CHOL    </td><td>51      </td><td>45      </td><td>36      </td><td>0       </td><td>36      </td><td>0       </td><td>36      </td><td>0       </td><td>36      </td><td>30      </td><td>35      </td><td>0       </td></tr>\n",
       "\t<tr><th scope=row>COAD-counts</th><td>COAD    </td><td>460     </td><td>458     </td><td>451     </td><td>69      </td><td>457     </td><td>153     </td><td>457     </td><td>0       </td><td>406     </td><td>360     </td><td>154     </td><td>367     </td></tr>\n",
       "\t<tr><th scope=row>COADREAD-counts</th><td>COADREAD</td><td>631     </td><td>629     </td><td>616     </td><td>104     </td><td>622     </td><td>222     </td><td>623     </td><td>0       </td><td>549     </td><td>491     </td><td>223     </td><td>489     </td></tr>\n",
       "\t<tr><th scope=row>DLBC-counts</th><td>DLBC    </td><td>58      </td><td>48      </td><td>48      </td><td>0       </td><td>48      </td><td>0       </td><td>48      </td><td>0       </td><td>47      </td><td>33      </td><td>48      </td><td>0       </td></tr>\n",
       "\t<tr><th scope=row>ESCA-counts</th><td>ESCA    </td><td>185     </td><td>185     </td><td>184     </td><td>51      </td><td>185     </td><td>0       </td><td>184     </td><td>0       </td><td>184     </td><td>126     </td><td>185     </td><td>0       </td></tr>\n",
       "\t<tr><th scope=row>FPPP-counts</th><td>FPPP    </td><td>38      </td><td>38      </td><td>0       </td><td>0       </td><td>0       </td><td>0       </td><td>0       </td><td>0       </td><td>23      </td><td>0       </td><td>0       </td><td>0       </td></tr>\n",
       "\t<tr><th scope=row>GBM-counts</th><td>GBM     </td><td>613     </td><td>595     </td><td>577     </td><td>0       </td><td>420     </td><td>540     </td><td>160     </td><td>565     </td><td>0       </td><td>238     </td><td>290     </td><td>290     </td></tr>\n",
       "\t<tr><th scope=row>GBMLGG-counts</th><td>GBMLGG  </td><td>1129    </td><td>1110    </td><td>1090    </td><td>52      </td><td>936     </td><td>567     </td><td>676     </td><td>565     </td><td>512     </td><td>668     </td><td>576     </td><td>806     </td></tr>\n",
       "\t<tr><th scope=row>HNSC-counts</th><td>HNSC    </td><td>528     </td><td>528     </td><td>522     </td><td>108     </td><td>528     </td><td>0       </td><td>520     </td><td>0       </td><td>523     </td><td>212     </td><td>279     </td><td>510     </td></tr>\n",
       "\t<tr><th scope=row>KICH-counts</th><td>KICH    </td><td>113     </td><td>113     </td><td>66      </td><td>0       </td><td>66      </td><td>0       </td><td>66      </td><td>0       </td><td>66      </td><td>63      </td><td>66      </td><td>66      </td></tr>\n",
       "\t<tr><th scope=row>KIPAN-counts</th><td>KIPAN   </td><td>973     </td><td>941     </td><td>883     </td><td>0       </td><td>892     </td><td>88      </td><td>889     </td><td>0       </td><td>873     </td><td>756     </td><td>644     </td><td>799     </td></tr>\n",
       "\t<tr><th scope=row>KIRC-counts</th><td>KIRC    </td><td>537     </td><td>537     </td><td>528     </td><td>0       </td><td>535     </td><td>72      </td><td>533     </td><td>0       </td><td>516     </td><td>478     </td><td>417     </td><td>451     </td></tr>\n",
       "\t<tr><th scope=row>KIRP-counts</th><td>KIRP    </td><td>323     </td><td>291     </td><td>289     </td><td>0       </td><td>291     </td><td>16      </td><td>290     </td><td>0       </td><td>291     </td><td>215     </td><td>161     </td><td>282     </td></tr>\n",
       "\t<tr><th scope=row>LAML-counts</th><td>LAML    </td><td>200     </td><td>200     </td><td>197     </td><td>0       </td><td>194     </td><td>0       </td><td>179     </td><td>0       </td><td>188     </td><td>0       </td><td>197     </td><td>0       </td></tr>\n",
       "\t<tr><th scope=row>LGG-counts</th><td>LGG     </td><td>516     </td><td>515     </td><td>513     </td><td>52      </td><td>516     </td><td>27      </td><td>516     </td><td>0       </td><td>512     </td><td>430     </td><td>286     </td><td>516     </td></tr>\n",
       "\t<tr><th scope=row>LIHC-counts</th><td>LIHC    </td><td>377     </td><td>377     </td><td>370     </td><td>0       </td><td>377     </td><td>0       </td><td>371     </td><td>0       </td><td>372     </td><td>63      </td><td>198     </td><td>373     </td></tr>\n",
       "\t<tr><th scope=row>LUAD-counts</th><td>LUAD    </td><td>585     </td><td>522     </td><td>516     </td><td>120     </td><td>578     </td><td>32      </td><td>515     </td><td>0       </td><td>513     </td><td>365     </td><td>230     </td><td>542     </td></tr>\n",
       "\t<tr><th scope=row>LUSC-counts</th><td>LUSC    </td><td>504     </td><td>504     </td><td>501     </td><td>0       </td><td>503     </td><td>154     </td><td>501     </td><td>0       </td><td>478     </td><td>328     </td><td>178     </td><td>0       </td></tr>\n",
       "\t<tr><th scope=row>MESO-counts</th><td>MESO    </td><td>87      </td><td>87      </td><td>87      </td><td>0       </td><td>87      </td><td>0       </td><td>87      </td><td>0       </td><td>87      </td><td>63      </td><td>0       </td><td>0       </td></tr>\n",
       "\t<tr><th scope=row>OV-counts</th><td>OV      </td><td>602     </td><td>591     </td><td>586     </td><td>0       </td><td>594     </td><td>574     </td><td>304     </td><td>570     </td><td>453     </td><td>426     </td><td>316     </td><td>469     </td></tr>\n",
       "\t<tr><th scope=row>PAAD-counts</th><td>PAAD    </td><td>185     </td><td>185     </td><td>184     </td><td>0       </td><td>184     </td><td>0       </td><td>178     </td><td>0       </td><td>178     </td><td>123     </td><td>150     </td><td>184     </td></tr>\n",
       "\t<tr><th scope=row>PCPG-counts</th><td>PCPG    </td><td>179     </td><td>179     </td><td>175     </td><td>0       </td><td>179     </td><td>0       </td><td>179     </td><td>0       </td><td>179     </td><td>80      </td><td>179     </td><td>0       </td></tr>\n",
       "\t<tr><th scope=row>PRAD-counts</th><td>PRAD    </td><td>499     </td><td>499     </td><td>492     </td><td>115     </td><td>498     </td><td>0       </td><td>497     </td><td>0       </td><td>494     </td><td>352     </td><td>332     </td><td>498     </td></tr>\n",
       "\t<tr><th scope=row>READ-counts</th><td>READ    </td><td>171     </td><td>171     </td><td>165     </td><td>35      </td><td>165     </td><td>69      </td><td>166     </td><td>0       </td><td>143     </td><td>131     </td><td>69      </td><td>122     </td></tr>\n",
       "\t<tr><th scope=row>SARC-counts</th><td>SARC    </td><td>261     </td><td>261     </td><td>257     </td><td>0       </td><td>261     </td><td>0       </td><td>259     </td><td>0       </td><td>259     </td><td>223     </td><td>247     </td><td>0       </td></tr>\n",
       "\t<tr><th scope=row>SKCM-counts</th><td>SKCM    </td><td>470     </td><td>470     </td><td>469     </td><td>118     </td><td>470     </td><td>0       </td><td>469     </td><td>0       </td><td>448     </td><td>353     </td><td>343     </td><td>366     </td></tr>\n",
       "\t<tr><th scope=row>STAD-counts</th><td>STAD    </td><td>443     </td><td>443     </td><td>442     </td><td>107     </td><td>443     </td><td>0       </td><td>415     </td><td>0       </td><td>436     </td><td>357     </td><td>289     </td><td>395     </td></tr>\n",
       "\t<tr><th scope=row>STES-counts</th><td>STES    </td><td>628     </td><td>628     </td><td>626     </td><td>158     </td><td>628     </td><td>0       </td><td>599     </td><td>0       </td><td>620     </td><td>483     </td><td>474     </td><td>395     </td></tr>\n",
       "\t<tr><th scope=row>TGCT-counts</th><td>TGCT    </td><td>150     </td><td>134     </td><td>150     </td><td>0       </td><td>150     </td><td>0       </td><td>150     </td><td>0       </td><td>150     </td><td>118     </td><td>149     </td><td>0       </td></tr>\n",
       "\t<tr><th scope=row>THCA-counts</th><td>THCA    </td><td>503     </td><td>503     </td><td>499     </td><td>98      </td><td>503     </td><td>0       </td><td>501     </td><td>0       </td><td>502     </td><td>222     </td><td>402     </td><td>496     </td></tr>\n",
       "\t<tr><th scope=row>THYM-counts</th><td>THYM    </td><td>124     </td><td>124     </td><td>123     </td><td>0       </td><td>124     </td><td>0       </td><td>120     </td><td>0       </td><td>124     </td><td>90      </td><td>123     </td><td>0       </td></tr>\n",
       "\t<tr><th scope=row>UCEC-counts</th><td>UCEC    </td><td>560     </td><td>548     </td><td>540     </td><td>106     </td><td>547     </td><td>54      </td><td>545     </td><td>0       </td><td>538     </td><td>440     </td><td>248     </td><td>0       </td></tr>\n",
       "\t<tr><th scope=row>UCS-counts</th><td>UCS     </td><td>57      </td><td>57      </td><td>56      </td><td>0       </td><td>57      </td><td>0       </td><td>57      </td><td>0       </td><td>56      </td><td>48      </td><td>57      </td><td>0       </td></tr>\n",
       "\t<tr><th scope=row>UVM-counts</th><td>UVM     </td><td>80      </td><td>80      </td><td>80      </td><td>51      </td><td>80      </td><td>0       </td><td>80      </td><td>0       </td><td>80      </td><td>12      </td><td>80      </td><td>0       </td></tr>\n",
       "</tbody>\n",
       "</table>\n"
      ],
      "text/latex": [
       "\\begin{tabular}{r|lllllllllllll}\n",
       "  & Cohort & BCR & Clinical & CN & LowP & Methylation & mRNA & mRNASeq & miR & miRSeq & RPPA & MAF & rawMAF\\\\\n",
       "\\hline\n",
       "\tACC-counts & ACC      & 92       & 92       & 90       & 0        & 80       & 0        & 79       & 0        & 80       & 46       & 90       & 0       \\\\\n",
       "\tBLCA-counts & BLCA     & 412      & 412      & 410      & 112      & 412      & 0        & 408      & 0        & 409      & 344      & 130      & 395     \\\\\n",
       "\tBRCA-counts & BRCA     & 1098     & 1097     & 1089     & 19       & 1097     & 526      & 1093     & 0        & 1078     & 887      & 977      & 0       \\\\\n",
       "\tCESC-counts & CESC     & 307      & 307      & 295      & 50       & 307      & 0        & 304      & 0        & 307      & 173      & 194      & 0       \\\\\n",
       "\tCHOL-counts & CHOL     & 51       & 45       & 36       & 0        & 36       & 0        & 36       & 0        & 36       & 30       & 35       & 0       \\\\\n",
       "\tCOAD-counts & COAD     & 460      & 458      & 451      & 69       & 457      & 153      & 457      & 0        & 406      & 360      & 154      & 367     \\\\\n",
       "\tCOADREAD-counts & COADREAD & 631      & 629      & 616      & 104      & 622      & 222      & 623      & 0        & 549      & 491      & 223      & 489     \\\\\n",
       "\tDLBC-counts & DLBC     & 58       & 48       & 48       & 0        & 48       & 0        & 48       & 0        & 47       & 33       & 48       & 0       \\\\\n",
       "\tESCA-counts & ESCA     & 185      & 185      & 184      & 51       & 185      & 0        & 184      & 0        & 184      & 126      & 185      & 0       \\\\\n",
       "\tFPPP-counts & FPPP     & 38       & 38       & 0        & 0        & 0        & 0        & 0        & 0        & 23       & 0        & 0        & 0       \\\\\n",
       "\tGBM-counts & GBM      & 613      & 595      & 577      & 0        & 420      & 540      & 160      & 565      & 0        & 238      & 290      & 290     \\\\\n",
       "\tGBMLGG-counts & GBMLGG   & 1129     & 1110     & 1090     & 52       & 936      & 567      & 676      & 565      & 512      & 668      & 576      & 806     \\\\\n",
       "\tHNSC-counts & HNSC     & 528      & 528      & 522      & 108      & 528      & 0        & 520      & 0        & 523      & 212      & 279      & 510     \\\\\n",
       "\tKICH-counts & KICH     & 113      & 113      & 66       & 0        & 66       & 0        & 66       & 0        & 66       & 63       & 66       & 66      \\\\\n",
       "\tKIPAN-counts & KIPAN    & 973      & 941      & 883      & 0        & 892      & 88       & 889      & 0        & 873      & 756      & 644      & 799     \\\\\n",
       "\tKIRC-counts & KIRC     & 537      & 537      & 528      & 0        & 535      & 72       & 533      & 0        & 516      & 478      & 417      & 451     \\\\\n",
       "\tKIRP-counts & KIRP     & 323      & 291      & 289      & 0        & 291      & 16       & 290      & 0        & 291      & 215      & 161      & 282     \\\\\n",
       "\tLAML-counts & LAML     & 200      & 200      & 197      & 0        & 194      & 0        & 179      & 0        & 188      & 0        & 197      & 0       \\\\\n",
       "\tLGG-counts & LGG      & 516      & 515      & 513      & 52       & 516      & 27       & 516      & 0        & 512      & 430      & 286      & 516     \\\\\n",
       "\tLIHC-counts & LIHC     & 377      & 377      & 370      & 0        & 377      & 0        & 371      & 0        & 372      & 63       & 198      & 373     \\\\\n",
       "\tLUAD-counts & LUAD     & 585      & 522      & 516      & 120      & 578      & 32       & 515      & 0        & 513      & 365      & 230      & 542     \\\\\n",
       "\tLUSC-counts & LUSC     & 504      & 504      & 501      & 0        & 503      & 154      & 501      & 0        & 478      & 328      & 178      & 0       \\\\\n",
       "\tMESO-counts & MESO     & 87       & 87       & 87       & 0        & 87       & 0        & 87       & 0        & 87       & 63       & 0        & 0       \\\\\n",
       "\tOV-counts & OV       & 602      & 591      & 586      & 0        & 594      & 574      & 304      & 570      & 453      & 426      & 316      & 469     \\\\\n",
       "\tPAAD-counts & PAAD     & 185      & 185      & 184      & 0        & 184      & 0        & 178      & 0        & 178      & 123      & 150      & 184     \\\\\n",
       "\tPCPG-counts & PCPG     & 179      & 179      & 175      & 0        & 179      & 0        & 179      & 0        & 179      & 80       & 179      & 0       \\\\\n",
       "\tPRAD-counts & PRAD     & 499      & 499      & 492      & 115      & 498      & 0        & 497      & 0        & 494      & 352      & 332      & 498     \\\\\n",
       "\tREAD-counts & READ     & 171      & 171      & 165      & 35       & 165      & 69       & 166      & 0        & 143      & 131      & 69       & 122     \\\\\n",
       "\tSARC-counts & SARC     & 261      & 261      & 257      & 0        & 261      & 0        & 259      & 0        & 259      & 223      & 247      & 0       \\\\\n",
       "\tSKCM-counts & SKCM     & 470      & 470      & 469      & 118      & 470      & 0        & 469      & 0        & 448      & 353      & 343      & 366     \\\\\n",
       "\tSTAD-counts & STAD     & 443      & 443      & 442      & 107      & 443      & 0        & 415      & 0        & 436      & 357      & 289      & 395     \\\\\n",
       "\tSTES-counts & STES     & 628      & 628      & 626      & 158      & 628      & 0        & 599      & 0        & 620      & 483      & 474      & 395     \\\\\n",
       "\tTGCT-counts & TGCT     & 150      & 134      & 150      & 0        & 150      & 0        & 150      & 0        & 150      & 118      & 149      & 0       \\\\\n",
       "\tTHCA-counts & THCA     & 503      & 503      & 499      & 98       & 503      & 0        & 501      & 0        & 502      & 222      & 402      & 496     \\\\\n",
       "\tTHYM-counts & THYM     & 124      & 124      & 123      & 0        & 124      & 0        & 120      & 0        & 124      & 90       & 123      & 0       \\\\\n",
       "\tUCEC-counts & UCEC     & 560      & 548      & 540      & 106      & 547      & 54       & 545      & 0        & 538      & 440      & 248      & 0       \\\\\n",
       "\tUCS-counts & UCS      & 57       & 57       & 56       & 0        & 57       & 0        & 57       & 0        & 56       & 48       & 57       & 0       \\\\\n",
       "\tUVM-counts & UVM      & 80       & 80       & 80       & 51       & 80       & 0        & 80       & 0        & 80       & 12       & 80       & 0       \\\\\n",
       "\\end{tabular}\n"
      ],
      "text/markdown": [
       "\n",
       "| <!--/--> | Cohort | BCR | Clinical | CN | LowP | Methylation | mRNA | mRNASeq | miR | miRSeq | RPPA | MAF | rawMAF | \n",
       "|---|---|---|---|---|---|---|---|---|---|---|---|---|---|---|---|---|---|---|---|---|---|---|---|---|---|---|---|---|---|---|---|---|---|---|---|---|---|\n",
       "| ACC-counts | ACC      | 92       | 92       | 90       | 0        | 80       | 0        | 79       | 0        | 80       | 46       | 90       | 0        | \n",
       "| BLCA-counts | BLCA     | 412      | 412      | 410      | 112      | 412      | 0        | 408      | 0        | 409      | 344      | 130      | 395      | \n",
       "| BRCA-counts | BRCA     | 1098     | 1097     | 1089     | 19       | 1097     | 526      | 1093     | 0        | 1078     | 887      | 977      | 0        | \n",
       "| CESC-counts | CESC     | 307      | 307      | 295      | 50       | 307      | 0        | 304      | 0        | 307      | 173      | 194      | 0        | \n",
       "| CHOL-counts | CHOL     | 51       | 45       | 36       | 0        | 36       | 0        | 36       | 0        | 36       | 30       | 35       | 0        | \n",
       "| COAD-counts | COAD     | 460      | 458      | 451      | 69       | 457      | 153      | 457      | 0        | 406      | 360      | 154      | 367      | \n",
       "| COADREAD-counts | COADREAD | 631      | 629      | 616      | 104      | 622      | 222      | 623      | 0        | 549      | 491      | 223      | 489      | \n",
       "| DLBC-counts | DLBC     | 58       | 48       | 48       | 0        | 48       | 0        | 48       | 0        | 47       | 33       | 48       | 0        | \n",
       "| ESCA-counts | ESCA     | 185      | 185      | 184      | 51       | 185      | 0        | 184      | 0        | 184      | 126      | 185      | 0        | \n",
       "| FPPP-counts | FPPP     | 38       | 38       | 0        | 0        | 0        | 0        | 0        | 0        | 23       | 0        | 0        | 0        | \n",
       "| GBM-counts | GBM      | 613      | 595      | 577      | 0        | 420      | 540      | 160      | 565      | 0        | 238      | 290      | 290      | \n",
       "| GBMLGG-counts | GBMLGG   | 1129     | 1110     | 1090     | 52       | 936      | 567      | 676      | 565      | 512      | 668      | 576      | 806      | \n",
       "| HNSC-counts | HNSC     | 528      | 528      | 522      | 108      | 528      | 0        | 520      | 0        | 523      | 212      | 279      | 510      | \n",
       "| KICH-counts | KICH     | 113      | 113      | 66       | 0        | 66       | 0        | 66       | 0        | 66       | 63       | 66       | 66       | \n",
       "| KIPAN-counts | KIPAN    | 973      | 941      | 883      | 0        | 892      | 88       | 889      | 0        | 873      | 756      | 644      | 799      | \n",
       "| KIRC-counts | KIRC     | 537      | 537      | 528      | 0        | 535      | 72       | 533      | 0        | 516      | 478      | 417      | 451      | \n",
       "| KIRP-counts | KIRP     | 323      | 291      | 289      | 0        | 291      | 16       | 290      | 0        | 291      | 215      | 161      | 282      | \n",
       "| LAML-counts | LAML     | 200      | 200      | 197      | 0        | 194      | 0        | 179      | 0        | 188      | 0        | 197      | 0        | \n",
       "| LGG-counts | LGG      | 516      | 515      | 513      | 52       | 516      | 27       | 516      | 0        | 512      | 430      | 286      | 516      | \n",
       "| LIHC-counts | LIHC     | 377      | 377      | 370      | 0        | 377      | 0        | 371      | 0        | 372      | 63       | 198      | 373      | \n",
       "| LUAD-counts | LUAD     | 585      | 522      | 516      | 120      | 578      | 32       | 515      | 0        | 513      | 365      | 230      | 542      | \n",
       "| LUSC-counts | LUSC     | 504      | 504      | 501      | 0        | 503      | 154      | 501      | 0        | 478      | 328      | 178      | 0        | \n",
       "| MESO-counts | MESO     | 87       | 87       | 87       | 0        | 87       | 0        | 87       | 0        | 87       | 63       | 0        | 0        | \n",
       "| OV-counts | OV       | 602      | 591      | 586      | 0        | 594      | 574      | 304      | 570      | 453      | 426      | 316      | 469      | \n",
       "| PAAD-counts | PAAD     | 185      | 185      | 184      | 0        | 184      | 0        | 178      | 0        | 178      | 123      | 150      | 184      | \n",
       "| PCPG-counts | PCPG     | 179      | 179      | 175      | 0        | 179      | 0        | 179      | 0        | 179      | 80       | 179      | 0        | \n",
       "| PRAD-counts | PRAD     | 499      | 499      | 492      | 115      | 498      | 0        | 497      | 0        | 494      | 352      | 332      | 498      | \n",
       "| READ-counts | READ     | 171      | 171      | 165      | 35       | 165      | 69       | 166      | 0        | 143      | 131      | 69       | 122      | \n",
       "| SARC-counts | SARC     | 261      | 261      | 257      | 0        | 261      | 0        | 259      | 0        | 259      | 223      | 247      | 0        | \n",
       "| SKCM-counts | SKCM     | 470      | 470      | 469      | 118      | 470      | 0        | 469      | 0        | 448      | 353      | 343      | 366      | \n",
       "| STAD-counts | STAD     | 443      | 443      | 442      | 107      | 443      | 0        | 415      | 0        | 436      | 357      | 289      | 395      | \n",
       "| STES-counts | STES     | 628      | 628      | 626      | 158      | 628      | 0        | 599      | 0        | 620      | 483      | 474      | 395      | \n",
       "| TGCT-counts | TGCT     | 150      | 134      | 150      | 0        | 150      | 0        | 150      | 0        | 150      | 118      | 149      | 0        | \n",
       "| THCA-counts | THCA     | 503      | 503      | 499      | 98       | 503      | 0        | 501      | 0        | 502      | 222      | 402      | 496      | \n",
       "| THYM-counts | THYM     | 124      | 124      | 123      | 0        | 124      | 0        | 120      | 0        | 124      | 90       | 123      | 0        | \n",
       "| UCEC-counts | UCEC     | 560      | 548      | 540      | 106      | 547      | 54       | 545      | 0        | 538      | 440      | 248      | 0        | \n",
       "| UCS-counts | UCS      | 57       | 57       | 56       | 0        | 57       | 0        | 57       | 0        | 56       | 48       | 57       | 0        | \n",
       "| UVM-counts | UVM      | 80       | 80       | 80       | 51       | 80       | 0        | 80       | 0        | 80       | 12       | 80       | 0        | \n",
       "\n",
       "\n"
      ],
      "text/plain": [
       "                Cohort   BCR  Clinical CN   LowP Methylation mRNA mRNASeq miR\n",
       "ACC-counts      ACC      92   92       90   0    80          0    79      0  \n",
       "BLCA-counts     BLCA     412  412      410  112  412         0    408     0  \n",
       "BRCA-counts     BRCA     1098 1097     1089 19   1097        526  1093    0  \n",
       "CESC-counts     CESC     307  307      295  50   307         0    304     0  \n",
       "CHOL-counts     CHOL     51   45       36   0    36          0    36      0  \n",
       "COAD-counts     COAD     460  458      451  69   457         153  457     0  \n",
       "COADREAD-counts COADREAD 631  629      616  104  622         222  623     0  \n",
       "DLBC-counts     DLBC     58   48       48   0    48          0    48      0  \n",
       "ESCA-counts     ESCA     185  185      184  51   185         0    184     0  \n",
       "FPPP-counts     FPPP     38   38       0    0    0           0    0       0  \n",
       "GBM-counts      GBM      613  595      577  0    420         540  160     565\n",
       "GBMLGG-counts   GBMLGG   1129 1110     1090 52   936         567  676     565\n",
       "HNSC-counts     HNSC     528  528      522  108  528         0    520     0  \n",
       "KICH-counts     KICH     113  113      66   0    66          0    66      0  \n",
       "KIPAN-counts    KIPAN    973  941      883  0    892         88   889     0  \n",
       "KIRC-counts     KIRC     537  537      528  0    535         72   533     0  \n",
       "KIRP-counts     KIRP     323  291      289  0    291         16   290     0  \n",
       "LAML-counts     LAML     200  200      197  0    194         0    179     0  \n",
       "LGG-counts      LGG      516  515      513  52   516         27   516     0  \n",
       "LIHC-counts     LIHC     377  377      370  0    377         0    371     0  \n",
       "LUAD-counts     LUAD     585  522      516  120  578         32   515     0  \n",
       "LUSC-counts     LUSC     504  504      501  0    503         154  501     0  \n",
       "MESO-counts     MESO     87   87       87   0    87          0    87      0  \n",
       "OV-counts       OV       602  591      586  0    594         574  304     570\n",
       "PAAD-counts     PAAD     185  185      184  0    184         0    178     0  \n",
       "PCPG-counts     PCPG     179  179      175  0    179         0    179     0  \n",
       "PRAD-counts     PRAD     499  499      492  115  498         0    497     0  \n",
       "READ-counts     READ     171  171      165  35   165         69   166     0  \n",
       "SARC-counts     SARC     261  261      257  0    261         0    259     0  \n",
       "SKCM-counts     SKCM     470  470      469  118  470         0    469     0  \n",
       "STAD-counts     STAD     443  443      442  107  443         0    415     0  \n",
       "STES-counts     STES     628  628      626  158  628         0    599     0  \n",
       "TGCT-counts     TGCT     150  134      150  0    150         0    150     0  \n",
       "THCA-counts     THCA     503  503      499  98   503         0    501     0  \n",
       "THYM-counts     THYM     124  124      123  0    124         0    120     0  \n",
       "UCEC-counts     UCEC     560  548      540  106  547         54   545     0  \n",
       "UCS-counts      UCS      57   57       56   0    57          0    57      0  \n",
       "UVM-counts      UVM      80   80       80   51   80          0    80      0  \n",
       "                miRSeq RPPA MAF rawMAF\n",
       "ACC-counts      80     46   90  0     \n",
       "BLCA-counts     409    344  130 395   \n",
       "BRCA-counts     1078   887  977 0     \n",
       "CESC-counts     307    173  194 0     \n",
       "CHOL-counts     36     30   35  0     \n",
       "COAD-counts     406    360  154 367   \n",
       "COADREAD-counts 549    491  223 489   \n",
       "DLBC-counts     47     33   48  0     \n",
       "ESCA-counts     184    126  185 0     \n",
       "FPPP-counts     23     0    0   0     \n",
       "GBM-counts      0      238  290 290   \n",
       "GBMLGG-counts   512    668  576 806   \n",
       "HNSC-counts     523    212  279 510   \n",
       "KICH-counts     66     63   66  66    \n",
       "KIPAN-counts    873    756  644 799   \n",
       "KIRC-counts     516    478  417 451   \n",
       "KIRP-counts     291    215  161 282   \n",
       "LAML-counts     188    0    197 0     \n",
       "LGG-counts      512    430  286 516   \n",
       "LIHC-counts     372    63   198 373   \n",
       "LUAD-counts     513    365  230 542   \n",
       "LUSC-counts     478    328  178 0     \n",
       "MESO-counts     87     63   0   0     \n",
       "OV-counts       453    426  316 469   \n",
       "PAAD-counts     178    123  150 184   \n",
       "PCPG-counts     179    80   179 0     \n",
       "PRAD-counts     494    352  332 498   \n",
       "READ-counts     143    131  69  122   \n",
       "SARC-counts     259    223  247 0     \n",
       "SKCM-counts     448    353  343 366   \n",
       "STAD-counts     436    357  289 395   \n",
       "STES-counts     620    483  474 395   \n",
       "TGCT-counts     150    118  149 0     \n",
       "THCA-counts     502    222  402 496   \n",
       "THYM-counts     124    90   123 0     \n",
       "UCEC-counts     538    440  248 0     \n",
       "UCS-counts      56     48   57  0     \n",
       "UVM-counts      80     12   80  0     "
      ]
     },
     "metadata": {},
     "output_type": "display_data"
    },
    {
     "data": {},
     "metadata": {},
     "output_type": "display_data"
    },
    {
     "data": {
      "image/png": "[encoded data removed]",
      "text/plain": [
       "plot without title"
      ]
     },
     "metadata": {},
     "output_type": "display_data"
    }
   ],
   "source": [
    "infoTCGA()\n",
    "sfit <- survfit(Surv(times, patient.vital_status)~mutation, data=clin)\n",
    "#write.csv(clin,'SAn.csv')\n",
    "ggsurvplot(sfit, conf.int=TRUE, pval=TRUE)"
   ]
  },
  {
   "cell_type": "code",
   "execution_count": null,
   "metadata": {},
   "outputs": [],
   "source": [
    "maf = read.maf('TCGA_SKCM.maf')\n",
    "write.mafSummary(maf = maf, basename = 'skcm')"
   ]
  },
  {
   "cell_type": "code",
   "execution_count": 2,
   "metadata": {},
   "outputs": [
    {
     "name": "stderr",
     "output_type": "stream",
     "text": [
      "reading maf..\n",
      "Summarizing..\n"
     ]
    },
    {
     "name": "stdout",
     "output_type": "stream",
     "text": [
      "                  ID summary    Mean Median\n",
      "1:        NCBI_Build  GRCh38      NA     NA\n",
      "2:            Center      BI      NA     NA\n",
      "3:           Samples       6      NA     NA\n",
      "4:            nGenes    2899      NA     NA\n",
      "5: Missense_Mutation    2903 483.833    306\n",
      "6:             total    2903 483.833    306\n"
     ]
    },
    {
     "name": "stderr",
     "output_type": "stream",
     "text": [
      "Gene Summary..\n"
     ]
    },
    {
     "name": "stdout",
     "output_type": "stream",
     "text": [
      "        Hugo_Symbol Missense_Mutation total MutatedSamples AlteredSamples\n",
      "   1:    BRAF_V600E                 2     2              2              2\n",
      "   2: JAKMIP2_E357K                 2     2              2              2\n",
      "   3:     NRAS_Q61K                 2     2              2              2\n",
      "   4:     RP1_G962E                 2     2              2              2\n",
      "   5:    A1CF_E120K                 1     1              1              1\n",
      "  ---                                                                    \n",
      "2895: ZSCAN20_P400S                 1     1              1              1\n",
      "2896:  ZSCAN30_R48W                 1     1              1              1\n",
      "2897: ZSCAN5A_T407I                 1     1              1              1\n",
      "2898: ZSCAN5B_S368F                 1     1              1              1\n",
      "2899:  ZSWIM3_R320C                 1     1              1              1\n"
     ]
    },
    {
     "name": "stderr",
     "output_type": "stream",
     "text": [
      "Checking clinical data..\n",
      "NOTE: Missing clinical data! It is strongly recommended to provide clinical data associated with samples if available.\n",
      "Done !\n",
      "reading maf..\n",
      "Summarizing..\n"
     ]
    },
    {
     "name": "stdout",
     "output_type": "stream",
     "text": [
      "                  ID summary    Mean Median\n",
      "1:        NCBI_Build  GRCh38      NA     NA\n",
      "2:            Center      BI      NA     NA\n",
      "3:           Samples      18      NA     NA\n",
      "4:            nGenes    6063      NA     NA\n",
      "5: Missense_Mutation    6092 338.444    289\n",
      "6:             total    6092 338.444    289\n"
     ]
    },
    {
     "name": "stderr",
     "output_type": "stream",
     "text": [
      "Gene Summary..\n"
     ]
    },
    {
     "name": "stdout",
     "output_type": "stream",
     "text": [
      "        Hugo_Symbol Missense_Mutation total MutatedSamples AlteredSamples\n",
      "   1:    BRAF_V600E                 7     7              7              7\n",
      "   2:    DPYD_S204F                 3     3              3              3\n",
      "   3:     AQP9_M97I                 2     2              2              2\n",
      "   4:     AQR_R536C                 2     2              2              2\n",
      "   5:  ASTN2_E1245K                 2     2              2              2\n",
      "  ---                                                                    \n",
      "6059:  ZSCAN2_L613F                 1     1              1              1\n",
      "6060: ZSCAN32_R662K                 1     1              1              1\n",
      "6061:  ZSWIM2_S409L                 1     1              1              1\n",
      "6062:  ZWILCH_Q375L                 1     1              1              1\n",
      "6063:      pk_S667F                 1     1              1              1\n"
     ]
    },
    {
     "name": "stderr",
     "output_type": "stream",
     "text": [
      "Checking clinical data..\n",
      "NOTE: Missing clinical data! It is strongly recommended to provide clinical data associated with samples if available.\n",
      "Done !\n",
      "reading maf..\n",
      "Summarizing..\n"
     ]
    },
    {
     "name": "stdout",
     "output_type": "stream",
     "text": [
      "                  ID summary    Mean Median\n",
      "1:        NCBI_Build  GRCh38      NA     NA\n",
      "2:            Center      BI      NA     NA\n",
      "3:           Samples      76      NA     NA\n",
      "4:            nGenes   35202      NA     NA\n",
      "5: Missense_Mutation   35905 472.434    244\n",
      "6:             total   35905 472.434    244\n"
     ]
    },
    {
     "name": "stderr",
     "output_type": "stream",
     "text": [
      "Gene Summary..\n"
     ]
    },
    {
     "name": "stdout",
     "output_type": "stream",
     "text": [
      "        Hugo_Symbol Missense_Mutation total MutatedSamples AlteredSamples\n",
      "    1:   BRAF_V600E                40    40             40             40\n",
      "    2:   BRAF_V600M                 9     9              9              9\n",
      "    3:    NRAS_Q61R                 8     8              8              8\n",
      "    4:    NRAS_Q61K                 6     6              6              6\n",
      "    5: DNAH5_D3236N                 5     5              5              5\n",
      "   ---                                                                   \n",
      "35198: ZZEF1_P2721S                 1     1              1              1\n",
      "35199:  ZZEF1_S259F                 1     1              1              1\n",
      "35200:   ZZZ3_P783L                 1     1              1              1\n",
      "35201:   ZZZ3_P783S                 1     1              1              1\n",
      "35202:   ZZZ3_R787S                 1     1              1              1\n"
     ]
    },
    {
     "name": "stderr",
     "output_type": "stream",
     "text": [
      "Checking clinical data..\n",
      "NOTE: Missing clinical data! It is strongly recommended to provide clinical data associated with samples if available.\n",
      "Done !\n",
      "reading maf..\n",
      "Summarizing..\n"
     ]
    },
    {
     "name": "stdout",
     "output_type": "stream",
     "text": [
      "                  ID summary    Mean Median\n",
      "1:        NCBI_Build  GRCh38      NA     NA\n",
      "2:            Center      BI      NA     NA\n",
      "3:           Samples     167      NA     NA\n",
      "4:            nGenes   77227      NA     NA\n",
      "5: Missense_Mutation   80376 481.293    240\n",
      "6:             total   80376 481.293    240\n"
     ]
    },
    {
     "name": "stderr",
     "output_type": "stream",
     "text": [
      "Gene Summary..\n"
     ]
    },
    {
     "name": "stdout",
     "output_type": "stream",
     "text": [
      "       Hugo_Symbol Missense_Mutation total MutatedSamples AlteredSamples\n",
      "    1:  BRAF_V600E                67    67             67             67\n",
      "    2:   NRAS_Q61R                29    29             29             29\n",
      "    3:  BRAF_V600M                11    11             11             11\n",
      "    4:   NRAS_Q61K                10    10             10             10\n",
      "    5:   NRAS_Q61L                10    10             10             10\n",
      "   ---                                                                  \n",
      "77223:   ZZZ3_P83H                 1     1              1              1\n",
      "77224:  ZZZ3_S381L                 1     1              1              1\n",
      "77225:    pk_E439K                 1     1              1              1\n",
      "77226:    pk_M497I                 1     1              1              1\n",
      "77227:    pk_S333F                 1     1              1              1\n"
     ]
    },
    {
     "name": "stderr",
     "output_type": "stream",
     "text": [
      "Checking clinical data..\n",
      "NOTE: Missing clinical data! It is strongly recommended to provide clinical data associated with samples if available.\n",
      "Done !\n"
     ]
    }
   ],
   "source": [
    "library(maftools)\n",
    "#mafNA = read.maf('mafNA.maf')\n",
    "mafI = read.maf('mafI.maf')\n",
    "mafII = read.maf('mafII.maf')\n",
    "mafIII = read.maf('mafIII.maf')\n",
    "mafIV = read.maf('mafIV.maf')"
   ]
  },
  {
   "cell_type": "code",
   "execution_count": 3,
   "metadata": {},
   "outputs": [
    {
     "data": {
      "text/html": [
       "<dl>\n",
       "\t<dt>$results</dt>\n",
       "\t\t<dd><table>\n",
       "<thead><tr><th scope=col>Hugo_Symbol</th><th scope=col>I stage</th><th scope=col>II stage</th><th scope=col>pval</th><th scope=col>or</th><th scope=col>ci.up</th><th scope=col>ci.low</th><th scope=col>adjPval</th></tr></thead>\n",
       "<tbody>\n",
       "\t<tr><td>BRAF_V600E</td><td>2         </td><td>7         </td><td>1         </td><td>0.7935265 </td><td>0.05719129</td><td>7.453547  </td><td>1         </td></tr>\n",
       "</tbody>\n",
       "</table>\n",
       "</dd>\n",
       "\t<dt>$SampleSummary</dt>\n",
       "\t\t<dd><table>\n",
       "<thead><tr><th scope=col>Cohort</th><th scope=col>SampleSize</th></tr></thead>\n",
       "<tbody>\n",
       "\t<tr><td>I stage </td><td> 6      </td></tr>\n",
       "\t<tr><td>II stage</td><td>18      </td></tr>\n",
       "</tbody>\n",
       "</table>\n",
       "</dd>\n",
       "</dl>\n"
      ],
      "text/latex": [
       "\\begin{description}\n",
       "\\item[\\$results] \\begin{tabular}{r|llllllll}\n",
       " Hugo\\_Symbol & I stage & II stage & pval & or & ci.up & ci.low & adjPval\\\\\n",
       "\\hline\n",
       "\t BRAF\\_V600E & 2            & 7            & 1            & 0.7935265    & 0.05719129   & 7.453547     & 1           \\\\\n",
       "\\end{tabular}\n",
       "\n",
       "\\item[\\$SampleSummary] \\begin{tabular}{r|ll}\n",
       " Cohort & SampleSize\\\\\n",
       "\\hline\n",
       "\t I stage  &  6      \\\\\n",
       "\t II stage & 18      \\\\\n",
       "\\end{tabular}\n",
       "\n",
       "\\end{description}\n"
      ],
      "text/markdown": [
       "$results\n",
       ":   \n",
       "Hugo_Symbol | I stage | II stage | pval | or | ci.up | ci.low | adjPval | \n",
       "|---|\n",
       "| BRAF_V600E | 2          | 7          | 1          | 0.7935265  | 0.05719129 | 7.453547   | 1          | \n",
       "\n",
       "\n",
       "\n",
       "$SampleSummary\n",
       ":   \n",
       "Cohort | SampleSize | \n",
       "|---|---|\n",
       "| I stage  |  6       | \n",
       "| II stage | 18       | \n",
       "\n",
       "\n",
       "\n",
       "\n",
       "\n"
      ],
      "text/plain": [
       "$results\n",
       "   Hugo_Symbol I stage II stage pval        or      ci.up   ci.low adjPval\n",
       "1:  BRAF_V600E       2        7    1 0.7935265 0.05719129 7.453547       1\n",
       "\n",
       "$SampleSummary\n",
       "     Cohort SampleSize\n",
       "1:  I stage          6\n",
       "2: II stage         18\n"
      ]
     },
     "metadata": {},
     "output_type": "display_data"
    }
   ],
   "source": [
    "mafCompare(m1 = mafI, m2 = mafII, m1Name = 'I stage', m2Name = 'II stage', minMut = 5)"
   ]
  },
  {
   "cell_type": "code",
   "execution_count": 4,
   "metadata": {},
   "outputs": [
    {
     "data": {
      "text/html": [
       "<dl>\n",
       "\t<dt>$results</dt>\n",
       "\t\t<dd><table>\n",
       "<thead><tr><th scope=col>Hugo_Symbol</th><th scope=col>I stage</th><th scope=col>III stage</th><th scope=col>pval</th><th scope=col>or</th><th scope=col>ci.up</th><th scope=col>ci.low</th><th scope=col>adjPval</th></tr></thead>\n",
       "<tbody>\n",
       "\t<tr><td>NRAS_Q61K   </td><td>2           </td><td> 6          </td><td>0.1029265   </td><td>5.6198629   </td><td>0.42693659  </td><td>50.186580   </td><td>0.5146323   </td></tr>\n",
       "\t<tr><td>BRAF_V600E  </td><td>2           </td><td>40          </td><td>0.4267570   </td><td>0.4542941   </td><td>0.03889457  </td><td> 3.387962   </td><td>0.6922618   </td></tr>\n",
       "\t<tr><td>NRAS_Q61R   </td><td>1           </td><td> 8          </td><td>0.5138520   </td><td>1.6869562   </td><td>0.03199075  </td><td>18.220665   </td><td>0.6922618   </td></tr>\n",
       "\t<tr><td>BRAF_V600M  </td><td>1           </td><td> 9          </td><td>0.5538094   </td><td>1.4807019   </td><td>0.02836504  </td><td>15.670004   </td><td>0.6922618   </td></tr>\n",
       "\t<tr><td>DNAH5_D3236N</td><td>0           </td><td> 5          </td><td>1.0000000   </td><td>0.0000000   </td><td>0.00000000  </td><td>16.121715   </td><td>1.0000000   </td></tr>\n",
       "</tbody>\n",
       "</table>\n",
       "</dd>\n",
       "\t<dt>$SampleSummary</dt>\n",
       "\t\t<dd><table>\n",
       "<thead><tr><th scope=col>Cohort</th><th scope=col>SampleSize</th></tr></thead>\n",
       "<tbody>\n",
       "\t<tr><td>I stage  </td><td> 6       </td></tr>\n",
       "\t<tr><td>III stage</td><td>76       </td></tr>\n",
       "</tbody>\n",
       "</table>\n",
       "</dd>\n",
       "</dl>\n"
      ],
      "text/latex": [
       "\\begin{description}\n",
       "\\item[\\$results] \\begin{tabular}{r|llllllll}\n",
       " Hugo\\_Symbol & I stage & III stage & pval & or & ci.up & ci.low & adjPval\\\\\n",
       "\\hline\n",
       "\t NRAS\\_Q61K    & 2              &  6             & 0.1029265      & 5.6198629      & 0.42693659     & 50.186580      & 0.5146323     \\\\\n",
       "\t BRAF\\_V600E   & 2              & 40             & 0.4267570      & 0.4542941      & 0.03889457     &  3.387962      & 0.6922618     \\\\\n",
       "\t NRAS\\_Q61R    & 1              &  8             & 0.5138520      & 1.6869562      & 0.03199075     & 18.220665      & 0.6922618     \\\\\n",
       "\t BRAF\\_V600M   & 1              &  9             & 0.5538094      & 1.4807019      & 0.02836504     & 15.670004      & 0.6922618     \\\\\n",
       "\t DNAH5\\_D3236N & 0              &  5             & 1.0000000      & 0.0000000      & 0.00000000     & 16.121715      & 1.0000000     \\\\\n",
       "\\end{tabular}\n",
       "\n",
       "\\item[\\$SampleSummary] \\begin{tabular}{r|ll}\n",
       " Cohort & SampleSize\\\\\n",
       "\\hline\n",
       "\t I stage   &  6       \\\\\n",
       "\t III stage & 76       \\\\\n",
       "\\end{tabular}\n",
       "\n",
       "\\end{description}\n"
      ],
      "text/markdown": [
       "$results\n",
       ":   \n",
       "Hugo_Symbol | I stage | III stage | pval | or | ci.up | ci.low | adjPval | \n",
       "|---|---|---|---|---|\n",
       "| NRAS_Q61K    | 2            |  6           | 0.1029265    | 5.6198629    | 0.42693659   | 50.186580    | 0.5146323    | \n",
       "| BRAF_V600E   | 2            | 40           | 0.4267570    | 0.4542941    | 0.03889457   |  3.387962    | 0.6922618    | \n",
       "| NRAS_Q61R    | 1            |  8           | 0.5138520    | 1.6869562    | 0.03199075   | 18.220665    | 0.6922618    | \n",
       "| BRAF_V600M   | 1            |  9           | 0.5538094    | 1.4807019    | 0.02836504   | 15.670004    | 0.6922618    | \n",
       "| DNAH5_D3236N | 0            |  5           | 1.0000000    | 0.0000000    | 0.00000000   | 16.121715    | 1.0000000    | \n",
       "\n",
       "\n",
       "\n",
       "$SampleSummary\n",
       ":   \n",
       "Cohort | SampleSize | \n",
       "|---|---|\n",
       "| I stage   |  6        | \n",
       "| III stage | 76        | \n",
       "\n",
       "\n",
       "\n",
       "\n",
       "\n"
      ],
      "text/plain": [
       "$results\n",
       "    Hugo_Symbol I stage III stage      pval        or      ci.up    ci.low\n",
       "1:    NRAS_Q61K       2         6 0.1029265 5.6198629 0.42693659 50.186580\n",
       "2:   BRAF_V600E       2        40 0.4267570 0.4542941 0.03889457  3.387962\n",
       "3:    NRAS_Q61R       1         8 0.5138520 1.6869562 0.03199075 18.220665\n",
       "4:   BRAF_V600M       1         9 0.5538094 1.4807019 0.02836504 15.670004\n",
       "5: DNAH5_D3236N       0         5 1.0000000 0.0000000 0.00000000 16.121715\n",
       "     adjPval\n",
       "1: 0.5146323\n",
       "2: 0.6922618\n",
       "3: 0.6922618\n",
       "4: 0.6922618\n",
       "5: 1.0000000\n",
       "\n",
       "$SampleSummary\n",
       "      Cohort SampleSize\n",
       "1:   I stage          6\n",
       "2: III stage         76\n"
      ]
     },
     "metadata": {},
     "output_type": "display_data"
    }
   ],
   "source": [
    "mafCompare(m1 = mafI, m2 = mafIII, m1Name = 'I stage', m2Name = 'III stage', minMut = 5)"
   ]
  },
  {
   "cell_type": "code",
   "execution_count": 5,
   "metadata": {},
   "outputs": [
    {
     "data": {
      "text/html": [
       "<dl>\n",
       "\t<dt>$results</dt>\n",
       "\t\t<dd><table>\n",
       "<thead><tr><th scope=col>Hugo_Symbol</th><th scope=col>I stage</th><th scope=col>IV stage</th><th scope=col>pval</th><th scope=col>or</th><th scope=col>ci.up</th><th scope=col>ci.low</th><th scope=col>adjPval</th></tr></thead>\n",
       "<tbody>\n",
       "\t<tr><td>NRAS_Q61K     </td><td>2             </td><td>10            </td><td>0.05676697    </td><td>7.6511447     </td><td>0.62240899    </td><td>61.482426     </td><td>1             </td></tr>\n",
       "\t<tr><td>BRAF_V600M    </td><td>1             </td><td>11            </td><td>0.35463003    </td><td>2.8109098     </td><td>0.05502277    </td><td>28.609399     </td><td>1             </td></tr>\n",
       "\t<tr><td>ASTN1_E502K   </td><td>0             </td><td> 5            </td><td>1.00000000    </td><td>0.0000000     </td><td>0.00000000    </td><td>36.258259     </td><td>1             </td></tr>\n",
       "\t<tr><td>CD1C_R89C     </td><td>0             </td><td> 5            </td><td>1.00000000    </td><td>0.0000000     </td><td>0.00000000    </td><td>36.258259     </td><td>1             </td></tr>\n",
       "\t<tr><td>CFAP54_S2372F </td><td>0             </td><td> 5            </td><td>1.00000000    </td><td>0.0000000     </td><td>0.00000000    </td><td>36.258259     </td><td>1             </td></tr>\n",
       "\t<tr><td>HBD_D48N      </td><td>0             </td><td> 5            </td><td>1.00000000    </td><td>0.0000000     </td><td>0.00000000    </td><td>36.258259     </td><td>1             </td></tr>\n",
       "\t<tr><td>OXA1L_L57F    </td><td>0             </td><td> 5            </td><td>1.00000000    </td><td>0.0000000     </td><td>0.00000000    </td><td>36.258259     </td><td>1             </td></tr>\n",
       "\t<tr><td>SMURF2_R427C  </td><td>0             </td><td> 5            </td><td>1.00000000    </td><td>0.0000000     </td><td>0.00000000    </td><td>36.258259     </td><td>1             </td></tr>\n",
       "\t<tr><td>SPANXB1_E72K  </td><td>0             </td><td> 5            </td><td>1.00000000    </td><td>0.0000000     </td><td>0.00000000    </td><td>36.258259     </td><td>1             </td></tr>\n",
       "\t<tr><td>TMEM176A_E228K</td><td>0             </td><td> 5            </td><td>1.00000000    </td><td>0.0000000     </td><td>0.00000000    </td><td>36.258259     </td><td>1             </td></tr>\n",
       "\t<tr><td>ZBED2_E157K   </td><td>0             </td><td> 5            </td><td>1.00000000    </td><td>0.0000000     </td><td>0.00000000    </td><td>36.258259     </td><td>1             </td></tr>\n",
       "\t<tr><td>BRAF_V600E    </td><td>2             </td><td>67            </td><td>1.00000000    </td><td>0.7474916     </td><td>0.06584712    </td><td> 5.384090     </td><td>1             </td></tr>\n",
       "\t<tr><td>CNTN5_S379F   </td><td>0             </td><td> 6            </td><td>1.00000000    </td><td>0.0000000     </td><td>0.00000000    </td><td>28.586228     </td><td>1             </td></tr>\n",
       "\t<tr><td>CNTNAP2_G362E </td><td>0             </td><td> 7            </td><td>1.00000000    </td><td>0.0000000     </td><td>0.00000000    </td><td>23.539482     </td><td>1             </td></tr>\n",
       "\t<tr><td>NRAS_Q61L     </td><td>0             </td><td>10            </td><td>1.00000000    </td><td>0.0000000     </td><td>0.00000000    </td><td>15.273847     </td><td>1             </td></tr>\n",
       "\t<tr><td>NRAS_Q61R     </td><td>1             </td><td>29            </td><td>1.00000000    </td><td>0.9519778     </td><td>0.01945952    </td><td> 8.979139     </td><td>1             </td></tr>\n",
       "\t<tr><td>RAC1_P29S     </td><td>0             </td><td> 8            </td><td>1.00000000    </td><td>0.0000000     </td><td>0.00000000    </td><td>19.991080     </td><td>1             </td></tr>\n",
       "\t<tr><td>RQCD1_P131L   </td><td>0             </td><td> 7            </td><td>1.00000000    </td><td>0.0000000     </td><td>0.00000000    </td><td>23.539482     </td><td>1             </td></tr>\n",
       "\t<tr><td>THSD7B_E1180K </td><td>0             </td><td> 6            </td><td>1.00000000    </td><td>0.0000000     </td><td>0.00000000    </td><td>28.586228     </td><td>1             </td></tr>\n",
       "\t<tr><td>XIRP2_E656K   </td><td>0             </td><td> 6            </td><td>1.00000000    </td><td>0.0000000     </td><td>0.00000000    </td><td>28.586228     </td><td>1             </td></tr>\n",
       "</tbody>\n",
       "</table>\n",
       "</dd>\n",
       "\t<dt>$SampleSummary</dt>\n",
       "\t\t<dd><table>\n",
       "<thead><tr><th scope=col>Cohort</th><th scope=col>SampleSize</th></tr></thead>\n",
       "<tbody>\n",
       "\t<tr><td>I stage </td><td>  6     </td></tr>\n",
       "\t<tr><td>IV stage</td><td>167     </td></tr>\n",
       "</tbody>\n",
       "</table>\n",
       "</dd>\n",
       "</dl>\n"
      ],
      "text/latex": [
       "\\begin{description}\n",
       "\\item[\\$results] \\begin{tabular}{r|llllllll}\n",
       " Hugo\\_Symbol & I stage & IV stage & pval & or & ci.up & ci.low & adjPval\\\\\n",
       "\\hline\n",
       "\t NRAS\\_Q61K      & 2                & 10               & 0.05676697       & 7.6511447        & 0.62240899       & 61.482426        & 1               \\\\\n",
       "\t BRAF\\_V600M     & 1                & 11               & 0.35463003       & 2.8109098        & 0.05502277       & 28.609399        & 1               \\\\\n",
       "\t ASTN1\\_E502K    & 0                &  5               & 1.00000000       & 0.0000000        & 0.00000000       & 36.258259        & 1               \\\\\n",
       "\t CD1C\\_R89C      & 0                &  5               & 1.00000000       & 0.0000000        & 0.00000000       & 36.258259        & 1               \\\\\n",
       "\t CFAP54\\_S2372F  & 0                &  5               & 1.00000000       & 0.0000000        & 0.00000000       & 36.258259        & 1               \\\\\n",
       "\t HBD\\_D48N       & 0                &  5               & 1.00000000       & 0.0000000        & 0.00000000       & 36.258259        & 1               \\\\\n",
       "\t OXA1L\\_L57F     & 0                &  5               & 1.00000000       & 0.0000000        & 0.00000000       & 36.258259        & 1               \\\\\n",
       "\t SMURF2\\_R427C   & 0                &  5               & 1.00000000       & 0.0000000        & 0.00000000       & 36.258259        & 1               \\\\\n",
       "\t SPANXB1\\_E72K   & 0                &  5               & 1.00000000       & 0.0000000        & 0.00000000       & 36.258259        & 1               \\\\\n",
       "\t TMEM176A\\_E228K & 0                &  5               & 1.00000000       & 0.0000000        & 0.00000000       & 36.258259        & 1               \\\\\n",
       "\t ZBED2\\_E157K    & 0                &  5               & 1.00000000       & 0.0000000        & 0.00000000       & 36.258259        & 1               \\\\\n",
       "\t BRAF\\_V600E     & 2                & 67               & 1.00000000       & 0.7474916        & 0.06584712       &  5.384090        & 1               \\\\\n",
       "\t CNTN5\\_S379F    & 0                &  6               & 1.00000000       & 0.0000000        & 0.00000000       & 28.586228        & 1               \\\\\n",
       "\t CNTNAP2\\_G362E  & 0                &  7               & 1.00000000       & 0.0000000        & 0.00000000       & 23.539482        & 1               \\\\\n",
       "\t NRAS\\_Q61L      & 0                & 10               & 1.00000000       & 0.0000000        & 0.00000000       & 15.273847        & 1               \\\\\n",
       "\t NRAS\\_Q61R      & 1                & 29               & 1.00000000       & 0.9519778        & 0.01945952       &  8.979139        & 1               \\\\\n",
       "\t RAC1\\_P29S      & 0                &  8               & 1.00000000       & 0.0000000        & 0.00000000       & 19.991080        & 1               \\\\\n",
       "\t RQCD1\\_P131L    & 0                &  7               & 1.00000000       & 0.0000000        & 0.00000000       & 23.539482        & 1               \\\\\n",
       "\t THSD7B\\_E1180K  & 0                &  6               & 1.00000000       & 0.0000000        & 0.00000000       & 28.586228        & 1               \\\\\n",
       "\t XIRP2\\_E656K    & 0                &  6               & 1.00000000       & 0.0000000        & 0.00000000       & 28.586228        & 1               \\\\\n",
       "\\end{tabular}\n",
       "\n",
       "\\item[\\$SampleSummary] \\begin{tabular}{r|ll}\n",
       " Cohort & SampleSize\\\\\n",
       "\\hline\n",
       "\t I stage  &   6     \\\\\n",
       "\t IV stage & 167     \\\\\n",
       "\\end{tabular}\n",
       "\n",
       "\\end{description}\n"
      ],
      "text/markdown": [
       "$results\n",
       ":   \n",
       "Hugo_Symbol | I stage | IV stage | pval | or | ci.up | ci.low | adjPval | \n",
       "|---|---|---|---|---|---|---|---|---|---|---|---|---|---|---|---|---|---|---|---|\n",
       "| NRAS_Q61K      | 2              | 10             | 0.05676697     | 7.6511447      | 0.62240899     | 61.482426      | 1              | \n",
       "| BRAF_V600M     | 1              | 11             | 0.35463003     | 2.8109098      | 0.05502277     | 28.609399      | 1              | \n",
       "| ASTN1_E502K    | 0              |  5             | 1.00000000     | 0.0000000      | 0.00000000     | 36.258259      | 1              | \n",
       "| CD1C_R89C      | 0              |  5             | 1.00000000     | 0.0000000      | 0.00000000     | 36.258259      | 1              | \n",
       "| CFAP54_S2372F  | 0              |  5             | 1.00000000     | 0.0000000      | 0.00000000     | 36.258259      | 1              | \n",
       "| HBD_D48N       | 0              |  5             | 1.00000000     | 0.0000000      | 0.00000000     | 36.258259      | 1              | \n",
       "| OXA1L_L57F     | 0              |  5             | 1.00000000     | 0.0000000      | 0.00000000     | 36.258259      | 1              | \n",
       "| SMURF2_R427C   | 0              |  5             | 1.00000000     | 0.0000000      | 0.00000000     | 36.258259      | 1              | \n",
       "| SPANXB1_E72K   | 0              |  5             | 1.00000000     | 0.0000000      | 0.00000000     | 36.258259      | 1              | \n",
       "| TMEM176A_E228K | 0              |  5             | 1.00000000     | 0.0000000      | 0.00000000     | 36.258259      | 1              | \n",
       "| ZBED2_E157K    | 0              |  5             | 1.00000000     | 0.0000000      | 0.00000000     | 36.258259      | 1              | \n",
       "| BRAF_V600E     | 2              | 67             | 1.00000000     | 0.7474916      | 0.06584712     |  5.384090      | 1              | \n",
       "| CNTN5_S379F    | 0              |  6             | 1.00000000     | 0.0000000      | 0.00000000     | 28.586228      | 1              | \n",
       "| CNTNAP2_G362E  | 0              |  7             | 1.00000000     | 0.0000000      | 0.00000000     | 23.539482      | 1              | \n",
       "| NRAS_Q61L      | 0              | 10             | 1.00000000     | 0.0000000      | 0.00000000     | 15.273847      | 1              | \n",
       "| NRAS_Q61R      | 1              | 29             | 1.00000000     | 0.9519778      | 0.01945952     |  8.979139      | 1              | \n",
       "| RAC1_P29S      | 0              |  8             | 1.00000000     | 0.0000000      | 0.00000000     | 19.991080      | 1              | \n",
       "| RQCD1_P131L    | 0              |  7             | 1.00000000     | 0.0000000      | 0.00000000     | 23.539482      | 1              | \n",
       "| THSD7B_E1180K  | 0              |  6             | 1.00000000     | 0.0000000      | 0.00000000     | 28.586228      | 1              | \n",
       "| XIRP2_E656K    | 0              |  6             | 1.00000000     | 0.0000000      | 0.00000000     | 28.586228      | 1              | \n",
       "\n",
       "\n",
       "\n",
       "$SampleSummary\n",
       ":   \n",
       "Cohort | SampleSize | \n",
       "|---|---|\n",
       "| I stage  |   6      | \n",
       "| IV stage | 167      | \n",
       "\n",
       "\n",
       "\n",
       "\n",
       "\n"
      ],
      "text/plain": [
       "$results\n",
       "       Hugo_Symbol I stage IV stage       pval        or      ci.up    ci.low\n",
       " 1:      NRAS_Q61K       2       10 0.05676697 7.6511447 0.62240899 61.482426\n",
       " 2:     BRAF_V600M       1       11 0.35463003 2.8109098 0.05502277 28.609399\n",
       " 3:    ASTN1_E502K       0        5 1.00000000 0.0000000 0.00000000 36.258259\n",
       " 4:      CD1C_R89C       0        5 1.00000000 0.0000000 0.00000000 36.258259\n",
       " 5:  CFAP54_S2372F       0        5 1.00000000 0.0000000 0.00000000 36.258259\n",
       " 6:       HBD_D48N       0        5 1.00000000 0.0000000 0.00000000 36.258259\n",
       " 7:     OXA1L_L57F       0        5 1.00000000 0.0000000 0.00000000 36.258259\n",
       " 8:   SMURF2_R427C       0        5 1.00000000 0.0000000 0.00000000 36.258259\n",
       " 9:   SPANXB1_E72K       0        5 1.00000000 0.0000000 0.00000000 36.258259\n",
       "10: TMEM176A_E228K       0        5 1.00000000 0.0000000 0.00000000 36.258259\n",
       "11:    ZBED2_E157K       0        5 1.00000000 0.0000000 0.00000000 36.258259\n",
       "12:     BRAF_V600E       2       67 1.00000000 0.7474916 0.06584712  5.384090\n",
       "13:    CNTN5_S379F       0        6 1.00000000 0.0000000 0.00000000 28.586228\n",
       "14:  CNTNAP2_G362E       0        7 1.00000000 0.0000000 0.00000000 23.539482\n",
       "15:      NRAS_Q61L       0       10 1.00000000 0.0000000 0.00000000 15.273847\n",
       "16:      NRAS_Q61R       1       29 1.00000000 0.9519778 0.01945952  8.979139\n",
       "17:      RAC1_P29S       0        8 1.00000000 0.0000000 0.00000000 19.991080\n",
       "18:    RQCD1_P131L       0        7 1.00000000 0.0000000 0.00000000 23.539482\n",
       "19:  THSD7B_E1180K       0        6 1.00000000 0.0000000 0.00000000 28.586228\n",
       "20:    XIRP2_E656K       0        6 1.00000000 0.0000000 0.00000000 28.586228\n",
       "    adjPval\n",
       " 1:       1\n",
       " 2:       1\n",
       " 3:       1\n",
       " 4:       1\n",
       " 5:       1\n",
       " 6:       1\n",
       " 7:       1\n",
       " 8:       1\n",
       " 9:       1\n",
       "10:       1\n",
       "11:       1\n",
       "12:       1\n",
       "13:       1\n",
       "14:       1\n",
       "15:       1\n",
       "16:       1\n",
       "17:       1\n",
       "18:       1\n",
       "19:       1\n",
       "20:       1\n",
       "\n",
       "$SampleSummary\n",
       "     Cohort SampleSize\n",
       "1:  I stage          6\n",
       "2: IV stage        167\n"
      ]
     },
     "metadata": {},
     "output_type": "display_data"
    }
   ],
   "source": [
    "mafCompare(m1 = mafI, m2 = mafIV, m1Name = 'I stage', m2Name = 'IV stage', minMut = 5)"
   ]
  },
  {
   "cell_type": "code",
   "execution_count": 6,
   "metadata": {},
   "outputs": [
    {
     "data": {
      "text/html": [
       "<dl>\n",
       "\t<dt>$results</dt>\n",
       "\t\t<dd><table>\n",
       "<thead><tr><th scope=col>Hugo_Symbol</th><th scope=col>II stage</th><th scope=col>III stage</th><th scope=col>pval</th><th scope=col>or</th><th scope=col>ci.up</th><th scope=col>ci.low</th><th scope=col>adjPval</th></tr></thead>\n",
       "<tbody>\n",
       "\t<tr><td>BRAF_V600M  </td><td>0           </td><td> 9          </td><td>0.1987363   </td><td>0.0000000   </td><td>0.0000000   </td><td>2.105010    </td><td>0.9936817   </td></tr>\n",
       "\t<tr><td>BRAF_V600E  </td><td>7           </td><td>40          </td><td>0.4323269   </td><td>0.5761346   </td><td>0.1697537   </td><td>1.832782    </td><td>1.0000000   </td></tr>\n",
       "\t<tr><td>NRAS_Q61K   </td><td>2           </td><td> 6          </td><td>0.6464862   </td><td>1.4519187   </td><td>0.1317430   </td><td>9.152706    </td><td>1.0000000   </td></tr>\n",
       "\t<tr><td>DNAH5_D3236N</td><td>1           </td><td> 5          </td><td>1.0000000   </td><td>0.8368188   </td><td>0.0166955   </td><td>8.220094    </td><td>1.0000000   </td></tr>\n",
       "\t<tr><td>NRAS_Q61R   </td><td>2           </td><td> 8          </td><td>1.0000000   </td><td>1.0618119   </td><td>0.1005920   </td><td>6.082296    </td><td>1.0000000   </td></tr>\n",
       "</tbody>\n",
       "</table>\n",
       "</dd>\n",
       "\t<dt>$SampleSummary</dt>\n",
       "\t\t<dd><table>\n",
       "<thead><tr><th scope=col>Cohort</th><th scope=col>SampleSize</th></tr></thead>\n",
       "<tbody>\n",
       "\t<tr><td>II stage </td><td>18       </td></tr>\n",
       "\t<tr><td>III stage</td><td>76       </td></tr>\n",
       "</tbody>\n",
       "</table>\n",
       "</dd>\n",
       "</dl>\n"
      ],
      "text/latex": [
       "\\begin{description}\n",
       "\\item[\\$results] \\begin{tabular}{r|llllllll}\n",
       " Hugo\\_Symbol & II stage & III stage & pval & or & ci.up & ci.low & adjPval\\\\\n",
       "\\hline\n",
       "\t BRAF\\_V600M   & 0              &  9             & 0.1987363      & 0.0000000      & 0.0000000      & 2.105010       & 0.9936817     \\\\\n",
       "\t BRAF\\_V600E   & 7              & 40             & 0.4323269      & 0.5761346      & 0.1697537      & 1.832782       & 1.0000000     \\\\\n",
       "\t NRAS\\_Q61K    & 2              &  6             & 0.6464862      & 1.4519187      & 0.1317430      & 9.152706       & 1.0000000     \\\\\n",
       "\t DNAH5\\_D3236N & 1              &  5             & 1.0000000      & 0.8368188      & 0.0166955      & 8.220094       & 1.0000000     \\\\\n",
       "\t NRAS\\_Q61R    & 2              &  8             & 1.0000000      & 1.0618119      & 0.1005920      & 6.082296       & 1.0000000     \\\\\n",
       "\\end{tabular}\n",
       "\n",
       "\\item[\\$SampleSummary] \\begin{tabular}{r|ll}\n",
       " Cohort & SampleSize\\\\\n",
       "\\hline\n",
       "\t II stage  & 18       \\\\\n",
       "\t III stage & 76       \\\\\n",
       "\\end{tabular}\n",
       "\n",
       "\\end{description}\n"
      ],
      "text/markdown": [
       "$results\n",
       ":   \n",
       "Hugo_Symbol | II stage | III stage | pval | or | ci.up | ci.low | adjPval | \n",
       "|---|---|---|---|---|\n",
       "| BRAF_V600M   | 0            |  9           | 0.1987363    | 0.0000000    | 0.0000000    | 2.105010     | 0.9936817    | \n",
       "| BRAF_V600E   | 7            | 40           | 0.4323269    | 0.5761346    | 0.1697537    | 1.832782     | 1.0000000    | \n",
       "| NRAS_Q61K    | 2            |  6           | 0.6464862    | 1.4519187    | 0.1317430    | 9.152706     | 1.0000000    | \n",
       "| DNAH5_D3236N | 1            |  5           | 1.0000000    | 0.8368188    | 0.0166955    | 8.220094     | 1.0000000    | \n",
       "| NRAS_Q61R    | 2            |  8           | 1.0000000    | 1.0618119    | 0.1005920    | 6.082296     | 1.0000000    | \n",
       "\n",
       "\n",
       "\n",
       "$SampleSummary\n",
       ":   \n",
       "Cohort | SampleSize | \n",
       "|---|---|\n",
       "| II stage  | 18        | \n",
       "| III stage | 76        | \n",
       "\n",
       "\n",
       "\n",
       "\n",
       "\n"
      ],
      "text/plain": [
       "$results\n",
       "    Hugo_Symbol II stage III stage      pval        or     ci.up   ci.low\n",
       "1:   BRAF_V600M        0         9 0.1987363 0.0000000 0.0000000 2.105010\n",
       "2:   BRAF_V600E        7        40 0.4323269 0.5761346 0.1697537 1.832782\n",
       "3:    NRAS_Q61K        2         6 0.6464862 1.4519187 0.1317430 9.152706\n",
       "4: DNAH5_D3236N        1         5 1.0000000 0.8368188 0.0166955 8.220094\n",
       "5:    NRAS_Q61R        2         8 1.0000000 1.0618119 0.1005920 6.082296\n",
       "     adjPval\n",
       "1: 0.9936817\n",
       "2: 1.0000000\n",
       "3: 1.0000000\n",
       "4: 1.0000000\n",
       "5: 1.0000000\n",
       "\n",
       "$SampleSummary\n",
       "      Cohort SampleSize\n",
       "1:  II stage         18\n",
       "2: III stage         76\n"
      ]
     },
     "metadata": {},
     "output_type": "display_data"
    }
   ],
   "source": [
    "mafCompare(m1 = mafII, m2 = mafIII, m1Name = 'II stage', m2Name = 'III stage', minMut = 5)"
   ]
  },
  {
   "cell_type": "code",
   "execution_count": 7,
   "metadata": {},
   "outputs": [
    {
     "data": {
      "text/html": [
       "<dl>\n",
       "\t<dt>$results</dt>\n",
       "\t\t<dd><table>\n",
       "<thead><tr><th scope=col>Hugo_Symbol</th><th scope=col>II stage</th><th scope=col>IV stage</th><th scope=col>pval</th><th scope=col>or</th><th scope=col>ci.up</th><th scope=col>ci.low</th><th scope=col>adjPval</th></tr></thead>\n",
       "<tbody>\n",
       "\t<tr><td>NRAS_Q61K     </td><td>2             </td><td>10            </td><td>0.3293618     </td><td>1.9535462     </td><td>0.19201364    </td><td>10.437557     </td><td>1             </td></tr>\n",
       "\t<tr><td>ASTN1_E502K   </td><td>1             </td><td> 5            </td><td>0.4637197     </td><td>1.8975493     </td><td>0.03808151    </td><td>18.463015     </td><td>1             </td></tr>\n",
       "\t<tr><td>CNTNAP2_G362E </td><td>1             </td><td> 7            </td><td>0.5664245     </td><td>1.3421381     </td><td>0.02819457    </td><td>11.528815     </td><td>1             </td></tr>\n",
       "\t<tr><td>NRAS_Q61L     </td><td>0             </td><td>10            </td><td>0.6016651     </td><td>0.0000000     </td><td>0.00000000    </td><td> 4.275190     </td><td>1             </td></tr>\n",
       "\t<tr><td>BRAF_V600M    </td><td>0             </td><td>11            </td><td>0.6043965     </td><td>0.0000000     </td><td>0.00000000    </td><td> 3.802407     </td><td>1             </td></tr>\n",
       "\t<tr><td>NRAS_Q61R     </td><td>2             </td><td>29            </td><td>0.7420769     </td><td>0.5962901     </td><td>0.06315962    </td><td> 2.764280     </td><td>1             </td></tr>\n",
       "\t<tr><td>BRAF_V600E    </td><td>7             </td><td>67            </td><td>1.0000000     </td><td>0.9500519     </td><td>0.29638822    </td><td> 2.843304     </td><td>1             </td></tr>\n",
       "\t<tr><td>CD1C_R89C     </td><td>0             </td><td> 5            </td><td>1.0000000     </td><td>0.0000000     </td><td>0.00000000    </td><td>10.559370     </td><td>1             </td></tr>\n",
       "\t<tr><td>CFAP54_S2372F </td><td>0             </td><td> 5            </td><td>1.0000000     </td><td>0.0000000     </td><td>0.00000000    </td><td>10.559370     </td><td>1             </td></tr>\n",
       "\t<tr><td>CNTN5_S379F   </td><td>0             </td><td> 6            </td><td>1.0000000     </td><td>0.0000000     </td><td>0.00000000    </td><td> 8.221613     </td><td>1             </td></tr>\n",
       "\t<tr><td>HBD_D48N      </td><td>0             </td><td> 5            </td><td>1.0000000     </td><td>0.0000000     </td><td>0.00000000    </td><td>10.559370     </td><td>1             </td></tr>\n",
       "\t<tr><td>OXA1L_L57F    </td><td>0             </td><td> 5            </td><td>1.0000000     </td><td>0.0000000     </td><td>0.00000000    </td><td>10.559370     </td><td>1             </td></tr>\n",
       "\t<tr><td>RAC1_P29S     </td><td>1             </td><td> 8            </td><td>1.0000000     </td><td>1.1680624     </td><td>0.02490110    </td><td> 9.661429     </td><td>1             </td></tr>\n",
       "\t<tr><td>RQCD1_P131L   </td><td>0             </td><td> 7            </td><td>1.0000000     </td><td>0.0000000     </td><td>0.00000000    </td><td> 6.708580     </td><td>1             </td></tr>\n",
       "\t<tr><td>SMURF2_R427C  </td><td>0             </td><td> 5            </td><td>1.0000000     </td><td>0.0000000     </td><td>0.00000000    </td><td>10.559370     </td><td>1             </td></tr>\n",
       "\t<tr><td>SPANXB1_E72K  </td><td>0             </td><td> 5            </td><td>1.0000000     </td><td>0.0000000     </td><td>0.00000000    </td><td>10.559370     </td><td>1             </td></tr>\n",
       "\t<tr><td>THSD7B_E1180K </td><td>0             </td><td> 6            </td><td>1.0000000     </td><td>0.0000000     </td><td>0.00000000    </td><td> 8.221613     </td><td>1             </td></tr>\n",
       "\t<tr><td>TMEM176A_E228K</td><td>0             </td><td> 5            </td><td>1.0000000     </td><td>0.0000000     </td><td>0.00000000    </td><td>10.559370     </td><td>1             </td></tr>\n",
       "\t<tr><td>XIRP2_E656K   </td><td>0             </td><td> 6            </td><td>1.0000000     </td><td>0.0000000     </td><td>0.00000000    </td><td> 8.221613     </td><td>1             </td></tr>\n",
       "\t<tr><td>ZBED2_E157K   </td><td>0             </td><td> 5            </td><td>1.0000000     </td><td>0.0000000     </td><td>0.00000000    </td><td>10.559370     </td><td>1             </td></tr>\n",
       "</tbody>\n",
       "</table>\n",
       "</dd>\n",
       "\t<dt>$SampleSummary</dt>\n",
       "\t\t<dd><table>\n",
       "<thead><tr><th scope=col>Cohort</th><th scope=col>SampleSize</th></tr></thead>\n",
       "<tbody>\n",
       "\t<tr><td>II stage</td><td> 18     </td></tr>\n",
       "\t<tr><td>IV stage</td><td>167     </td></tr>\n",
       "</tbody>\n",
       "</table>\n",
       "</dd>\n",
       "</dl>\n"
      ],
      "text/latex": [
       "\\begin{description}\n",
       "\\item[\\$results] \\begin{tabular}{r|llllllll}\n",
       " Hugo\\_Symbol & II stage & IV stage & pval & or & ci.up & ci.low & adjPval\\\\\n",
       "\\hline\n",
       "\t NRAS\\_Q61K      & 2                & 10               & 0.3293618        & 1.9535462        & 0.19201364       & 10.437557        & 1               \\\\\n",
       "\t ASTN1\\_E502K    & 1                &  5               & 0.4637197        & 1.8975493        & 0.03808151       & 18.463015        & 1               \\\\\n",
       "\t CNTNAP2\\_G362E  & 1                &  7               & 0.5664245        & 1.3421381        & 0.02819457       & 11.528815        & 1               \\\\\n",
       "\t NRAS\\_Q61L      & 0                & 10               & 0.6016651        & 0.0000000        & 0.00000000       &  4.275190        & 1               \\\\\n",
       "\t BRAF\\_V600M     & 0                & 11               & 0.6043965        & 0.0000000        & 0.00000000       &  3.802407        & 1               \\\\\n",
       "\t NRAS\\_Q61R      & 2                & 29               & 0.7420769        & 0.5962901        & 0.06315962       &  2.764280        & 1               \\\\\n",
       "\t BRAF\\_V600E     & 7                & 67               & 1.0000000        & 0.9500519        & 0.29638822       &  2.843304        & 1               \\\\\n",
       "\t CD1C\\_R89C      & 0                &  5               & 1.0000000        & 0.0000000        & 0.00000000       & 10.559370        & 1               \\\\\n",
       "\t CFAP54\\_S2372F  & 0                &  5               & 1.0000000        & 0.0000000        & 0.00000000       & 10.559370        & 1               \\\\\n",
       "\t CNTN5\\_S379F    & 0                &  6               & 1.0000000        & 0.0000000        & 0.00000000       &  8.221613        & 1               \\\\\n",
       "\t HBD\\_D48N       & 0                &  5               & 1.0000000        & 0.0000000        & 0.00000000       & 10.559370        & 1               \\\\\n",
       "\t OXA1L\\_L57F     & 0                &  5               & 1.0000000        & 0.0000000        & 0.00000000       & 10.559370        & 1               \\\\\n",
       "\t RAC1\\_P29S      & 1                &  8               & 1.0000000        & 1.1680624        & 0.02490110       &  9.661429        & 1               \\\\\n",
       "\t RQCD1\\_P131L    & 0                &  7               & 1.0000000        & 0.0000000        & 0.00000000       &  6.708580        & 1               \\\\\n",
       "\t SMURF2\\_R427C   & 0                &  5               & 1.0000000        & 0.0000000        & 0.00000000       & 10.559370        & 1               \\\\\n",
       "\t SPANXB1\\_E72K   & 0                &  5               & 1.0000000        & 0.0000000        & 0.00000000       & 10.559370        & 1               \\\\\n",
       "\t THSD7B\\_E1180K  & 0                &  6               & 1.0000000        & 0.0000000        & 0.00000000       &  8.221613        & 1               \\\\\n",
       "\t TMEM176A\\_E228K & 0                &  5               & 1.0000000        & 0.0000000        & 0.00000000       & 10.559370        & 1               \\\\\n",
       "\t XIRP2\\_E656K    & 0                &  6               & 1.0000000        & 0.0000000        & 0.00000000       &  8.221613        & 1               \\\\\n",
       "\t ZBED2\\_E157K    & 0                &  5               & 1.0000000        & 0.0000000        & 0.00000000       & 10.559370        & 1               \\\\\n",
       "\\end{tabular}\n",
       "\n",
       "\\item[\\$SampleSummary] \\begin{tabular}{r|ll}\n",
       " Cohort & SampleSize\\\\\n",
       "\\hline\n",
       "\t II stage &  18     \\\\\n",
       "\t IV stage & 167     \\\\\n",
       "\\end{tabular}\n",
       "\n",
       "\\end{description}\n"
      ],
      "text/markdown": [
       "$results\n",
       ":   \n",
       "Hugo_Symbol | II stage | IV stage | pval | or | ci.up | ci.low | adjPval | \n",
       "|---|---|---|---|---|---|---|---|---|---|---|---|---|---|---|---|---|---|---|---|\n",
       "| NRAS_Q61K      | 2              | 10             | 0.3293618      | 1.9535462      | 0.19201364     | 10.437557      | 1              | \n",
       "| ASTN1_E502K    | 1              |  5             | 0.4637197      | 1.8975493      | 0.03808151     | 18.463015      | 1              | \n",
       "| CNTNAP2_G362E  | 1              |  7             | 0.5664245      | 1.3421381      | 0.02819457     | 11.528815      | 1              | \n",
       "| NRAS_Q61L      | 0              | 10             | 0.6016651      | 0.0000000      | 0.00000000     |  4.275190      | 1              | \n",
       "| BRAF_V600M     | 0              | 11             | 0.6043965      | 0.0000000      | 0.00000000     |  3.802407      | 1              | \n",
       "| NRAS_Q61R      | 2              | 29             | 0.7420769      | 0.5962901      | 0.06315962     |  2.764280      | 1              | \n",
       "| BRAF_V600E     | 7              | 67             | 1.0000000      | 0.9500519      | 0.29638822     |  2.843304      | 1              | \n",
       "| CD1C_R89C      | 0              |  5             | 1.0000000      | 0.0000000      | 0.00000000     | 10.559370      | 1              | \n",
       "| CFAP54_S2372F  | 0              |  5             | 1.0000000      | 0.0000000      | 0.00000000     | 10.559370      | 1              | \n",
       "| CNTN5_S379F    | 0              |  6             | 1.0000000      | 0.0000000      | 0.00000000     |  8.221613      | 1              | \n",
       "| HBD_D48N       | 0              |  5             | 1.0000000      | 0.0000000      | 0.00000000     | 10.559370      | 1              | \n",
       "| OXA1L_L57F     | 0              |  5             | 1.0000000      | 0.0000000      | 0.00000000     | 10.559370      | 1              | \n",
       "| RAC1_P29S      | 1              |  8             | 1.0000000      | 1.1680624      | 0.02490110     |  9.661429      | 1              | \n",
       "| RQCD1_P131L    | 0              |  7             | 1.0000000      | 0.0000000      | 0.00000000     |  6.708580      | 1              | \n",
       "| SMURF2_R427C   | 0              |  5             | 1.0000000      | 0.0000000      | 0.00000000     | 10.559370      | 1              | \n",
       "| SPANXB1_E72K   | 0              |  5             | 1.0000000      | 0.0000000      | 0.00000000     | 10.559370      | 1              | \n",
       "| THSD7B_E1180K  | 0              |  6             | 1.0000000      | 0.0000000      | 0.00000000     |  8.221613      | 1              | \n",
       "| TMEM176A_E228K | 0              |  5             | 1.0000000      | 0.0000000      | 0.00000000     | 10.559370      | 1              | \n",
       "| XIRP2_E656K    | 0              |  6             | 1.0000000      | 0.0000000      | 0.00000000     |  8.221613      | 1              | \n",
       "| ZBED2_E157K    | 0              |  5             | 1.0000000      | 0.0000000      | 0.00000000     | 10.559370      | 1              | \n",
       "\n",
       "\n",
       "\n",
       "$SampleSummary\n",
       ":   \n",
       "Cohort | SampleSize | \n",
       "|---|---|\n",
       "| II stage |  18      | \n",
       "| IV stage | 167      | \n",
       "\n",
       "\n",
       "\n",
       "\n",
       "\n"
      ],
      "text/plain": [
       "$results\n",
       "       Hugo_Symbol II stage IV stage      pval        or      ci.up    ci.low\n",
       " 1:      NRAS_Q61K        2       10 0.3293618 1.9535462 0.19201364 10.437557\n",
       " 2:    ASTN1_E502K        1        5 0.4637197 1.8975493 0.03808151 18.463015\n",
       " 3:  CNTNAP2_G362E        1        7 0.5664245 1.3421381 0.02819457 11.528815\n",
       " 4:      NRAS_Q61L        0       10 0.6016651 0.0000000 0.00000000  4.275190\n",
       " 5:     BRAF_V600M        0       11 0.6043965 0.0000000 0.00000000  3.802407\n",
       " 6:      NRAS_Q61R        2       29 0.7420769 0.5962901 0.06315962  2.764280\n",
       " 7:     BRAF_V600E        7       67 1.0000000 0.9500519 0.29638822  2.843304\n",
       " 8:      CD1C_R89C        0        5 1.0000000 0.0000000 0.00000000 10.559370\n",
       " 9:  CFAP54_S2372F        0        5 1.0000000 0.0000000 0.00000000 10.559370\n",
       "10:    CNTN5_S379F        0        6 1.0000000 0.0000000 0.00000000  8.221613\n",
       "11:       HBD_D48N        0        5 1.0000000 0.0000000 0.00000000 10.559370\n",
       "12:     OXA1L_L57F        0        5 1.0000000 0.0000000 0.00000000 10.559370\n",
       "13:      RAC1_P29S        1        8 1.0000000 1.1680624 0.02490110  9.661429\n",
       "14:    RQCD1_P131L        0        7 1.0000000 0.0000000 0.00000000  6.708580\n",
       "15:   SMURF2_R427C        0        5 1.0000000 0.0000000 0.00000000 10.559370\n",
       "16:   SPANXB1_E72K        0        5 1.0000000 0.0000000 0.00000000 10.559370\n",
       "17:  THSD7B_E1180K        0        6 1.0000000 0.0000000 0.00000000  8.221613\n",
       "18: TMEM176A_E228K        0        5 1.0000000 0.0000000 0.00000000 10.559370\n",
       "19:    XIRP2_E656K        0        6 1.0000000 0.0000000 0.00000000  8.221613\n",
       "20:    ZBED2_E157K        0        5 1.0000000 0.0000000 0.00000000 10.559370\n",
       "    adjPval\n",
       " 1:       1\n",
       " 2:       1\n",
       " 3:       1\n",
       " 4:       1\n",
       " 5:       1\n",
       " 6:       1\n",
       " 7:       1\n",
       " 8:       1\n",
       " 9:       1\n",
       "10:       1\n",
       "11:       1\n",
       "12:       1\n",
       "13:       1\n",
       "14:       1\n",
       "15:       1\n",
       "16:       1\n",
       "17:       1\n",
       "18:       1\n",
       "19:       1\n",
       "20:       1\n",
       "\n",
       "$SampleSummary\n",
       "     Cohort SampleSize\n",
       "1: II stage         18\n",
       "2: IV stage        167\n"
      ]
     },
     "metadata": {},
     "output_type": "display_data"
    }
   ],
   "source": [
    "mafCompare(m1 = mafII, m2 = mafIV, m1Name = 'II stage', m2Name = 'IV stage', minMut = 5)"
   ]
  },
  {
   "cell_type": "code",
   "execution_count": 8,
   "metadata": {},
   "outputs": [
    {
     "data": {
      "text/html": [
       "<dl>\n",
       "\t<dt>$results</dt>\n",
       "\t\t<dd><table>\n",
       "<thead><tr><th scope=col>Hugo_Symbol</th><th scope=col>III stage</th><th scope=col>IV stage</th><th scope=col>pval</th><th scope=col>or</th><th scope=col>ci.up</th><th scope=col>ci.low</th><th scope=col>adjPval</th></tr></thead>\n",
       "<tbody>\n",
       "\t<tr><td>DNAH5_D3236N  </td><td> 5            </td><td> 1            </td><td>0.01229524    </td><td>11.5656440    </td><td>1.262327899   </td><td>554.474075    </td><td>0.2582000     </td></tr>\n",
       "\t<tr><td>BRAF_V600E    </td><td>40            </td><td>67            </td><td>0.07202853    </td><td> 1.6548118    </td><td>0.925510446   </td><td>  2.971513    </td><td>0.5352478     </td></tr>\n",
       "\t<tr><td>CNTNAP2_G362E </td><td> 0            </td><td> 7            </td><td>0.10195196    </td><td> 0.0000000    </td><td>0.000000000   </td><td>  1.505120    </td><td>0.5352478     </td></tr>\n",
       "\t<tr><td>RQCD1_P131L   </td><td> 0            </td><td> 7            </td><td>0.10195196    </td><td> 0.0000000    </td><td>0.000000000   </td><td>  1.505120    </td><td>0.5352478     </td></tr>\n",
       "\t<tr><td>XIRP2_E656K   </td><td> 0            </td><td> 6            </td><td>0.18085783    </td><td> 0.0000000    </td><td>0.000000000   </td><td>  1.851053    </td><td>0.6234805     </td></tr>\n",
       "\t<tr><td>NRAS_Q61R     </td><td> 8            </td><td>29            </td><td>0.18405726    </td><td> 0.5610701    </td><td>0.210098822   </td><td>  1.344082    </td><td>0.6234805     </td></tr>\n",
       "\t<tr><td>BRAF_V600M    </td><td> 9            </td><td>11            </td><td>0.20782683    </td><td> 1.8996025    </td><td>0.662447388   </td><td>  5.310439    </td><td>0.6234805     </td></tr>\n",
       "\t<tr><td>HBD_D48N      </td><td> 0            </td><td> 5            </td><td>0.32861146    </td><td> 0.0000000    </td><td>0.000000000   </td><td>  2.388120    </td><td>0.6273492     </td></tr>\n",
       "\t<tr><td>SMURF2_R427C  </td><td> 0            </td><td> 5            </td><td>0.32861146    </td><td> 0.0000000    </td><td>0.000000000   </td><td>  2.388120    </td><td>0.6273492     </td></tr>\n",
       "\t<tr><td>SPANXB1_E72K  </td><td> 0            </td><td> 5            </td><td>0.32861146    </td><td> 0.0000000    </td><td>0.000000000   </td><td>  2.388120    </td><td>0.6273492     </td></tr>\n",
       "\t<tr><td>TMEM176A_E228K</td><td> 0            </td><td> 5            </td><td>0.32861146    </td><td> 0.0000000    </td><td>0.000000000   </td><td>  2.388120    </td><td>0.6273492     </td></tr>\n",
       "\t<tr><td>CNTN5_S379F   </td><td> 1            </td><td> 6            </td><td>0.43928099    </td><td> 0.3589821    </td><td>0.007681565   </td><td>  3.039587    </td><td>0.7687417     </td></tr>\n",
       "\t<tr><td>NRAS_Q61K     </td><td> 6            </td><td>10            </td><td>0.58441064    </td><td> 1.3440360    </td><td>0.385615279   </td><td>  4.271719    </td><td>0.8773961     </td></tr>\n",
       "\t<tr><td>ASTN1_E502K   </td><td> 1            </td><td> 5            </td><td>0.66849225    </td><td> 0.4332429    </td><td>0.009019514   </td><td>  3.969199    </td><td>0.8773961     </td></tr>\n",
       "\t<tr><td>CFAP54_S2372F </td><td> 1            </td><td> 5            </td><td>0.66849225    </td><td> 0.4332429    </td><td>0.009019514   </td><td>  3.969199    </td><td>0.8773961     </td></tr>\n",
       "\t<tr><td>ZBED2_E157K   </td><td> 1            </td><td> 5            </td><td>0.66849225    </td><td> 0.4332429    </td><td>0.009019514   </td><td>  3.969199    </td><td>0.8773961     </td></tr>\n",
       "\t<tr><td>NRAS_Q61L     </td><td> 3            </td><td>10            </td><td>0.75961426    </td><td> 0.6462780    </td><td>0.111047502   </td><td>  2.610345    </td><td>0.9383470     </td></tr>\n",
       "\t<tr><td>CD1C_R89C     </td><td> 2            </td><td> 5            </td><td>1.00000000    </td><td> 0.8761483    </td><td>0.081640067   </td><td>  5.503666    </td><td>1.0000000     </td></tr>\n",
       "\t<tr><td>OXA1L_L57F    </td><td> 2            </td><td> 5            </td><td>1.00000000    </td><td> 0.8761483    </td><td>0.081640067   </td><td>  5.503666    </td><td>1.0000000     </td></tr>\n",
       "\t<tr><td>RAC1_P29S     </td><td> 3            </td><td> 8            </td><td>1.00000000    </td><td> 0.8174556    </td><td>0.135767799   </td><td>  3.531912    </td><td>1.0000000     </td></tr>\n",
       "\t<tr><td>THSD7B_E1180K </td><td> 2            </td><td> 6            </td><td>1.00000000    </td><td> 0.7261139    </td><td>0.070087255   </td><td>  4.185104    </td><td>1.0000000     </td></tr>\n",
       "</tbody>\n",
       "</table>\n",
       "</dd>\n",
       "\t<dt>$SampleSummary</dt>\n",
       "\t\t<dd><table>\n",
       "<thead><tr><th scope=col>Cohort</th><th scope=col>SampleSize</th></tr></thead>\n",
       "<tbody>\n",
       "\t<tr><td>III stage</td><td> 76      </td></tr>\n",
       "\t<tr><td>IV stage </td><td>167      </td></tr>\n",
       "</tbody>\n",
       "</table>\n",
       "</dd>\n",
       "</dl>\n"
      ],
      "text/latex": [
       "\\begin{description}\n",
       "\\item[\\$results] \\begin{tabular}{r|llllllll}\n",
       " Hugo\\_Symbol & III stage & IV stage & pval & or & ci.up & ci.low & adjPval\\\\\n",
       "\\hline\n",
       "\t DNAH5\\_D3236N   &  5               &  1               & 0.01229524       & 11.5656440       & 1.262327899      & 554.474075       & 0.2582000       \\\\\n",
       "\t BRAF\\_V600E     & 40               & 67               & 0.07202853       &  1.6548118       & 0.925510446      &   2.971513       & 0.5352478       \\\\\n",
       "\t CNTNAP2\\_G362E  &  0               &  7               & 0.10195196       &  0.0000000       & 0.000000000      &   1.505120       & 0.5352478       \\\\\n",
       "\t RQCD1\\_P131L    &  0               &  7               & 0.10195196       &  0.0000000       & 0.000000000      &   1.505120       & 0.5352478       \\\\\n",
       "\t XIRP2\\_E656K    &  0               &  6               & 0.18085783       &  0.0000000       & 0.000000000      &   1.851053       & 0.6234805       \\\\\n",
       "\t NRAS\\_Q61R      &  8               & 29               & 0.18405726       &  0.5610701       & 0.210098822      &   1.344082       & 0.6234805       \\\\\n",
       "\t BRAF\\_V600M     &  9               & 11               & 0.20782683       &  1.8996025       & 0.662447388      &   5.310439       & 0.6234805       \\\\\n",
       "\t HBD\\_D48N       &  0               &  5               & 0.32861146       &  0.0000000       & 0.000000000      &   2.388120       & 0.6273492       \\\\\n",
       "\t SMURF2\\_R427C   &  0               &  5               & 0.32861146       &  0.0000000       & 0.000000000      &   2.388120       & 0.6273492       \\\\\n",
       "\t SPANXB1\\_E72K   &  0               &  5               & 0.32861146       &  0.0000000       & 0.000000000      &   2.388120       & 0.6273492       \\\\\n",
       "\t TMEM176A\\_E228K &  0               &  5               & 0.32861146       &  0.0000000       & 0.000000000      &   2.388120       & 0.6273492       \\\\\n",
       "\t CNTN5\\_S379F    &  1               &  6               & 0.43928099       &  0.3589821       & 0.007681565      &   3.039587       & 0.7687417       \\\\\n",
       "\t NRAS\\_Q61K      &  6               & 10               & 0.58441064       &  1.3440360       & 0.385615279      &   4.271719       & 0.8773961       \\\\\n",
       "\t ASTN1\\_E502K    &  1               &  5               & 0.66849225       &  0.4332429       & 0.009019514      &   3.969199       & 0.8773961       \\\\\n",
       "\t CFAP54\\_S2372F  &  1               &  5               & 0.66849225       &  0.4332429       & 0.009019514      &   3.969199       & 0.8773961       \\\\\n",
       "\t ZBED2\\_E157K    &  1               &  5               & 0.66849225       &  0.4332429       & 0.009019514      &   3.969199       & 0.8773961       \\\\\n",
       "\t NRAS\\_Q61L      &  3               & 10               & 0.75961426       &  0.6462780       & 0.111047502      &   2.610345       & 0.9383470       \\\\\n",
       "\t CD1C\\_R89C      &  2               &  5               & 1.00000000       &  0.8761483       & 0.081640067      &   5.503666       & 1.0000000       \\\\\n",
       "\t OXA1L\\_L57F     &  2               &  5               & 1.00000000       &  0.8761483       & 0.081640067      &   5.503666       & 1.0000000       \\\\\n",
       "\t RAC1\\_P29S      &  3               &  8               & 1.00000000       &  0.8174556       & 0.135767799      &   3.531912       & 1.0000000       \\\\\n",
       "\t THSD7B\\_E1180K  &  2               &  6               & 1.00000000       &  0.7261139       & 0.070087255      &   4.185104       & 1.0000000       \\\\\n",
       "\\end{tabular}\n",
       "\n",
       "\\item[\\$SampleSummary] \\begin{tabular}{r|ll}\n",
       " Cohort & SampleSize\\\\\n",
       "\\hline\n",
       "\t III stage &  76      \\\\\n",
       "\t IV stage  & 167      \\\\\n",
       "\\end{tabular}\n",
       "\n",
       "\\end{description}\n"
      ],
      "text/markdown": [
       "$results\n",
       ":   \n",
       "Hugo_Symbol | III stage | IV stage | pval | or | ci.up | ci.low | adjPval | \n",
       "|---|---|---|---|---|---|---|---|---|---|---|---|---|---|---|---|---|---|---|---|---|\n",
       "| DNAH5_D3236N   |  5             |  1             | 0.01229524     | 11.5656440     | 1.262327899    | 554.474075     | 0.2582000      | \n",
       "| BRAF_V600E     | 40             | 67             | 0.07202853     |  1.6548118     | 0.925510446    |   2.971513     | 0.5352478      | \n",
       "| CNTNAP2_G362E  |  0             |  7             | 0.10195196     |  0.0000000     | 0.000000000    |   1.505120     | 0.5352478      | \n",
       "| RQCD1_P131L    |  0             |  7             | 0.10195196     |  0.0000000     | 0.000000000    |   1.505120     | 0.5352478      | \n",
       "| XIRP2_E656K    |  0             |  6             | 0.18085783     |  0.0000000     | 0.000000000    |   1.851053     | 0.6234805      | \n",
       "| NRAS_Q61R      |  8             | 29             | 0.18405726     |  0.5610701     | 0.210098822    |   1.344082     | 0.6234805      | \n",
       "| BRAF_V600M     |  9             | 11             | 0.20782683     |  1.8996025     | 0.662447388    |   5.310439     | 0.6234805      | \n",
       "| HBD_D48N       |  0             |  5             | 0.32861146     |  0.0000000     | 0.000000000    |   2.388120     | 0.6273492      | \n",
       "| SMURF2_R427C   |  0             |  5             | 0.32861146     |  0.0000000     | 0.000000000    |   2.388120     | 0.6273492      | \n",
       "| SPANXB1_E72K   |  0             |  5             | 0.32861146     |  0.0000000     | 0.000000000    |   2.388120     | 0.6273492      | \n",
       "| TMEM176A_E228K |  0             |  5             | 0.32861146     |  0.0000000     | 0.000000000    |   2.388120     | 0.6273492      | \n",
       "| CNTN5_S379F    |  1             |  6             | 0.43928099     |  0.3589821     | 0.007681565    |   3.039587     | 0.7687417      | \n",
       "| NRAS_Q61K      |  6             | 10             | 0.58441064     |  1.3440360     | 0.385615279    |   4.271719     | 0.8773961      | \n",
       "| ASTN1_E502K    |  1             |  5             | 0.66849225     |  0.4332429     | 0.009019514    |   3.969199     | 0.8773961      | \n",
       "| CFAP54_S2372F  |  1             |  5             | 0.66849225     |  0.4332429     | 0.009019514    |   3.969199     | 0.8773961      | \n",
       "| ZBED2_E157K    |  1             |  5             | 0.66849225     |  0.4332429     | 0.009019514    |   3.969199     | 0.8773961      | \n",
       "| NRAS_Q61L      |  3             | 10             | 0.75961426     |  0.6462780     | 0.111047502    |   2.610345     | 0.9383470      | \n",
       "| CD1C_R89C      |  2             |  5             | 1.00000000     |  0.8761483     | 0.081640067    |   5.503666     | 1.0000000      | \n",
       "| OXA1L_L57F     |  2             |  5             | 1.00000000     |  0.8761483     | 0.081640067    |   5.503666     | 1.0000000      | \n",
       "| RAC1_P29S      |  3             |  8             | 1.00000000     |  0.8174556     | 0.135767799    |   3.531912     | 1.0000000      | \n",
       "| THSD7B_E1180K  |  2             |  6             | 1.00000000     |  0.7261139     | 0.070087255    |   4.185104     | 1.0000000      | \n",
       "\n",
       "\n",
       "\n",
       "$SampleSummary\n",
       ":   \n",
       "Cohort | SampleSize | \n",
       "|---|---|\n",
       "| III stage |  76       | \n",
       "| IV stage  | 167       | \n",
       "\n",
       "\n",
       "\n",
       "\n",
       "\n"
      ],
      "text/plain": [
       "$results\n",
       "       Hugo_Symbol III stage IV stage       pval         or       ci.up\n",
       " 1:   DNAH5_D3236N         5        1 0.01229524 11.5656440 1.262327899\n",
       " 2:     BRAF_V600E        40       67 0.07202853  1.6548118 0.925510446\n",
       " 3:  CNTNAP2_G362E         0        7 0.10195196  0.0000000 0.000000000\n",
       " 4:    RQCD1_P131L         0        7 0.10195196  0.0000000 0.000000000\n",
       " 5:    XIRP2_E656K         0        6 0.18085783  0.0000000 0.000000000\n",
       " 6:      NRAS_Q61R         8       29 0.18405726  0.5610701 0.210098822\n",
       " 7:     BRAF_V600M         9       11 0.20782683  1.8996025 0.662447388\n",
       " 8:       HBD_D48N         0        5 0.32861146  0.0000000 0.000000000\n",
       " 9:   SMURF2_R427C         0        5 0.32861146  0.0000000 0.000000000\n",
       "10:   SPANXB1_E72K         0        5 0.32861146  0.0000000 0.000000000\n",
       "11: TMEM176A_E228K         0        5 0.32861146  0.0000000 0.000000000\n",
       "12:    CNTN5_S379F         1        6 0.43928099  0.3589821 0.007681565\n",
       "13:      NRAS_Q61K         6       10 0.58441064  1.3440360 0.385615279\n",
       "14:    ASTN1_E502K         1        5 0.66849225  0.4332429 0.009019514\n",
       "15:  CFAP54_S2372F         1        5 0.66849225  0.4332429 0.009019514\n",
       "16:    ZBED2_E157K         1        5 0.66849225  0.4332429 0.009019514\n",
       "17:      NRAS_Q61L         3       10 0.75961426  0.6462780 0.111047502\n",
       "18:      CD1C_R89C         2        5 1.00000000  0.8761483 0.081640067\n",
       "19:     OXA1L_L57F         2        5 1.00000000  0.8761483 0.081640067\n",
       "20:      RAC1_P29S         3        8 1.00000000  0.8174556 0.135767799\n",
       "21:  THSD7B_E1180K         2        6 1.00000000  0.7261139 0.070087255\n",
       "       Hugo_Symbol III stage IV stage       pval         or       ci.up\n",
       "        ci.low   adjPval\n",
       " 1: 554.474075 0.2582000\n",
       " 2:   2.971513 0.5352478\n",
       " 3:   1.505120 0.5352478\n",
       " 4:   1.505120 0.5352478\n",
       " 5:   1.851053 0.6234805\n",
       " 6:   1.344082 0.6234805\n",
       " 7:   5.310439 0.6234805\n",
       " 8:   2.388120 0.6273492\n",
       " 9:   2.388120 0.6273492\n",
       "10:   2.388120 0.6273492\n",
       "11:   2.388120 0.6273492\n",
       "12:   3.039587 0.7687417\n",
       "13:   4.271719 0.8773961\n",
       "14:   3.969199 0.8773961\n",
       "15:   3.969199 0.8773961\n",
       "16:   3.969199 0.8773961\n",
       "17:   2.610345 0.9383470\n",
       "18:   5.503666 1.0000000\n",
       "19:   5.503666 1.0000000\n",
       "20:   3.531912 1.0000000\n",
       "21:   4.185104 1.0000000\n",
       "        ci.low   adjPval\n",
       "\n",
       "$SampleSummary\n",
       "      Cohort SampleSize\n",
       "1: III stage         76\n",
       "2:  IV stage        167\n"
      ]
     },
     "metadata": {},
     "output_type": "display_data"
    }
   ],
   "source": [
    "mafCompare(m1 = mafIII, m2 = mafIV, m1Name = 'III stage', m2Name = 'IV stage', minMut = 5)"
   ]
  }
 ],
 "metadata": {
  "kernelspec": {
   "display_name": "R",
   "language": "R",
   "name": "ir"
  },
  "language_info": {
   "codemirror_mode": "r",
   "file_extension": ".r",
   "mimetype": "text/x-r-source",
   "name": "R",
   "pygments_lexer": "r",
   "version": "3.4.4"
  }
 },
 "nbformat": 4,
 "nbformat_minor": 2
}
