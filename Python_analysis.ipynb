{
 "cells": [
  {
   "cell_type": "code",
   "execution_count": 8,
   "metadata": {},
   "outputs": [],
   "source": [
    "import pandas as pd"
   ]
  },
  {
   "cell_type": "code",
   "execution_count": 10,
   "metadata": {},
   "outputs": [
    {
     "name": "stderr",
     "output_type": "stream",
     "text": [
      "c:\\users\\user\\pymol\\lib\\site-packages\\IPython\\core\\interactiveshell.py:2714: DtypeWarning: Columns (87,88,98,118) have mixed types. Specify dtype option on import or set low_memory=False.\n",
      "  interactivity=interactivity, compiler=compiler, result=result)\n"
     ]
    },
    {
     "name": "stdout",
     "output_type": "stream",
     "text": [
      "       Hugo_Symbol  Entrez_Gene_Id Center NCBI_Build Chromosome  \\\n",
      "128436       ZNF99            7652     BI     GRCh38      chr19   \n",
      "131795       ZNF99            7652     BI     GRCh38      chr19   \n",
      "159706       ZNF99            7652     BI     GRCh38      chr19   \n",
      "199433       ZNF99            7652     BI     GRCh38      chr19   \n",
      "352244       ZNF99            7652     BI     GRCh38      chr19   \n",
      "\n",
      "        Start_Position  End_Position Strand Variant_Classification  \\\n",
      "128436        22769320      22769320      +      Missense_Mutation   \n",
      "131795        22769320      22769320      +      Missense_Mutation   \n",
      "159706        22769320      22769320      +      Missense_Mutation   \n",
      "199433        22769320      22769320      +      Missense_Mutation   \n",
      "352244        22769320      22769320      +      Missense_Mutation   \n",
      "\n",
      "       Variant_Type          ...           FILTER      CONTEXT  \\\n",
      "128436          SNP          ...             PASS  TCAACGATCCC   \n",
      "131795          SNP          ...             PASS  TCAACGATCCC   \n",
      "159706          SNP          ...             PASS  TCAACGATCCC   \n",
      "199433          SNP          ...             PASS  TCAACGATCCC   \n",
      "352244          SNP          ...             PASS  TCAACGATCCC   \n",
      "\n",
      "                                  src_vcf_id  \\\n",
      "128436  bf001700-0cb1-484f-8500-6c5d7afec3c0   \n",
      "131795  edd8224c-9ad4-4bec-954f-3653dc13d929   \n",
      "159706  a541e23e-fdd3-4c89-b63e-d6020f25d5ea   \n",
      "199433  8082128e-f556-4cef-859a-59c95f3d4beb   \n",
      "352244  63a2eeb5-3b05-46b4-8dd7-e93e330a3bee   \n",
      "\n",
      "                              tumor_bam_uuid  \\\n",
      "128436  8548b192-c293-41a1-9477-482cf7ae4f65   \n",
      "131795  9566ddd6-1c77-48b3-8720-2c6ed8b4b245   \n",
      "159706  a4693fd6-94bf-4e64-854f-1ffcc1204039   \n",
      "199433  9af37a2a-caa6-4f58-9be3-a174db411998   \n",
      "352244  a29b759f-2494-4c91-b2f3-fecb5d6794d3   \n",
      "\n",
      "                             normal_bam_uuid  \\\n",
      "128436  df8eb2c3-1344-486c-a462-fcfc74b90a9d   \n",
      "131795  4b629ec9-31b3-45db-b523-c2670b2b6597   \n",
      "159706  7cee3127-60f5-49b7-8d37-9cd84b1c90a9   \n",
      "199433  c9236e76-fd07-4946-b0b2-606464be1b34   \n",
      "352244  677eb919-ca1b-4ab5-b286-b1e6b3bbb67a   \n",
      "\n",
      "                                     case_id      GDC_FILTER       COSMIC  \\\n",
      "128436  46801be1-f035-421f-aae4-81baf3bb8d40  common_in_exac  COSM2748584   \n",
      "131795  db950f20-c869-4e1a-ada2-dbdc82b5865e  common_in_exac  COSM2748584   \n",
      "159706  ee143e06-0334-45dd-a2b0-1169527d6b4e  common_in_exac  COSM2748584   \n",
      "199433  7c6e2fe9-d1ff-4bf4-bda1-cc3615eb3584  common_in_exac  COSM2748584   \n",
      "352244  0bb8c284-412b-4bbc-a508-d0a21db376cd  common_in_exac  COSM2748584   \n",
      "\n",
      "        MC3_Overlap  GDC_Validation_Status  \n",
      "128436         True                Unknown  \n",
      "131795         True                Unknown  \n",
      "159706         True                Unknown  \n",
      "199433         True                Unknown  \n",
      "352244         True                Unknown  \n",
      "\n",
      "[5 rows x 120 columns]\n"
     ]
    }
   ],
   "source": [
    "maf = pd.read_csv('TCGA.maf', sep = '\\t')\n",
    "clinical = pd.read_csv('C:\\\\Users\\\\user\\\\Desktop\\\\Research\\\\Conferention\\\\DATA\\\\data_bcr_clinical_data_patient.txt', sep = '\\t')\n",
    "print(maf[(maf['Hugo_Symbol'] == 'ZNF99')&(maf['HGVSp_Short'] =='p.S3L')])\n",
    "maf = maf[maf['Variant_Classification'] == 'Missense_Mutation'] # обрезаем ненужные данные сразу\n",
    "barcode = []\n",
    "for ever in maf['Tumor_Sample_Barcode']:\n",
    "    barcode.append(ever[:12])\n",
    "maf['Tumor_Sample_Barcode'] = barcode\n",
    "del barcode\n",
    "symbol = list(maf['Hugo_Symbol'])\n",
    "descr = list(maf['HGVSp_Short'])\n",
    "newHS = []\n",
    "i = 0\n",
    "for ever in symbol:\n",
    "    newHS.append(str(ever) + '_' + str(descr[i])[2:])\n",
    "    i += 1\n",
    "maf['NewHS'] = newHS\n",
    "maf.to_csv('TCGA_SKCM.maf', sep = '\\t', index = False)"
   ]
  },
  {
   "cell_type": "code",
   "execution_count": 11,
   "metadata": {},
   "outputs": [
    {
     "name": "stdout",
     "output_type": "stream",
     "text": [
      "128436    TCGA-GF-A6C9\n",
      "131795    TCGA-W3-AA1O\n",
      "159706    TCGA-EB-A41A\n",
      "199433    TCGA-BF-AAP2\n",
      "352244    TCGA-ER-A19F\n",
      "Name: Tumor_Sample_Barcode, dtype: object\n",
      "11058     TCGA-FS-A1ZZ\n",
      "17365     TCGA-3N-A9WC\n",
      "56914     TCGA-EE-A2GO\n",
      "81252     TCGA-3N-A9WD\n",
      "130683    TCGA-EE-A3JD\n",
      "182411    TCGA-EE-A2MM\n",
      "266465    TCGA-GN-A4U4\n",
      "Name: Tumor_Sample_Barcode, dtype: object\n"
     ]
    }
   ],
   "source": [
    "print(maf[(maf['Hugo_Symbol'] == 'ZNF99')&(maf['HGVSp_Short'] =='p.S3L')]['Tumor_Sample_Barcode'])\n",
    "print(maf[(maf['Hugo_Symbol'] == 'MAGEC1')&(maf['HGVSp_Short'] =='p.E620K')]['Tumor_Sample_Barcode'])\n",
    "\n",
    "del maf"
   ]
  },
  {
   "cell_type": "code",
   "execution_count": 17,
   "metadata": {},
   "outputs": [],
   "source": [
    "maf = pd.read_csv('TCGA_SKCM.maf', sep = '\\t')\n",
    "\n",
    "mafNA = maf[maf.Tumor_Sample_Barcode.isin(list(clinical[clinical['CLARK_LEVEL_AT_DIAGNOSIS'] == '[Not Available]']['Tumor_Sample_Barcode']))]\n",
    "mafNA.to_csv('mafNA.maf', sep = '\\t', index = False)\n",
    "\n",
    "mafI = maf[maf.Tumor_Sample_Barcode.isin(list(clinical[clinical['CLARK_LEVEL_AT_DIAGNOSIS'] == 'I']['Tumor_Sample_Barcode']))]\n",
    "mafI.to_csv('mafI.maf', sep = '\\t', index = False)\n",
    "\n",
    "mafII = maf[maf.Tumor_Sample_Barcode.isin(list(clinical[clinical['CLARK_LEVEL_AT_DIAGNOSIS'] == 'II']['Tumor_Sample_Barcode']))]\n",
    "mafII.to_csv('mafII.maf', sep = '\\t', index = False)\n",
    "\n",
    "mafIII = maf[maf.Tumor_Sample_Barcode.isin(list(clinical[clinical['CLARK_LEVEL_AT_DIAGNOSIS'] == 'III']['Tumor_Sample_Barcode']))]\n",
    "mafIII.to_csv('mafIII.maf', sep = '\\t', index = False)\n",
    "\n",
    "mafIV = maf[maf.Tumor_Sample_Barcode.isin(list(clinical[clinical['CLARK_LEVEL_AT_DIAGNOSIS'] == 'IV']['Tumor_Sample_Barcode']))]\n",
    "mafIV.to_csv('mafIV.maf', sep = '\\t', index = False)"
   ]
  }
 ],
 "metadata": {
  "kernelspec": {
   "display_name": "Python 2",
   "language": "python",
   "name": "python2"
  }
 },
 "nbformat": 4,
 "nbformat_minor": 2
}
