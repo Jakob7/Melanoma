{
 "cells": [
  {
   "cell_type": "code",
   "execution_count": 1,
   "metadata": {
    "scrolled": true
   },
   "outputs": [
    {
     "name": "stderr",
     "output_type": "stream",
     "text": [
      "Loading required package: S4Vectors\n",
      "Loading required package: stats4\n",
      "Loading required package: BiocGenerics\n",
      "Loading required package: parallel\n",
      "\n",
      "Attaching package: 'BiocGenerics'\n",
      "\n",
      "The following objects are masked from 'package:parallel':\n",
      "\n",
      "    clusterApply, clusterApplyLB, clusterCall, clusterEvalQ,\n",
      "    clusterExport, clusterMap, parApply, parCapply, parLapply,\n",
      "    parLapplyLB, parRapply, parSapply, parSapplyLB\n",
      "\n",
      "The following objects are masked from 'package:stats':\n",
      "\n",
      "    IQR, mad, sd, var, xtabs\n",
      "\n",
      "The following objects are masked from 'package:base':\n",
      "\n",
      "    anyDuplicated, append, as.data.frame, cbind, colMeans, colnames,\n",
      "    colSums, do.call, duplicated, eval, evalq, Filter, Find, get, grep,\n",
      "    grepl, intersect, is.unsorted, lapply, lengths, Map, mapply, match,\n",
      "    mget, order, paste, pmax, pmax.int, pmin, pmin.int, Position, rank,\n",
      "    rbind, Reduce, rowMeans, rownames, rowSums, sapply, setdiff, sort,\n",
      "    table, tapply, union, unique, unsplit, which, which.max, which.min\n",
      "\n",
      "\n",
      "Attaching package: 'S4Vectors'\n",
      "\n",
      "The following object is masked from 'package:base':\n",
      "\n",
      "    expand.grid\n",
      "\n",
      "Loading required package: IRanges\n",
      "Loading required package: GenomicRanges\n",
      "Loading required package: GenomeInfoDb\n",
      "Loading required package: SummarizedExperiment\n",
      "Loading required package: Biobase\n",
      "Welcome to Bioconductor\n",
      "\n",
      "    Vignettes contain introductory material; view with\n",
      "    'browseVignettes()'. To cite Bioconductor, see\n",
      "    'citation(\"Biobase\")', and for packages 'citation(\"pkgname\")'.\n",
      "\n",
      "Loading required package: DelayedArray\n",
      "Loading required package: matrixStats\n",
      "\n",
      "Attaching package: 'matrixStats'\n",
      "\n",
      "The following objects are masked from 'package:Biobase':\n",
      "\n",
      "    anyMissing, rowMedians\n",
      "\n",
      "\n",
      "Attaching package: 'DelayedArray'\n",
      "\n",
      "The following objects are masked from 'package:matrixStats':\n",
      "\n",
      "    colMaxs, colMins, colRanges, rowMaxs, rowMins, rowRanges\n",
      "\n",
      "The following object is masked from 'package:base':\n",
      "\n",
      "    apply\n",
      "\n"
     ]
    }
   ],
   "source": [
    "setwd('C:\\\\Users\\\\user\\\\Desktop\\\\Курсовая\\\\WWND\\\\medium')\n",
    "library(DESeq2)"
   ]
  },
  {
   "cell_type": "code",
   "execution_count": 2,
   "metadata": {},
   "outputs": [],
   "source": [
    "data = read.table('rnaMu.csv', header=T, sep = ';', row.names = 1)\n",
    "meta = read.table('metaMu.csv', header=T, sep = '\\t', row.names = 1)"
   ]
  },
  {
   "cell_type": "code",
   "execution_count": 3,
   "metadata": {},
   "outputs": [
    {
     "data": {
      "text/html": [
       "<table>\n",
       "<thead><tr><th></th><th scope=col>TCGA.3N.A9WC</th><th scope=col>TCGA.3N.A9WD</th><th scope=col>TCGA.EE.A2GO</th><th scope=col>TCGA.EE.A2GP</th><th scope=col>TCGA.EE.A2GT</th><th scope=col>TCGA.EE.A2GU</th><th scope=col>TCGA.EE.A2M6</th><th scope=col>TCGA.EE.A2M8</th><th scope=col>TCGA.EE.A2MC</th><th scope=col>TCGA.EE.A2MF</th><th scope=col>...</th><th scope=col>TCGA.FW.A3R5</th><th scope=col>TCGA.FW.A5DX</th><th scope=col>TCGA.GF.A2C7</th><th scope=col>TCGA.GF.A769</th><th scope=col>TCGA.GN.A265</th><th scope=col>TCGA.GN.A266</th><th scope=col>TCGA.GN.A267</th><th scope=col>TCGA.GN.A26D</th><th scope=col>TCGA.GN.A4U3</th><th scope=col>TCGA.GN.A4U4</th></tr></thead>\n",
       "<tbody>\n",
       "\t<tr><th scope=row>ENSG00000000003</th><td>1846</td><td>3014</td><td>1207</td><td>2540</td><td>1978</td><td>2818</td><td>4364</td><td>1686</td><td> 644</td><td>3540</td><td>... </td><td> 137</td><td> 977</td><td>3011</td><td>2027</td><td>1048</td><td>2947</td><td>1144</td><td>3283</td><td> 716</td><td>2472</td></tr>\n",
       "\t<tr><th scope=row>ENSG00000000005</th><td>   2</td><td>  13</td><td>   3</td><td>   7</td><td>   0</td><td>   1</td><td>   5</td><td>   2</td><td>   0</td><td>   1</td><td>... </td><td>   1</td><td>   2</td><td>   1</td><td>   0</td><td>   4</td><td>   1</td><td>   1</td><td>   2</td><td>   0</td><td>   5</td></tr>\n",
       "\t<tr><th scope=row>ENSG00000000419</th><td>1407</td><td>1246</td><td>2811</td><td>1839</td><td> 755</td><td>4757</td><td>3065</td><td>1074</td><td>2947</td><td>2108</td><td>... </td><td>2275</td><td>3172</td><td>1937</td><td>2861</td><td>3432</td><td>1863</td><td>1113</td><td>2334</td><td>1349</td><td>1599</td></tr>\n",
       "\t<tr><th scope=row>ENSG00000000457</th><td>1133</td><td> 492</td><td>1011</td><td> 628</td><td> 531</td><td>1699</td><td> 656</td><td> 927</td><td> 688</td><td>1265</td><td>... </td><td> 791</td><td> 942</td><td>1174</td><td> 465</td><td> 593</td><td>1131</td><td> 626</td><td> 954</td><td> 930</td><td>1382</td></tr>\n",
       "\t<tr><th scope=row>ENSG00000000460</th><td> 659</td><td> 196</td><td> 615</td><td> 614</td><td> 433</td><td>1578</td><td>1090</td><td> 490</td><td> 713</td><td> 909</td><td>... </td><td>1425</td><td>1481</td><td>1296</td><td> 646</td><td> 875</td><td> 908</td><td> 444</td><td>1042</td><td> 783</td><td> 689</td></tr>\n",
       "\t<tr><th scope=row>ENSG00000000938</th><td> 628</td><td> 397</td><td> 138</td><td> 839</td><td>1050</td><td> 578</td><td>1391</td><td>1144</td><td>1055</td><td> 262</td><td>... </td><td> 483</td><td> 116</td><td>  90</td><td> 202</td><td>1132</td><td> 809</td><td> 123</td><td> 160</td><td> 306</td><td>  88</td></tr>\n",
       "</tbody>\n",
       "</table>\n"
      ],
      "text/latex": [
       "\\begin{tabular}{r|llllllllllllllllllllllllllllllllll}\n",
       "  & TCGA.3N.A9WC & TCGA.3N.A9WD & TCGA.EE.A2GO & TCGA.EE.A2GP & TCGA.EE.A2GT & TCGA.EE.A2GU & TCGA.EE.A2M6 & TCGA.EE.A2M8 & TCGA.EE.A2MC & TCGA.EE.A2MF & ... & TCGA.FW.A3R5 & TCGA.FW.A5DX & TCGA.GF.A2C7 & TCGA.GF.A769 & TCGA.GN.A265 & TCGA.GN.A266 & TCGA.GN.A267 & TCGA.GN.A26D & TCGA.GN.A4U3 & TCGA.GN.A4U4\\\\\n",
       "\\hline\n",
       "\tENSG00000000003 & 1846 & 3014 & 1207 & 2540 & 1978 & 2818 & 4364 & 1686 &  644 & 3540 & ...  &  137 &  977 & 3011 & 2027 & 1048 & 2947 & 1144 & 3283 &  716 & 2472\\\\\n",
       "\tENSG00000000005 &    2 &   13 &    3 &    7 &    0 &    1 &    5 &    2 &    0 &    1 & ...  &    1 &    2 &    1 &    0 &    4 &    1 &    1 &    2 &    0 &    5\\\\\n",
       "\tENSG00000000419 & 1407 & 1246 & 2811 & 1839 &  755 & 4757 & 3065 & 1074 & 2947 & 2108 & ...  & 2275 & 3172 & 1937 & 2861 & 3432 & 1863 & 1113 & 2334 & 1349 & 1599\\\\\n",
       "\tENSG00000000457 & 1133 &  492 & 1011 &  628 &  531 & 1699 &  656 &  927 &  688 & 1265 & ...  &  791 &  942 & 1174 &  465 &  593 & 1131 &  626 &  954 &  930 & 1382\\\\\n",
       "\tENSG00000000460 &  659 &  196 &  615 &  614 &  433 & 1578 & 1090 &  490 &  713 &  909 & ...  & 1425 & 1481 & 1296 &  646 &  875 &  908 &  444 & 1042 &  783 &  689\\\\\n",
       "\tENSG00000000938 &  628 &  397 &  138 &  839 & 1050 &  578 & 1391 & 1144 & 1055 &  262 & ...  &  483 &  116 &   90 &  202 & 1132 &  809 &  123 &  160 &  306 &   88\\\\\n",
       "\\end{tabular}\n"
      ],
      "text/markdown": [
       "\n",
       "| <!--/--> | TCGA.3N.A9WC | TCGA.3N.A9WD | TCGA.EE.A2GO | TCGA.EE.A2GP | TCGA.EE.A2GT | TCGA.EE.A2GU | TCGA.EE.A2M6 | TCGA.EE.A2M8 | TCGA.EE.A2MC | TCGA.EE.A2MF | ... | TCGA.FW.A3R5 | TCGA.FW.A5DX | TCGA.GF.A2C7 | TCGA.GF.A769 | TCGA.GN.A265 | TCGA.GN.A266 | TCGA.GN.A267 | TCGA.GN.A26D | TCGA.GN.A4U3 | TCGA.GN.A4U4 | \n",
       "|---|---|---|---|---|---|\n",
       "| ENSG00000000003 | 1846 | 3014 | 1207 | 2540 | 1978 | 2818 | 4364 | 1686 |  644 | 3540 | ...  |  137 |  977 | 3011 | 2027 | 1048 | 2947 | 1144 | 3283 |  716 | 2472 | \n",
       "| ENSG00000000005 |    2 |   13 |    3 |    7 |    0 |    1 |    5 |    2 |    0 |    1 | ...  |    1 |    2 |    1 |    0 |    4 |    1 |    1 |    2 |    0 |    5 | \n",
       "| ENSG00000000419 | 1407 | 1246 | 2811 | 1839 |  755 | 4757 | 3065 | 1074 | 2947 | 2108 | ...  | 2275 | 3172 | 1937 | 2861 | 3432 | 1863 | 1113 | 2334 | 1349 | 1599 | \n",
       "| ENSG00000000457 | 1133 |  492 | 1011 |  628 |  531 | 1699 |  656 |  927 |  688 | 1265 | ...  |  791 |  942 | 1174 |  465 |  593 | 1131 |  626 |  954 |  930 | 1382 | \n",
       "| ENSG00000000460 |  659 |  196 |  615 |  614 |  433 | 1578 | 1090 |  490 |  713 |  909 | ...  | 1425 | 1481 | 1296 |  646 |  875 |  908 |  444 | 1042 |  783 |  689 | \n",
       "| ENSG00000000938 |  628 |  397 |  138 |  839 | 1050 |  578 | 1391 | 1144 | 1055 |  262 | ...  |  483 |  116 |   90 |  202 | 1132 |  809 |  123 |  160 |  306 |   88 | \n",
       "\n",
       "\n"
      ],
      "text/plain": [
       "                TCGA.3N.A9WC TCGA.3N.A9WD TCGA.EE.A2GO TCGA.EE.A2GP\n",
       "ENSG00000000003 1846         3014         1207         2540        \n",
       "ENSG00000000005    2           13            3            7        \n",
       "ENSG00000000419 1407         1246         2811         1839        \n",
       "ENSG00000000457 1133          492         1011          628        \n",
       "ENSG00000000460  659          196          615          614        \n",
       "ENSG00000000938  628          397          138          839        \n",
       "                TCGA.EE.A2GT TCGA.EE.A2GU TCGA.EE.A2M6 TCGA.EE.A2M8\n",
       "ENSG00000000003 1978         2818         4364         1686        \n",
       "ENSG00000000005    0            1            5            2        \n",
       "ENSG00000000419  755         4757         3065         1074        \n",
       "ENSG00000000457  531         1699          656          927        \n",
       "ENSG00000000460  433         1578         1090          490        \n",
       "ENSG00000000938 1050          578         1391         1144        \n",
       "                TCGA.EE.A2MC TCGA.EE.A2MF ... TCGA.FW.A3R5 TCGA.FW.A5DX\n",
       "ENSG00000000003  644         3540         ...  137          977        \n",
       "ENSG00000000005    0            1         ...    1            2        \n",
       "ENSG00000000419 2947         2108         ... 2275         3172        \n",
       "ENSG00000000457  688         1265         ...  791          942        \n",
       "ENSG00000000460  713          909         ... 1425         1481        \n",
       "ENSG00000000938 1055          262         ...  483          116        \n",
       "                TCGA.GF.A2C7 TCGA.GF.A769 TCGA.GN.A265 TCGA.GN.A266\n",
       "ENSG00000000003 3011         2027         1048         2947        \n",
       "ENSG00000000005    1            0            4            1        \n",
       "ENSG00000000419 1937         2861         3432         1863        \n",
       "ENSG00000000457 1174          465          593         1131        \n",
       "ENSG00000000460 1296          646          875          908        \n",
       "ENSG00000000938   90          202         1132          809        \n",
       "                TCGA.GN.A267 TCGA.GN.A26D TCGA.GN.A4U3 TCGA.GN.A4U4\n",
       "ENSG00000000003 1144         3283          716         2472        \n",
       "ENSG00000000005    1            2            0            5        \n",
       "ENSG00000000419 1113         2334         1349         1599        \n",
       "ENSG00000000457  626          954          930         1382        \n",
       "ENSG00000000460  444         1042          783          689        \n",
       "ENSG00000000938  123          160          306           88        "
      ]
     },
     "metadata": {},
     "output_type": "display_data"
    },
    {
     "data": {
      "text/html": [
       "<table>\n",
       "<thead><tr><th></th><th scope=col>MAGEC1mut</th></tr></thead>\n",
       "<tbody>\n",
       "\t<tr><th scope=row>TCGA.3N.A9WC</th><td>mut </td></tr>\n",
       "\t<tr><th scope=row>TCGA.3N.A9WD</th><td>mut </td></tr>\n",
       "\t<tr><th scope=row>TCGA.EE.A2GO</th><td>mut </td></tr>\n",
       "\t<tr><th scope=row>TCGA.EE.A2GP</th><td>norm</td></tr>\n",
       "\t<tr><th scope=row>TCGA.EE.A2GT</th><td>norm</td></tr>\n",
       "\t<tr><th scope=row>TCGA.EE.A2GU</th><td>norm</td></tr>\n",
       "</tbody>\n",
       "</table>\n"
      ],
      "text/latex": [
       "\\begin{tabular}{r|l}\n",
       "  & MAGEC1mut\\\\\n",
       "\\hline\n",
       "\tTCGA.3N.A9WC & mut \\\\\n",
       "\tTCGA.3N.A9WD & mut \\\\\n",
       "\tTCGA.EE.A2GO & mut \\\\\n",
       "\tTCGA.EE.A2GP & norm\\\\\n",
       "\tTCGA.EE.A2GT & norm\\\\\n",
       "\tTCGA.EE.A2GU & norm\\\\\n",
       "\\end{tabular}\n"
      ],
      "text/markdown": [
       "\n",
       "| <!--/--> | MAGEC1mut | \n",
       "|---|---|---|---|---|---|\n",
       "| TCGA.3N.A9WC | mut  | \n",
       "| TCGA.3N.A9WD | mut  | \n",
       "| TCGA.EE.A2GO | mut  | \n",
       "| TCGA.EE.A2GP | norm | \n",
       "| TCGA.EE.A2GT | norm | \n",
       "| TCGA.EE.A2GU | norm | \n",
       "\n",
       "\n"
      ],
      "text/plain": [
       "             MAGEC1mut\n",
       "TCGA.3N.A9WC mut      \n",
       "TCGA.3N.A9WD mut      \n",
       "TCGA.EE.A2GO mut      \n",
       "TCGA.EE.A2GP norm     \n",
       "TCGA.EE.A2GT norm     \n",
       "TCGA.EE.A2GU norm     "
      ]
     },
     "metadata": {},
     "output_type": "display_data"
    }
   ],
   "source": [
    "head(data)\n",
    "head(meta)"
   ]
  },
  {
   "cell_type": "code",
   "execution_count": 4,
   "metadata": {},
   "outputs": [],
   "source": [
    "#data[,1] = as.numeric(data[,1])\n",
    "#colnames(data) <- NULL\n",
    "dds <- DESeqDataSetFromMatrix(countData = data, colData = meta, design = ~ MAGEC1mut)\n"
   ]
  },
  {
   "cell_type": "code",
   "execution_count": 5,
   "metadata": {},
   "outputs": [
    {
     "name": "stderr",
     "output_type": "stream",
     "text": [
      "estimating size factors\n",
      "estimating dispersions\n",
      "gene-wise dispersion estimates\n",
      "mean-dispersion relationship\n",
      "final dispersion estimates\n",
      "fitting model and testing\n",
      "-- replacing outliers and refitting for 3052 genes\n",
      "-- DESeq argument 'minReplicatesForReplace' = 7 \n",
      "-- original counts are preserved in counts(dds)\n",
      "estimating dispersions\n",
      "fitting model and testing\n"
     ]
    }
   ],
   "source": [
    "dds <- DESeq(dds)"
   ]
  },
  {
   "cell_type": "code",
   "execution_count": 27,
   "metadata": {},
   "outputs": [
    {
     "data": {
      "text/plain": [
       "log2 fold change (MLE): MAGEC1mut norm vs mut \n",
       "Wald test p-value: MAGEC1mut norm vs mut \n",
       "DataFrame with 60483 rows and 6 columns\n",
       "                   baseMean log2FoldChange     lfcSE      stat     pvalue\n",
       "                  <numeric>      <numeric> <numeric> <numeric>  <numeric>\n",
       "ENSG00000000003 2103.297928     -0.4216818 0.3454997 -1.220498 0.22227601\n",
       "ENSG00000000005    2.838987     -0.9671350 0.8867831 -1.090611 0.27544427\n",
       "ENSG00000000419 2067.503341      0.2607081 0.2216014  1.176473 0.23940591\n",
       "ENSG00000000457  888.837395     -0.3501400 0.1698052 -2.062010 0.03920677\n",
       "ENSG00000000460  793.658043      0.2429120 0.1987837  1.221991 0.22171088\n",
       "...                     ...            ...       ...       ...        ...\n",
       "ENSGR0000275287           0             NA        NA        NA         NA\n",
       "ENSGR0000276543           0             NA        NA        NA         NA\n",
       "ENSGR0000277120           0             NA        NA        NA         NA\n",
       "ENSGR0000280767           0             NA        NA        NA         NA\n",
       "ENSGR0000281849           0             NA        NA        NA         NA\n",
       "                     padj\n",
       "                <numeric>\n",
       "ENSG00000000003 0.7962175\n",
       "ENSG00000000005        NA\n",
       "ENSG00000000419 0.8097036\n",
       "ENSG00000000457 0.4916945\n",
       "ENSG00000000460 0.7962175\n",
       "...                   ...\n",
       "ENSGR0000275287        NA\n",
       "ENSGR0000276543        NA\n",
       "ENSGR0000277120        NA\n",
       "ENSGR0000280767        NA\n",
       "ENSGR0000281849        NA"
      ]
     },
     "metadata": {},
     "output_type": "display_data"
    }
   ],
   "source": [
    "results(dds)"
   ]
  },
  {
   "cell_type": "code",
   "execution_count": 6,
   "metadata": {},
   "outputs": [
    {
     "data": {
      "image/png": "[encoded data removed]",
      "text/plain": [
       "Plot with title \"ENSG00000213973\""
      ]
     },
     "metadata": {},
     "output_type": "display_data"
    }
   ],
   "source": [
    "plotCounts(dds, gene=\"ENSG00000213973\", intgroup=\"MAGEC1mut\") \n",
    "#Очень интересно.. У большого количества людей в норме ZNF99 не экспрессируется"
   ]
  },
  {
   "cell_type": "code",
   "execution_count": 7,
   "metadata": {},
   "outputs": [
    {
     "data": {
      "image/png": "[encoded data removed]",
      "text/plain": [
       "Plot with title \"ENSG00000155495\""
      ]
     },
     "metadata": {},
     "output_type": "display_data"
    }
   ],
   "source": [
    "plotCounts(dds, gene=\"ENSG00000155495\", intgroup=\"MAGEC1mut\") "
   ]
  },
  {
   "cell_type": "code",
   "execution_count": 8,
   "metadata": {},
   "outputs": [],
   "source": [
    "contrast_mut <-  c(\"MAGEC1mut\", \"mut\", \"norm\")\n",
    "res_tableMUT_unshrunken <- results(dds, contrast=contrast_mut, alpha = 0.05)\n",
    "res_tableMUT <- lfcShrink(dds, contrast=contrast_mut, res=res_tableMUT_unshrunken)"
   ]
  },
  {
   "cell_type": "code",
   "execution_count": 11,
   "metadata": {},
   "outputs": [
    {
     "data": {
      "text/plain": [
       "log2 fold change (MAP): ZNF99mut mut vs norm \n",
       "Wald test p-value: ZNF99mut mut vs norm \n",
       "DataFrame with 60483 rows and 6 columns\n",
       "                   baseMean log2FoldChange     lfcSE        stat     pvalue\n",
       "                  <numeric>      <numeric> <numeric>   <numeric>  <numeric>\n",
       "ENSG00000000003 2038.935612    -0.59099688 0.3291059 -1.79661952 0.07239604\n",
       "ENSG00000000005    5.036524    -1.64711130 0.7606526 -1.74221906 0.08147012\n",
       "ENSG00000000419 1582.654475    -0.02344406 0.2379372 -0.09853273 0.92150928\n",
       "ENSG00000000457  774.297406     0.10686573 0.2247010  0.47558358 0.63437107\n",
       "ENSG00000000460  628.682954     0.05719840 0.2999192  0.19070634 0.84875567\n",
       "...                     ...            ...       ...         ...        ...\n",
       "ENSGR0000275287           0             NA        NA          NA         NA\n",
       "ENSGR0000276543           0             NA        NA          NA         NA\n",
       "ENSGR0000277120           0             NA        NA          NA         NA\n",
       "ENSGR0000280767           0             NA        NA          NA         NA\n",
       "ENSGR0000281849           0             NA        NA          NA         NA\n",
       "                     padj\n",
       "                <numeric>\n",
       "ENSG00000000003 0.6328607\n",
       "ENSG00000000005 0.6519983\n",
       "ENSG00000000419 0.9939705\n",
       "ENSG00000000457 0.9648164\n",
       "ENSG00000000460 0.9898578\n",
       "...                   ...\n",
       "ENSGR0000275287        NA\n",
       "ENSGR0000276543        NA\n",
       "ENSGR0000277120        NA\n",
       "ENSGR0000280767        NA\n",
       "ENSGR0000281849        NA"
      ]
     },
     "metadata": {},
     "output_type": "display_data"
    }
   ],
   "source": [
    "res_tableMUT"
   ]
  },
  {
   "cell_type": "code",
   "execution_count": 9,
   "metadata": {},
   "outputs": [
    {
     "data": {
      "image/png": "[encoded data removed]",
      "text/plain": [
       "Plot with title \"\""
      ]
     },
     "metadata": {},
     "output_type": "display_data"
    }
   ],
   "source": [
    "plotMA(res_tableMUT, ylim=c(-3,3))"
   ]
  },
  {
   "cell_type": "code",
   "execution_count": 10,
   "metadata": {},
   "outputs": [],
   "source": [
    "write.csv(res_tableMUT, 'magr.csv')"
   ]
  },
  {
   "cell_type": "code",
   "execution_count": 11,
   "metadata": {
    "scrolled": true
   },
   "outputs": [
    {
     "data": {
      "text/html": [
       "<table>\n",
       "<thead><tr><th scope=col>id</th><th scope=col>baseMean</th><th scope=col>log2FoldChange</th><th scope=col>lfcSE</th><th scope=col>stat</th><th scope=col>pvalue</th><th scope=col>padj</th></tr></thead>\n",
       "<tbody>\n",
       "\t<tr><td>ENSG00000000003</td><td> 2103.297928   </td><td> 0.39424134    </td><td>0.3229022      </td><td> 1.22049835    </td><td>0.22227601     </td><td>0.7962175      </td></tr>\n",
       "\t<tr><td>ENSG00000000005</td><td>    2.838987   </td><td> 0.66722200    </td><td>0.6084679      </td><td> 1.09061058    </td><td>0.27544427     </td><td>       NA      </td></tr>\n",
       "\t<tr><td>ENSG00000000419</td><td> 2067.503341   </td><td>-0.25339982    </td><td>0.2153980      </td><td>-1.17647302    </td><td>0.23940591     </td><td>0.8097036      </td></tr>\n",
       "\t<tr><td>ENSG00000000457</td><td>  888.837395   </td><td> 0.34432793    </td><td>0.1669848      </td><td> 2.06201018    </td><td>0.03920677     </td><td>0.4916945      </td></tr>\n",
       "\t<tr><td>ENSG00000000460</td><td>  793.658043   </td><td>-0.23740965    </td><td>0.1942792      </td><td>-1.22199141    </td><td>0.22171088     </td><td>0.7962175      </td></tr>\n",
       "\t<tr><td>ENSG00000000938</td><td>  497.830641   </td><td>-0.19097639    </td><td>0.4359359      </td><td>-0.43845476    </td><td>0.66105666     </td><td>0.9579092      </td></tr>\n",
       "\t<tr><td>ENSG00000000971</td><td> 3116.221190   </td><td>-0.64305445    </td><td>0.5226384      </td><td>-1.23905690    </td><td>0.21532443     </td><td>0.7904770      </td></tr>\n",
       "\t<tr><td>ENSG00000001036</td><td> 4187.546945   </td><td>-0.44508307    </td><td>0.2610838      </td><td>-1.70503797    </td><td>0.08818734     </td><td>0.6369559      </td></tr>\n",
       "\t<tr><td>ENSG00000001084</td><td> 1825.738316   </td><td>-0.34069273    </td><td>0.2293079      </td><td>-1.48584185    </td><td>0.13732096     </td><td>0.7107239      </td></tr>\n",
       "\t<tr><td>ENSG00000001167</td><td> 3366.667220   </td><td>-0.54612894    </td><td>0.3043037      </td><td>-1.79536921    </td><td>0.07259489     </td><td>0.6041478      </td></tr>\n",
       "\t<tr><td>ENSG00000001460</td><td> 1359.486262   </td><td> 0.19820711    </td><td>0.3709888      </td><td> 0.53408070    </td><td>0.59328570     </td><td>0.9438877      </td></tr>\n",
       "\t<tr><td>ENSG00000001461</td><td> 6048.214544   </td><td> 0.31501303    </td><td>0.4246454      </td><td> 0.74105605    </td><td>0.45865946     </td><td>0.9097698      </td></tr>\n",
       "\t<tr><td>ENSG00000001497</td><td> 3341.198033   </td><td>-0.21693969    </td><td>0.1607893      </td><td>-1.34922650    </td><td>0.17726422     </td><td>0.7587441      </td></tr>\n",
       "\t<tr><td>ENSG00000001561</td><td>  498.609851   </td><td> 0.03800220    </td><td>0.5034212      </td><td> 0.07546563    </td><td>0.93984424     </td><td>0.9957623      </td></tr>\n",
       "\t<tr><td>ENSG00000001617</td><td>  668.710761   </td><td>-0.02242257    </td><td>0.3232106      </td><td>-0.06937780    </td><td>0.94468890     </td><td>0.9957623      </td></tr>\n",
       "\t<tr><td>ENSG00000001626</td><td>    8.600692   </td><td> 2.56084773    </td><td>0.5510641      </td><td>-0.12102292    </td><td>0.90367288     </td><td>0.9922323      </td></tr>\n",
       "\t<tr><td>ENSG00000001629</td><td> 4370.581125   </td><td> 0.14184314    </td><td>0.2284991      </td><td> 0.62074055    </td><td>0.53477035     </td><td>0.9303309      </td></tr>\n",
       "\t<tr><td>ENSG00000001630</td><td>  492.531947   </td><td>-0.29131175    </td><td>0.4764721      </td><td>-0.61243639    </td><td>0.54024907     </td><td>0.9325044      </td></tr>\n",
       "\t<tr><td>ENSG00000001631</td><td> 2382.313180   </td><td>-0.06656306    </td><td>0.2332047      </td><td>-0.28543200    </td><td>0.77531320     </td><td>0.9774282      </td></tr>\n",
       "\t<tr><td>ENSG00000002016</td><td>  513.509678   </td><td>-0.11815739    </td><td>0.3048803      </td><td>-0.38758081    </td><td>0.69832627     </td><td>0.9642672      </td></tr>\n",
       "\t<tr><td>ENSG00000002079</td><td>   14.002124   </td><td>-1.83952967    </td><td>0.4580704      </td><td>-1.90196586    </td><td>0.05717562     </td><td>0.5547966      </td></tr>\n",
       "\t<tr><td>ENSG00000002330</td><td> 1758.270841   </td><td>-0.11733416    </td><td>0.2664663      </td><td>-0.44035197    </td><td>0.65968220     </td><td>0.9578811      </td></tr>\n",
       "\t<tr><td>ENSG00000002549</td><td> 9644.350341   </td><td> 0.54305983    </td><td>0.3360017      </td><td> 1.61528064    </td><td>0.10624994     </td><td>0.6678379      </td></tr>\n",
       "\t<tr><td>ENSG00000002586</td><td>18915.122127   </td><td>-0.52886238    </td><td>0.2991090      </td><td>-1.76875402    </td><td>0.07693493     </td><td>0.6167139      </td></tr>\n",
       "\t<tr><td>ENSG00000002587</td><td>  355.996121   </td><td> 0.10377416    </td><td>0.4372345      </td><td> 0.23723793    </td><td>0.81247221     </td><td>0.9820725      </td></tr>\n",
       "\t<tr><td>ENSG00000002726</td><td>   24.295840   </td><td>-0.91737462    </td><td>0.5246035      </td><td>-1.76713030    </td><td>0.07720641     </td><td>0.6167915      </td></tr>\n",
       "\t<tr><td>ENSG00000002745</td><td>   25.103482   </td><td> 0.98901046    </td><td>0.5767696      </td><td> 1.68695821    </td><td>0.09161139     </td><td>0.6420128      </td></tr>\n",
       "\t<tr><td>ENSG00000002746</td><td>   39.189878   </td><td>-0.57532677    </td><td>0.6457481      </td><td>-0.92873795    </td><td>0.35302491     </td><td>0.8705892      </td></tr>\n",
       "\t<tr><td>ENSG00000002822</td><td> 4952.943235   </td><td>-0.62897253    </td><td>0.3025202      </td><td>-2.08001023    </td><td>0.03752459     </td><td>0.4824856      </td></tr>\n",
       "\t<tr><td>ENSG00000002834</td><td>17299.139819   </td><td> 0.03448592    </td><td>0.2269749      </td><td> 0.15193438    </td><td>0.87923869     </td><td>0.9893747      </td></tr>\n",
       "\t<tr><td>...</td><td>...</td><td>...</td><td>...</td><td>...</td><td>...</td><td>...</td></tr>\n",
       "\t<tr><td>ENSGR0000223274</td><td>0              </td><td>NA             </td><td>NA             </td><td>NA             </td><td>NA             </td><td>NA             </td></tr>\n",
       "\t<tr><td>ENSGR0000223484</td><td>0              </td><td>NA             </td><td>NA             </td><td>NA             </td><td>NA             </td><td>NA             </td></tr>\n",
       "\t<tr><td>ENSGR0000223511</td><td>0              </td><td>NA             </td><td>NA             </td><td>NA             </td><td>NA             </td><td>NA             </td></tr>\n",
       "\t<tr><td>ENSGR0000223571</td><td>0              </td><td>NA             </td><td>NA             </td><td>NA             </td><td>NA             </td><td>NA             </td></tr>\n",
       "\t<tr><td>ENSGR0000223773</td><td>0              </td><td>NA             </td><td>NA             </td><td>NA             </td><td>NA             </td><td>NA             </td></tr>\n",
       "\t<tr><td>ENSGR0000225661</td><td>0              </td><td>NA             </td><td>NA             </td><td>NA             </td><td>NA             </td><td>NA             </td></tr>\n",
       "\t<tr><td>ENSGR0000226179</td><td>0              </td><td>NA             </td><td>NA             </td><td>NA             </td><td>NA             </td><td>NA             </td></tr>\n",
       "\t<tr><td>ENSGR0000227159</td><td>0              </td><td>NA             </td><td>NA             </td><td>NA             </td><td>NA             </td><td>NA             </td></tr>\n",
       "\t<tr><td>ENSGR0000228410</td><td>0              </td><td>NA             </td><td>NA             </td><td>NA             </td><td>NA             </td><td>NA             </td></tr>\n",
       "\t<tr><td>ENSGR0000228572</td><td>0              </td><td>NA             </td><td>NA             </td><td>NA             </td><td>NA             </td><td>NA             </td></tr>\n",
       "\t<tr><td>ENSGR0000229232</td><td>0              </td><td>NA             </td><td>NA             </td><td>NA             </td><td>NA             </td><td>NA             </td></tr>\n",
       "\t<tr><td>ENSGR0000230542</td><td>0              </td><td>NA             </td><td>NA             </td><td>NA             </td><td>NA             </td><td>NA             </td></tr>\n",
       "\t<tr><td>ENSGR0000234622</td><td>0              </td><td>NA             </td><td>NA             </td><td>NA             </td><td>NA             </td><td>NA             </td></tr>\n",
       "\t<tr><td>ENSGR0000234958</td><td>0              </td><td>NA             </td><td>NA             </td><td>NA             </td><td>NA             </td><td>NA             </td></tr>\n",
       "\t<tr><td>ENSGR0000236017</td><td>0              </td><td>NA             </td><td>NA             </td><td>NA             </td><td>NA             </td><td>NA             </td></tr>\n",
       "\t<tr><td>ENSGR0000236871</td><td>0              </td><td>NA             </td><td>NA             </td><td>NA             </td><td>NA             </td><td>NA             </td></tr>\n",
       "\t<tr><td>ENSGR0000237040</td><td>0              </td><td>NA             </td><td>NA             </td><td>NA             </td><td>NA             </td><td>NA             </td></tr>\n",
       "\t<tr><td>ENSGR0000237531</td><td>0              </td><td>NA             </td><td>NA             </td><td>NA             </td><td>NA             </td><td>NA             </td></tr>\n",
       "\t<tr><td>ENSGR0000237801</td><td>0              </td><td>NA             </td><td>NA             </td><td>NA             </td><td>NA             </td><td>NA             </td></tr>\n",
       "\t<tr><td>ENSGR0000263835</td><td>0              </td><td>NA             </td><td>NA             </td><td>NA             </td><td>NA             </td><td>NA             </td></tr>\n",
       "\t<tr><td>ENSGR0000263980</td><td>0              </td><td>NA             </td><td>NA             </td><td>NA             </td><td>NA             </td><td>NA             </td></tr>\n",
       "\t<tr><td>ENSGR0000264510</td><td>0              </td><td>NA             </td><td>NA             </td><td>NA             </td><td>NA             </td><td>NA             </td></tr>\n",
       "\t<tr><td>ENSGR0000264819</td><td>0              </td><td>NA             </td><td>NA             </td><td>NA             </td><td>NA             </td><td>NA             </td></tr>\n",
       "\t<tr><td>ENSGR0000265658</td><td>0              </td><td>NA             </td><td>NA             </td><td>NA             </td><td>NA             </td><td>NA             </td></tr>\n",
       "\t<tr><td>ENSGR0000270726</td><td>0              </td><td>NA             </td><td>NA             </td><td>NA             </td><td>NA             </td><td>NA             </td></tr>\n",
       "\t<tr><td>ENSGR0000275287</td><td>0              </td><td>NA             </td><td>NA             </td><td>NA             </td><td>NA             </td><td>NA             </td></tr>\n",
       "\t<tr><td>ENSGR0000276543</td><td>0              </td><td>NA             </td><td>NA             </td><td>NA             </td><td>NA             </td><td>NA             </td></tr>\n",
       "\t<tr><td>ENSGR0000277120</td><td>0              </td><td>NA             </td><td>NA             </td><td>NA             </td><td>NA             </td><td>NA             </td></tr>\n",
       "\t<tr><td>ENSGR0000280767</td><td>0              </td><td>NA             </td><td>NA             </td><td>NA             </td><td>NA             </td><td>NA             </td></tr>\n",
       "\t<tr><td>ENSGR0000281849</td><td>0              </td><td>NA             </td><td>NA             </td><td>NA             </td><td>NA             </td><td>NA             </td></tr>\n",
       "</tbody>\n",
       "</table>\n"
      ],
      "text/latex": [
       "\\begin{tabular}{r|lllllll}\n",
       " id & baseMean & log2FoldChange & lfcSE & stat & pvalue & padj\\\\\n",
       "\\hline\n",
       "\t ENSG00000000003 &  2103.297928    &  0.39424134     & 0.3229022       &  1.22049835     & 0.22227601      & 0.7962175      \\\\\n",
       "\t ENSG00000000005 &     2.838987    &  0.66722200     & 0.6084679       &  1.09061058     & 0.27544427      &        NA      \\\\\n",
       "\t ENSG00000000419 &  2067.503341    & -0.25339982     & 0.2153980       & -1.17647302     & 0.23940591      & 0.8097036      \\\\\n",
       "\t ENSG00000000457 &   888.837395    &  0.34432793     & 0.1669848       &  2.06201018     & 0.03920677      & 0.4916945      \\\\\n",
       "\t ENSG00000000460 &   793.658043    & -0.23740965     & 0.1942792       & -1.22199141     & 0.22171088      & 0.7962175      \\\\\n",
       "\t ENSG00000000938 &   497.830641    & -0.19097639     & 0.4359359       & -0.43845476     & 0.66105666      & 0.9579092      \\\\\n",
       "\t ENSG00000000971 &  3116.221190    & -0.64305445     & 0.5226384       & -1.23905690     & 0.21532443      & 0.7904770      \\\\\n",
       "\t ENSG00000001036 &  4187.546945    & -0.44508307     & 0.2610838       & -1.70503797     & 0.08818734      & 0.6369559      \\\\\n",
       "\t ENSG00000001084 &  1825.738316    & -0.34069273     & 0.2293079       & -1.48584185     & 0.13732096      & 0.7107239      \\\\\n",
       "\t ENSG00000001167 &  3366.667220    & -0.54612894     & 0.3043037       & -1.79536921     & 0.07259489      & 0.6041478      \\\\\n",
       "\t ENSG00000001460 &  1359.486262    &  0.19820711     & 0.3709888       &  0.53408070     & 0.59328570      & 0.9438877      \\\\\n",
       "\t ENSG00000001461 &  6048.214544    &  0.31501303     & 0.4246454       &  0.74105605     & 0.45865946      & 0.9097698      \\\\\n",
       "\t ENSG00000001497 &  3341.198033    & -0.21693969     & 0.1607893       & -1.34922650     & 0.17726422      & 0.7587441      \\\\\n",
       "\t ENSG00000001561 &   498.609851    &  0.03800220     & 0.5034212       &  0.07546563     & 0.93984424      & 0.9957623      \\\\\n",
       "\t ENSG00000001617 &   668.710761    & -0.02242257     & 0.3232106       & -0.06937780     & 0.94468890      & 0.9957623      \\\\\n",
       "\t ENSG00000001626 &     8.600692    &  2.56084773     & 0.5510641       & -0.12102292     & 0.90367288      & 0.9922323      \\\\\n",
       "\t ENSG00000001629 &  4370.581125    &  0.14184314     & 0.2284991       &  0.62074055     & 0.53477035      & 0.9303309      \\\\\n",
       "\t ENSG00000001630 &   492.531947    & -0.29131175     & 0.4764721       & -0.61243639     & 0.54024907      & 0.9325044      \\\\\n",
       "\t ENSG00000001631 &  2382.313180    & -0.06656306     & 0.2332047       & -0.28543200     & 0.77531320      & 0.9774282      \\\\\n",
       "\t ENSG00000002016 &   513.509678    & -0.11815739     & 0.3048803       & -0.38758081     & 0.69832627      & 0.9642672      \\\\\n",
       "\t ENSG00000002079 &    14.002124    & -1.83952967     & 0.4580704       & -1.90196586     & 0.05717562      & 0.5547966      \\\\\n",
       "\t ENSG00000002330 &  1758.270841    & -0.11733416     & 0.2664663       & -0.44035197     & 0.65968220      & 0.9578811      \\\\\n",
       "\t ENSG00000002549 &  9644.350341    &  0.54305983     & 0.3360017       &  1.61528064     & 0.10624994      & 0.6678379      \\\\\n",
       "\t ENSG00000002586 & 18915.122127    & -0.52886238     & 0.2991090       & -1.76875402     & 0.07693493      & 0.6167139      \\\\\n",
       "\t ENSG00000002587 &   355.996121    &  0.10377416     & 0.4372345       &  0.23723793     & 0.81247221      & 0.9820725      \\\\\n",
       "\t ENSG00000002726 &    24.295840    & -0.91737462     & 0.5246035       & -1.76713030     & 0.07720641      & 0.6167915      \\\\\n",
       "\t ENSG00000002745 &    25.103482    &  0.98901046     & 0.5767696       &  1.68695821     & 0.09161139      & 0.6420128      \\\\\n",
       "\t ENSG00000002746 &    39.189878    & -0.57532677     & 0.6457481       & -0.92873795     & 0.35302491      & 0.8705892      \\\\\n",
       "\t ENSG00000002822 &  4952.943235    & -0.62897253     & 0.3025202       & -2.08001023     & 0.03752459      & 0.4824856      \\\\\n",
       "\t ENSG00000002834 & 17299.139819    &  0.03448592     & 0.2269749       &  0.15193438     & 0.87923869      & 0.9893747      \\\\\n",
       "\t ... & ... & ... & ... & ... & ... & ...\\\\\n",
       "\t ENSGR0000223274 & 0               & NA              & NA              & NA              & NA              & NA             \\\\\n",
       "\t ENSGR0000223484 & 0               & NA              & NA              & NA              & NA              & NA             \\\\\n",
       "\t ENSGR0000223511 & 0               & NA              & NA              & NA              & NA              & NA             \\\\\n",
       "\t ENSGR0000223571 & 0               & NA              & NA              & NA              & NA              & NA             \\\\\n",
       "\t ENSGR0000223773 & 0               & NA              & NA              & NA              & NA              & NA             \\\\\n",
       "\t ENSGR0000225661 & 0               & NA              & NA              & NA              & NA              & NA             \\\\\n",
       "\t ENSGR0000226179 & 0               & NA              & NA              & NA              & NA              & NA             \\\\\n",
       "\t ENSGR0000227159 & 0               & NA              & NA              & NA              & NA              & NA             \\\\\n",
       "\t ENSGR0000228410 & 0               & NA              & NA              & NA              & NA              & NA             \\\\\n",
       "\t ENSGR0000228572 & 0               & NA              & NA              & NA              & NA              & NA             \\\\\n",
       "\t ENSGR0000229232 & 0               & NA              & NA              & NA              & NA              & NA             \\\\\n",
       "\t ENSGR0000230542 & 0               & NA              & NA              & NA              & NA              & NA             \\\\\n",
       "\t ENSGR0000234622 & 0               & NA              & NA              & NA              & NA              & NA             \\\\\n",
       "\t ENSGR0000234958 & 0               & NA              & NA              & NA              & NA              & NA             \\\\\n",
       "\t ENSGR0000236017 & 0               & NA              & NA              & NA              & NA              & NA             \\\\\n",
       "\t ENSGR0000236871 & 0               & NA              & NA              & NA              & NA              & NA             \\\\\n",
       "\t ENSGR0000237040 & 0               & NA              & NA              & NA              & NA              & NA             \\\\\n",
       "\t ENSGR0000237531 & 0               & NA              & NA              & NA              & NA              & NA             \\\\\n",
       "\t ENSGR0000237801 & 0               & NA              & NA              & NA              & NA              & NA             \\\\\n",
       "\t ENSGR0000263835 & 0               & NA              & NA              & NA              & NA              & NA             \\\\\n",
       "\t ENSGR0000263980 & 0               & NA              & NA              & NA              & NA              & NA             \\\\\n",
       "\t ENSGR0000264510 & 0               & NA              & NA              & NA              & NA              & NA             \\\\\n",
       "\t ENSGR0000264819 & 0               & NA              & NA              & NA              & NA              & NA             \\\\\n",
       "\t ENSGR0000265658 & 0               & NA              & NA              & NA              & NA              & NA             \\\\\n",
       "\t ENSGR0000270726 & 0               & NA              & NA              & NA              & NA              & NA             \\\\\n",
       "\t ENSGR0000275287 & 0               & NA              & NA              & NA              & NA              & NA             \\\\\n",
       "\t ENSGR0000276543 & 0               & NA              & NA              & NA              & NA              & NA             \\\\\n",
       "\t ENSGR0000277120 & 0               & NA              & NA              & NA              & NA              & NA             \\\\\n",
       "\t ENSGR0000280767 & 0               & NA              & NA              & NA              & NA              & NA             \\\\\n",
       "\t ENSGR0000281849 & 0               & NA              & NA              & NA              & NA              & NA             \\\\\n",
       "\\end{tabular}\n"
      ],
      "text/markdown": [
       "\n",
       "id | baseMean | log2FoldChange | lfcSE | stat | pvalue | padj | \n",
       "|---|---|---|---|---|---|---|---|---|---|---|---|---|---|---|---|---|---|---|---|---|---|---|---|---|---|---|---|---|---|---|---|---|---|---|---|---|---|---|---|---|---|---|---|---|---|---|---|---|---|---|---|---|---|---|---|---|---|---|---|---|\n",
       "| ENSG00000000003 |  2103.297928    |  0.39424134     | 0.3229022       |  1.22049835     | 0.22227601      | 0.7962175       | \n",
       "| ENSG00000000005 |     2.838987    |  0.66722200     | 0.6084679       |  1.09061058     | 0.27544427      |        NA       | \n",
       "| ENSG00000000419 |  2067.503341    | -0.25339982     | 0.2153980       | -1.17647302     | 0.23940591      | 0.8097036       | \n",
       "| ENSG00000000457 |   888.837395    |  0.34432793     | 0.1669848       |  2.06201018     | 0.03920677      | 0.4916945       | \n",
       "| ENSG00000000460 |   793.658043    | -0.23740965     | 0.1942792       | -1.22199141     | 0.22171088      | 0.7962175       | \n",
       "| ENSG00000000938 |   497.830641    | -0.19097639     | 0.4359359       | -0.43845476     | 0.66105666      | 0.9579092       | \n",
       "| ENSG00000000971 |  3116.221190    | -0.64305445     | 0.5226384       | -1.23905690     | 0.21532443      | 0.7904770       | \n",
       "| ENSG00000001036 |  4187.546945    | -0.44508307     | 0.2610838       | -1.70503797     | 0.08818734      | 0.6369559       | \n",
       "| ENSG00000001084 |  1825.738316    | -0.34069273     | 0.2293079       | -1.48584185     | 0.13732096      | 0.7107239       | \n",
       "| ENSG00000001167 |  3366.667220    | -0.54612894     | 0.3043037       | -1.79536921     | 0.07259489      | 0.6041478       | \n",
       "| ENSG00000001460 |  1359.486262    |  0.19820711     | 0.3709888       |  0.53408070     | 0.59328570      | 0.9438877       | \n",
       "| ENSG00000001461 |  6048.214544    |  0.31501303     | 0.4246454       |  0.74105605     | 0.45865946      | 0.9097698       | \n",
       "| ENSG00000001497 |  3341.198033    | -0.21693969     | 0.1607893       | -1.34922650     | 0.17726422      | 0.7587441       | \n",
       "| ENSG00000001561 |   498.609851    |  0.03800220     | 0.5034212       |  0.07546563     | 0.93984424      | 0.9957623       | \n",
       "| ENSG00000001617 |   668.710761    | -0.02242257     | 0.3232106       | -0.06937780     | 0.94468890      | 0.9957623       | \n",
       "| ENSG00000001626 |     8.600692    |  2.56084773     | 0.5510641       | -0.12102292     | 0.90367288      | 0.9922323       | \n",
       "| ENSG00000001629 |  4370.581125    |  0.14184314     | 0.2284991       |  0.62074055     | 0.53477035      | 0.9303309       | \n",
       "| ENSG00000001630 |   492.531947    | -0.29131175     | 0.4764721       | -0.61243639     | 0.54024907      | 0.9325044       | \n",
       "| ENSG00000001631 |  2382.313180    | -0.06656306     | 0.2332047       | -0.28543200     | 0.77531320      | 0.9774282       | \n",
       "| ENSG00000002016 |   513.509678    | -0.11815739     | 0.3048803       | -0.38758081     | 0.69832627      | 0.9642672       | \n",
       "| ENSG00000002079 |    14.002124    | -1.83952967     | 0.4580704       | -1.90196586     | 0.05717562      | 0.5547966       | \n",
       "| ENSG00000002330 |  1758.270841    | -0.11733416     | 0.2664663       | -0.44035197     | 0.65968220      | 0.9578811       | \n",
       "| ENSG00000002549 |  9644.350341    |  0.54305983     | 0.3360017       |  1.61528064     | 0.10624994      | 0.6678379       | \n",
       "| ENSG00000002586 | 18915.122127    | -0.52886238     | 0.2991090       | -1.76875402     | 0.07693493      | 0.6167139       | \n",
       "| ENSG00000002587 |   355.996121    |  0.10377416     | 0.4372345       |  0.23723793     | 0.81247221      | 0.9820725       | \n",
       "| ENSG00000002726 |    24.295840    | -0.91737462     | 0.5246035       | -1.76713030     | 0.07720641      | 0.6167915       | \n",
       "| ENSG00000002745 |    25.103482    |  0.98901046     | 0.5767696       |  1.68695821     | 0.09161139      | 0.6420128       | \n",
       "| ENSG00000002746 |    39.189878    | -0.57532677     | 0.6457481       | -0.92873795     | 0.35302491      | 0.8705892       | \n",
       "| ENSG00000002822 |  4952.943235    | -0.62897253     | 0.3025202       | -2.08001023     | 0.03752459      | 0.4824856       | \n",
       "| ENSG00000002834 | 17299.139819    |  0.03448592     | 0.2269749       |  0.15193438     | 0.87923869      | 0.9893747       | \n",
       "| ... | ... | ... | ... | ... | ... | ... | \n",
       "| ENSGR0000223274 | 0               | NA              | NA              | NA              | NA              | NA              | \n",
       "| ENSGR0000223484 | 0               | NA              | NA              | NA              | NA              | NA              | \n",
       "| ENSGR0000223511 | 0               | NA              | NA              | NA              | NA              | NA              | \n",
       "| ENSGR0000223571 | 0               | NA              | NA              | NA              | NA              | NA              | \n",
       "| ENSGR0000223773 | 0               | NA              | NA              | NA              | NA              | NA              | \n",
       "| ENSGR0000225661 | 0               | NA              | NA              | NA              | NA              | NA              | \n",
       "| ENSGR0000226179 | 0               | NA              | NA              | NA              | NA              | NA              | \n",
       "| ENSGR0000227159 | 0               | NA              | NA              | NA              | NA              | NA              | \n",
       "| ENSGR0000228410 | 0               | NA              | NA              | NA              | NA              | NA              | \n",
       "| ENSGR0000228572 | 0               | NA              | NA              | NA              | NA              | NA              | \n",
       "| ENSGR0000229232 | 0               | NA              | NA              | NA              | NA              | NA              | \n",
       "| ENSGR0000230542 | 0               | NA              | NA              | NA              | NA              | NA              | \n",
       "| ENSGR0000234622 | 0               | NA              | NA              | NA              | NA              | NA              | \n",
       "| ENSGR0000234958 | 0               | NA              | NA              | NA              | NA              | NA              | \n",
       "| ENSGR0000236017 | 0               | NA              | NA              | NA              | NA              | NA              | \n",
       "| ENSGR0000236871 | 0               | NA              | NA              | NA              | NA              | NA              | \n",
       "| ENSGR0000237040 | 0               | NA              | NA              | NA              | NA              | NA              | \n",
       "| ENSGR0000237531 | 0               | NA              | NA              | NA              | NA              | NA              | \n",
       "| ENSGR0000237801 | 0               | NA              | NA              | NA              | NA              | NA              | \n",
       "| ENSGR0000263835 | 0               | NA              | NA              | NA              | NA              | NA              | \n",
       "| ENSGR0000263980 | 0               | NA              | NA              | NA              | NA              | NA              | \n",
       "| ENSGR0000264510 | 0               | NA              | NA              | NA              | NA              | NA              | \n",
       "| ENSGR0000264819 | 0               | NA              | NA              | NA              | NA              | NA              | \n",
       "| ENSGR0000265658 | 0               | NA              | NA              | NA              | NA              | NA              | \n",
       "| ENSGR0000270726 | 0               | NA              | NA              | NA              | NA              | NA              | \n",
       "| ENSGR0000275287 | 0               | NA              | NA              | NA              | NA              | NA              | \n",
       "| ENSGR0000276543 | 0               | NA              | NA              | NA              | NA              | NA              | \n",
       "| ENSGR0000277120 | 0               | NA              | NA              | NA              | NA              | NA              | \n",
       "| ENSGR0000280767 | 0               | NA              | NA              | NA              | NA              | NA              | \n",
       "| ENSGR0000281849 | 0               | NA              | NA              | NA              | NA              | NA              | \n",
       "\n",
       "\n"
      ],
      "text/plain": [
       "      id              baseMean     log2FoldChange lfcSE     stat       \n",
       "1     ENSG00000000003  2103.297928  0.39424134    0.3229022  1.22049835\n",
       "2     ENSG00000000005     2.838987  0.66722200    0.6084679  1.09061058\n",
       "3     ENSG00000000419  2067.503341 -0.25339982    0.2153980 -1.17647302\n",
       "4     ENSG00000000457   888.837395  0.34432793    0.1669848  2.06201018\n",
       "5     ENSG00000000460   793.658043 -0.23740965    0.1942792 -1.22199141\n",
       "6     ENSG00000000938   497.830641 -0.19097639    0.4359359 -0.43845476\n",
       "7     ENSG00000000971  3116.221190 -0.64305445    0.5226384 -1.23905690\n",
       "8     ENSG00000001036  4187.546945 -0.44508307    0.2610838 -1.70503797\n",
       "9     ENSG00000001084  1825.738316 -0.34069273    0.2293079 -1.48584185\n",
       "10    ENSG00000001167  3366.667220 -0.54612894    0.3043037 -1.79536921\n",
       "11    ENSG00000001460  1359.486262  0.19820711    0.3709888  0.53408070\n",
       "12    ENSG00000001461  6048.214544  0.31501303    0.4246454  0.74105605\n",
       "13    ENSG00000001497  3341.198033 -0.21693969    0.1607893 -1.34922650\n",
       "14    ENSG00000001561   498.609851  0.03800220    0.5034212  0.07546563\n",
       "15    ENSG00000001617   668.710761 -0.02242257    0.3232106 -0.06937780\n",
       "16    ENSG00000001626     8.600692  2.56084773    0.5510641 -0.12102292\n",
       "17    ENSG00000001629  4370.581125  0.14184314    0.2284991  0.62074055\n",
       "18    ENSG00000001630   492.531947 -0.29131175    0.4764721 -0.61243639\n",
       "19    ENSG00000001631  2382.313180 -0.06656306    0.2332047 -0.28543200\n",
       "20    ENSG00000002016   513.509678 -0.11815739    0.3048803 -0.38758081\n",
       "21    ENSG00000002079    14.002124 -1.83952967    0.4580704 -1.90196586\n",
       "22    ENSG00000002330  1758.270841 -0.11733416    0.2664663 -0.44035197\n",
       "23    ENSG00000002549  9644.350341  0.54305983    0.3360017  1.61528064\n",
       "24    ENSG00000002586 18915.122127 -0.52886238    0.2991090 -1.76875402\n",
       "25    ENSG00000002587   355.996121  0.10377416    0.4372345  0.23723793\n",
       "26    ENSG00000002726    24.295840 -0.91737462    0.5246035 -1.76713030\n",
       "27    ENSG00000002745    25.103482  0.98901046    0.5767696  1.68695821\n",
       "28    ENSG00000002746    39.189878 -0.57532677    0.6457481 -0.92873795\n",
       "29    ENSG00000002822  4952.943235 -0.62897253    0.3025202 -2.08001023\n",
       "30    ENSG00000002834 17299.139819  0.03448592    0.2269749  0.15193438\n",
       "...   ...             ...          ...            ...       ...        \n",
       "60454 ENSGR0000223274 0            NA             NA        NA         \n",
       "60455 ENSGR0000223484 0            NA             NA        NA         \n",
       "60456 ENSGR0000223511 0            NA             NA        NA         \n",
       "60457 ENSGR0000223571 0            NA             NA        NA         \n",
       "60458 ENSGR0000223773 0            NA             NA        NA         \n",
       "60459 ENSGR0000225661 0            NA             NA        NA         \n",
       "60460 ENSGR0000226179 0            NA             NA        NA         \n",
       "60461 ENSGR0000227159 0            NA             NA        NA         \n",
       "60462 ENSGR0000228410 0            NA             NA        NA         \n",
       "60463 ENSGR0000228572 0            NA             NA        NA         \n",
       "60464 ENSGR0000229232 0            NA             NA        NA         \n",
       "60465 ENSGR0000230542 0            NA             NA        NA         \n",
       "60466 ENSGR0000234622 0            NA             NA        NA         \n",
       "60467 ENSGR0000234958 0            NA             NA        NA         \n",
       "60468 ENSGR0000236017 0            NA             NA        NA         \n",
       "60469 ENSGR0000236871 0            NA             NA        NA         \n",
       "60470 ENSGR0000237040 0            NA             NA        NA         \n",
       "60471 ENSGR0000237531 0            NA             NA        NA         \n",
       "60472 ENSGR0000237801 0            NA             NA        NA         \n",
       "60473 ENSGR0000263835 0            NA             NA        NA         \n",
       "60474 ENSGR0000263980 0            NA             NA        NA         \n",
       "60475 ENSGR0000264510 0            NA             NA        NA         \n",
       "60476 ENSGR0000264819 0            NA             NA        NA         \n",
       "60477 ENSGR0000265658 0            NA             NA        NA         \n",
       "60478 ENSGR0000270726 0            NA             NA        NA         \n",
       "60479 ENSGR0000275287 0            NA             NA        NA         \n",
       "60480 ENSGR0000276543 0            NA             NA        NA         \n",
       "60481 ENSGR0000277120 0            NA             NA        NA         \n",
       "60482 ENSGR0000280767 0            NA             NA        NA         \n",
       "60483 ENSGR0000281849 0            NA             NA        NA         \n",
       "      pvalue     padj     \n",
       "1     0.22227601 0.7962175\n",
       "2     0.27544427        NA\n",
       "3     0.23940591 0.8097036\n",
       "4     0.03920677 0.4916945\n",
       "5     0.22171088 0.7962175\n",
       "6     0.66105666 0.9579092\n",
       "7     0.21532443 0.7904770\n",
       "8     0.08818734 0.6369559\n",
       "9     0.13732096 0.7107239\n",
       "10    0.07259489 0.6041478\n",
       "11    0.59328570 0.9438877\n",
       "12    0.45865946 0.9097698\n",
       "13    0.17726422 0.7587441\n",
       "14    0.93984424 0.9957623\n",
       "15    0.94468890 0.9957623\n",
       "16    0.90367288 0.9922323\n",
       "17    0.53477035 0.9303309\n",
       "18    0.54024907 0.9325044\n",
       "19    0.77531320 0.9774282\n",
       "20    0.69832627 0.9642672\n",
       "21    0.05717562 0.5547966\n",
       "22    0.65968220 0.9578811\n",
       "23    0.10624994 0.6678379\n",
       "24    0.07693493 0.6167139\n",
       "25    0.81247221 0.9820725\n",
       "26    0.07720641 0.6167915\n",
       "27    0.09161139 0.6420128\n",
       "28    0.35302491 0.8705892\n",
       "29    0.03752459 0.4824856\n",
       "30    0.87923869 0.9893747\n",
       "...   ...        ...      \n",
       "60454 NA         NA       \n",
       "60455 NA         NA       \n",
       "60456 NA         NA       \n",
       "60457 NA         NA       \n",
       "60458 NA         NA       \n",
       "60459 NA         NA       \n",
       "60460 NA         NA       \n",
       "60461 NA         NA       \n",
       "60462 NA         NA       \n",
       "60463 NA         NA       \n",
       "60464 NA         NA       \n",
       "60465 NA         NA       \n",
       "60466 NA         NA       \n",
       "60467 NA         NA       \n",
       "60468 NA         NA       \n",
       "60469 NA         NA       \n",
       "60470 NA         NA       \n",
       "60471 NA         NA       \n",
       "60472 NA         NA       \n",
       "60473 NA         NA       \n",
       "60474 NA         NA       \n",
       "60475 NA         NA       \n",
       "60476 NA         NA       \n",
       "60477 NA         NA       \n",
       "60478 NA         NA       \n",
       "60479 NA         NA       \n",
       "60480 NA         NA       \n",
       "60481 NA         NA       \n",
       "60482 NA         NA       \n",
       "60483 NA         NA       "
      ]
     },
     "metadata": {},
     "output_type": "display_data"
    }
   ],
   "source": [
    "results = read.table('magr.csv', sep = ',', header = T)\n",
    "results"
   ]
  },
  {
   "cell_type": "code",
   "execution_count": 24,
   "metadata": {},
   "outputs": [
    {
     "data": {
      "text/html": [
       "<ol class=list-inline>\n",
       "\t<li>'ENSG00000000003'</li>\n",
       "\t<li>'ENSG00000000005'</li>\n",
       "\t<li>'ENSG00000000419'</li>\n",
       "\t<li>'ENSG00000000457'</li>\n",
       "\t<li>'ENSG00000000460'</li>\n",
       "\t<li>'ENSG00000000938'</li>\n",
       "</ol>\n"
      ],
      "text/latex": [
       "\\begin{enumerate*}\n",
       "\\item 'ENSG00000000003'\n",
       "\\item 'ENSG00000000005'\n",
       "\\item 'ENSG00000000419'\n",
       "\\item 'ENSG00000000457'\n",
       "\\item 'ENSG00000000460'\n",
       "\\item 'ENSG00000000938'\n",
       "\\end{enumerate*}\n"
      ],
      "text/markdown": [
       "1. 'ENSG00000000003'\n",
       "2. 'ENSG00000000005'\n",
       "3. 'ENSG00000000419'\n",
       "4. 'ENSG00000000457'\n",
       "5. 'ENSG00000000460'\n",
       "6. 'ENSG00000000938'\n",
       "\n",
       "\n"
      ],
      "text/plain": [
       "[1] \"ENSG00000000003\" \"ENSG00000000005\" \"ENSG00000000419\" \"ENSG00000000457\"\n",
       "[5] \"ENSG00000000460\" \"ENSG00000000938\""
      ]
     },
     "metadata": {},
     "output_type": "display_data"
    },
    {
     "data": {
      "text/html": [
       "<ol class=list-inline>\n",
       "\t<li>'ENSG00000184454'</li>\n",
       "\t<li>'ENSG00000167588'</li>\n",
       "\t<li>'ENSG00000131771'</li>\n",
       "\t<li>'ENSG00000205649'</li>\n",
       "\t<li>'ENSG00000141750'</li>\n",
       "\t<li>'ENSG00000102383'</li>\n",
       "</ol>\n"
      ],
      "text/latex": [
       "\\begin{enumerate*}\n",
       "\\item 'ENSG00000184454'\n",
       "\\item 'ENSG00000167588'\n",
       "\\item 'ENSG00000131771'\n",
       "\\item 'ENSG00000205649'\n",
       "\\item 'ENSG00000141750'\n",
       "\\item 'ENSG00000102383'\n",
       "\\end{enumerate*}\n"
      ],
      "text/markdown": [
       "1. 'ENSG00000184454'\n",
       "2. 'ENSG00000167588'\n",
       "3. 'ENSG00000131771'\n",
       "4. 'ENSG00000205649'\n",
       "5. 'ENSG00000141750'\n",
       "6. 'ENSG00000102383'\n",
       "\n",
       "\n"
      ],
      "text/plain": [
       "[1] \"ENSG00000184454\" \"ENSG00000167588\" \"ENSG00000131771\" \"ENSG00000205649\"\n",
       "[5] \"ENSG00000141750\" \"ENSG00000102383\""
      ]
     },
     "metadata": {},
     "output_type": "display_data"
    }
   ],
   "source": [
    "all_genes <- as.character(results$id)\n",
    "sig_genes <- as.character(sdata$id)\n",
    "head(all_genes)\n",
    "head(sig_genes)"
   ]
  },
  {
   "cell_type": "code",
   "execution_count": 18,
   "metadata": {},
   "outputs": [
    {
     "data": {
      "text/html": [
       "<ol class=list-inline>\n",
       "\t<li>4.00055893944289</li>\n",
       "\t<li>3.93930119596232</li>\n",
       "\t<li>3.83678600298073</li>\n",
       "\t<li>3.37391301962977</li>\n",
       "\t<li>3.19403678598481</li>\n",
       "\t<li>3.13264212170184</li>\n",
       "</ol>\n"
      ],
      "text/latex": [
       "\\begin{enumerate*}\n",
       "\\item 4.00055893944289\n",
       "\\item 3.93930119596232\n",
       "\\item 3.83678600298073\n",
       "\\item 3.37391301962977\n",
       "\\item 3.19403678598481\n",
       "\\item 3.13264212170184\n",
       "\\end{enumerate*}\n"
      ],
      "text/markdown": [
       "1. 4.00055893944289\n",
       "2. 3.93930119596232\n",
       "3. 3.83678600298073\n",
       "4. 3.37391301962977\n",
       "5. 3.19403678598481\n",
       "6. 3.13264212170184\n",
       "\n",
       "\n"
      ],
      "text/plain": [
       "[1] 4.000559 3.939301 3.836786 3.373913 3.194037 3.132642"
      ]
     },
     "metadata": {},
     "output_type": "display_data"
    },
    {
     "name": "stdout",
     "output_type": "stream",
     "text": [
      "\n",
      "Done pathway 1 : RNA transport..\n",
      "Done pathway 2 : RNA degradation..\n",
      "Done pathway 3 : PPAR signaling pathway..\n",
      "Done pathway 4 : Fanconi anemia pathway..\n",
      "Done pathway 5 : MAPK signaling pathway..\n",
      "Done pathway 6 : ErbB signaling pathway..\n",
      "Done pathway 7 : Calcium signaling pathway..\n",
      "Done pathway 8 : Cytokine-cytokine receptor int..\n",
      "Done pathway 9 : Chemokine signaling pathway..\n",
      "Done pathway 10 : NF-kappa B signaling pathway..\n",
      "Done pathway 11 : Phosphatidylinositol signaling..\n",
      "Done pathway 12 : Neuroactive ligand-receptor in..\n",
      "Done pathway 13 : Cell cycle..\n",
      "Done pathway 14 : Oocyte meiosis..\n",
      "Done pathway 15 : p53 signaling pathway..\n",
      "Done pathway 16 : Sulfur relay system..\n",
      "Done pathway 17 : SNARE interactions in vesicula..\n",
      "Done pathway 18 : Regulation of autophagy..\n",
      "Done pathway 19 : Protein processing in endoplas..\n",
      "Done pathway 20 : Lysosome..\n",
      "Done pathway 21 : mTOR signaling pathway..\n",
      "Done pathway 22 : Apoptosis..\n",
      "Done pathway 23 : Vascular smooth muscle contrac..\n",
      "Done pathway 24 : Wnt signaling pathway..\n",
      "Done pathway 25 : Dorso-ventral axis formation..\n",
      "Done pathway 26 : Notch signaling pathway..\n",
      "Done pathway 27 : Hedgehog signaling pathway..\n",
      "Done pathway 28 : TGF-beta signaling pathway..\n",
      "Done pathway 29 : Axon guidance..\n",
      "Done pathway 30 : VEGF signaling pathway..\n",
      "Done pathway 31 : Osteoclast differentiation..\n",
      "Done pathway 32 : Focal adhesion..\n",
      "Done pathway 33 : ECM-receptor interaction..\n",
      "Done pathway 34 : Cell adhesion molecules (CAMs)..\n",
      "Done pathway 35 : Adherens junction..\n",
      "Done pathway 36 : Tight junction..\n",
      "Done pathway 37 : Gap junction..\n",
      "Done pathway 38 : Complement and coagulation cas..\n",
      "Done pathway 39 : Antigen processing and present..\n",
      "Done pathway 40 : Toll-like receptor signaling p..\n",
      "Done pathway 41 : NOD-like receptor signaling pa..\n",
      "Done pathway 42 : RIG-I-like receptor signaling ..\n",
      "Done pathway 43 : Cytosolic DNA-sensing pathway..\n",
      "Done pathway 44 : Jak-STAT signaling pathway..\n",
      "Done pathway 45 : Natural killer cell mediated c..\n",
      "Done pathway 46 : T cell receptor signaling path..\n",
      "Done pathway 47 : B cell receptor signaling path..\n",
      "Done pathway 48 : Fc epsilon RI signaling pathwa..\n",
      "Done pathway 49 : Fc gamma R-mediated phagocytos..\n",
      "Done pathway 50 : Leukocyte transendothelial mig..\n",
      "Done pathway 51 : Intestinal immune network for ..\n",
      "Done pathway 52 : Circadian rhythm - mammal..\n",
      "Done pathway 53 : Long-term potentiation..\n",
      "Done pathway 54 : Neurotrophin signaling pathway..\n",
      "Done pathway 55 : Retrograde endocannabinoid sig..\n",
      "Done pathway 56 : Glutamatergic synapse..\n",
      "Done pathway 57 : Cholinergic synapse..\n",
      "Done pathway 58 : Serotonergic synapse..\n",
      "Done pathway 59 : GABAergic synapse..\n",
      "Done pathway 60 : Dopaminergic synapse..\n",
      "Done pathway 61 : Long-term depression..\n",
      "Done pathway 62 : Olfactory transduction..\n",
      "Done pathway 63 : Taste transduction..\n",
      "Done pathway 64 : Phototransduction..\n",
      "Done pathway 65 : Regulation of actin cytoskelet..\n",
      "Done pathway 66 : Insulin signaling pathway..\n",
      "Done pathway 67 : GnRH signaling pathway..\n",
      "Done pathway 68 : Progesterone-mediated oocyte m..\n",
      "Done pathway 69 : Melanogenesis..\n",
      "Done pathway 70 : Adipocytokine signaling pathwa..\n",
      "Done pathway 71 : Type II diabetes mellitus..\n",
      "Done pathway 72 : Type I diabetes mellitus..\n",
      "Done pathway 73 : Maturity onset diabetes of the..\n",
      "Done pathway 74 : Aldosterone-regulated sodium r..\n",
      "Done pathway 75 : Endocrine and other factor-reg..\n",
      "Done pathway 76 : Vasopressin-regulated water re..\n",
      "Done pathway 77 : Salivary secretion..\n",
      "Done pathway 78 : Gastric acid secretion..\n",
      "Done pathway 79 : Pancreatic secretion..\n",
      "Done pathway 80 : Carbohydrate digestion and abs..\n",
      "Done pathway 81 : Bile secretion..\n",
      "Done pathway 82 : Mineral absorption..\n",
      "Done pathway 83 : Alzheimer's disease..\n",
      "Done pathway 84 : Parkinson's disease..\n",
      "Done pathway 85 : Amyotrophic lateral sclerosis ..\n",
      "Done pathway 86 : Huntington's disease..\n",
      "Done pathway 87 : Prion diseases..\n",
      "Done pathway 88 : Cocaine addiction..\n",
      "Done pathway 89 : Amphetamine addiction..\n",
      "Done pathway 90 : Morphine addiction..\n",
      "Done pathway 91 : Alcoholism..\n",
      "Done pathway 92 : Bacterial invasion of epitheli..\n",
      "Done pathway 93 : Vibrio cholerae infection..\n",
      "Done pathway 94 : Epithelial cell signaling in H..\n",
      "Done pathway 95 : Pathogenic Escherichia coli in..\n",
      "Done pathway 96 : Shigellosis..\n",
      "Done pathway 97 : Salmonella infection..\n",
      "Done pathway 98 : Pertussis..\n",
      "Done pathway 99 : Legionellosis..\n",
      "Done pathway 100 : Leishmaniasis..\n",
      "Done pathway 101 : Chagas disease (American trypa..\n",
      "Done pathway 102 : African trypanosomiasis..\n",
      "Done pathway 103 : Malaria..\n",
      "Done pathway 104 : Toxoplasmosis..\n",
      "Done pathway 105 : Amoebiasis..\n",
      "Done pathway 106 : Staphylococcus aureus infectio..\n",
      "Done pathway 107 : Tuberculosis..\n",
      "Done pathway 108 : Hepatitis C..\n",
      "Done pathway 109 : Measles..\n",
      "Done pathway 110 : Influenza A..\n",
      "Done pathway 111 : HTLV-I infection..\n",
      "Done pathway 112 : Herpes simplex infection..\n",
      "Done pathway 113 : Epstein-Barr virus infection..\n",
      "Done pathway 114 : Pathways in cancer..\n",
      "Done pathway 115 : Transcriptional misregulation ..\n",
      "Done pathway 116 : Viral carcinogenesis..\n",
      "Done pathway 117 : Colorectal cancer..\n",
      "Done pathway 118 : Renal cell carcinoma..\n",
      "Done pathway 119 : Pancreatic cancer..\n",
      "Done pathway 120 : Endometrial cancer..\n",
      "Done pathway 121 : Glioma..\n",
      "Done pathway 122 : Prostate cancer..\n",
      "Done pathway 123 : Thyroid cancer..\n",
      "Done pathway 124 : Basal cell carcinoma..\n",
      "Done pathway 125 : Melanoma..\n",
      "Done pathway 126 : Bladder cancer..\n",
      "Done pathway 127 : Chronic myeloid leukemia..\n",
      "Done pathway 128 : Acute myeloid leukemia..\n",
      "Done pathway 129 : Small cell lung cancer..\n",
      "Done pathway 130 : Non-small cell lung cancer..\n",
      "Done pathway 131 : Asthma..\n",
      "Done pathway 132 : Autoimmune thyroid disease..\n",
      "Done pathway 133 : Systemic lupus erythematosus..\n",
      "Done pathway 134 : Rheumatoid arthritis..\n",
      "Done pathway 135 : Allograft rejection..\n",
      "Done pathway 136 : Graft-versus-host disease..\n",
      "Done pathway 137 : Arrhythmogenic right ventricul..\n",
      "Done pathway 138 : Dilated cardiomyopathy..\n",
      "Done pathway 139 : Viral myocarditis.."
     ]
    },
    {
     "data": {
      "text/html": [
       "<table>\n",
       "<thead><tr><th scope=col>Name</th><th scope=col>ID</th><th scope=col>pSize</th><th scope=col>NDE</th><th scope=col>pNDE</th><th scope=col>tA</th><th scope=col>pPERT</th><th scope=col>pG</th><th scope=col>pGFdr</th><th scope=col>pGFWER</th><th scope=col>Status</th><th scope=col>KEGGLINK</th></tr></thead>\n",
       "<tbody>\n",
       "</tbody>\n",
       "</table>\n"
      ],
      "text/latex": [
       "\\begin{tabular}{r|llllllllllll}\n",
       " Name & ID & pSize & NDE & pNDE & tA & pPERT & pG & pGFdr & pGFWER & Status & KEGGLINK\\\\\n",
       "\\hline\n",
       "\\end{tabular}\n"
      ],
      "text/markdown": [
       "\n",
       "Name | ID | pSize | NDE | pNDE | tA | pPERT | pG | pGFdr | pGFWER | Status | KEGGLINK | \n",
       "||\n",
       "\n",
       "\n"
      ],
      "text/plain": [
       "     Name ID pSize NDE pNDE tA pPERT pG pGFdr pGFWER Status KEGGLINK"
      ]
     },
     "metadata": {},
     "output_type": "display_data"
    }
   ],
   "source": [
    "library(SPIA)\n",
    "background_entrez <- results$id\n",
    "\n",
    "sig_res_entrez <- sdata\n",
    "\n",
    "sig_entrez <- sig_res_entrez$log2FoldChange\n",
    "head(sig_entrez)\n",
    "\n",
    "names(sig_entrez) <- sig_res_entrez$id\n",
    "\n",
    "spia_result <- spia(de=sig_entrez, all=background_entrez, organism=\"hsa\")\n",
    "head(spia_result, n=20)"
   ]
  },
  {
   "cell_type": "code",
   "execution_count": 21,
   "metadata": {},
   "outputs": [],
   "source": [
    "ego <- enrichGO(gene = sig_genes, \n",
    "                universe = all_genes,\n",
    "                keyType = \"ENSEMBL\",\n",
    "                OrgDb = org.Hs.eg.db, \n",
    "                ont = \"BP\", \n",
    "                pAdjustMethod = \"BH\", \n",
    "                qvalueCutoff = 0.05, \n",
    "                readable = TRUE)\n",
    "#cluster_summary <- data.frame(ego)\n",
    "#write.csv(cluster_summary, \"clusterProfiler_MAGEC12.csv\")"
   ]
  },
  {
   "cell_type": "code",
   "execution_count": 21,
   "metadata": {},
   "outputs": [
    {
     "ename": "ERROR",
     "evalue": "Error in plotP(spia_result, threshold = 0.05): plotP can be applied only to a dataframe produced by spia function!!!\n",
     "output_type": "error",
     "traceback": [
      "Error in plotP(spia_result, threshold = 0.05): plotP can be applied only to a dataframe produced by spia function!!!\nTraceback:\n",
      "1. plotP(spia_result, threshold = 0.05)",
      "2. stop(\"plotP can be applied only to a dataframe produced by spia function!!!\")"
     ]
    }
   ],
   "source": [
    "plotP(spia_result, threshold=0.05)"
   ]
  },
  {
   "cell_type": "code",
   "execution_count": 22,
   "metadata": {},
   "outputs": [
    {
     "data": {},
     "metadata": {},
     "output_type": "display_data"
    },
    {
     "data": {
      "image/png": "[encoded data removed]",
      "text/plain": [
       "plot without title"
      ]
     },
     "metadata": {},
     "output_type": "display_data"
    }
   ],
   "source": [
    "dotplot(ego, showCategory=50)"
   ]
  },
  {
   "cell_type": "code",
   "execution_count": 23,
   "metadata": {},
   "outputs": [
    {
     "ename": "ERROR",
     "evalue": "Error in enrichMap(ego, n = 50, vertex.label.font = 6, vertex.label.cex = 0.5): no enriched term found...\n",
     "output_type": "error",
     "traceback": [
      "Error in enrichMap(ego, n = 50, vertex.label.font = 6, vertex.label.cex = 0.5): no enriched term found...\nTraceback:\n",
      "1. enrichMap(ego, n = 50, vertex.label.font = 6, vertex.label.cex = 0.5)",
      "2. stop(\"no enriched term found...\")"
     ]
    }
   ],
   "source": [
    "enrichMap(ego, n=50, vertex.label.font=6, vertex.label.cex=0.5)"
   ]
  },
  {
   "cell_type": "code",
   "execution_count": 8,
   "metadata": {},
   "outputs": [
    {
     "name": "stderr",
     "output_type": "stream",
     "text": [
      "starting httpd help server ... done\n"
     ]
    },
    {
     "data": {},
     "metadata": {},
     "output_type": "display_data"
    }
   ],
   "source": [
    "??enrichMap"
   ]
  },
  {
   "cell_type": "code",
   "execution_count": 35,
   "metadata": {},
   "outputs": [
    {
     "name": "stderr",
     "output_type": "stream",
     "text": [
      "Installing package into 'C:/Users/user/Documents/R/win-library/3.4'\n",
      "(as 'lib' is unspecified)\n"
     ]
    },
    {
     "ename": "ERROR",
     "evalue": "Error in contrib.url(repos, \"source\"): trying to use CRAN without setting a mirror\n",
     "output_type": "error",
     "traceback": [
      "Error in contrib.url(repos, \"source\"): trying to use CRAN without setting a mirror\nTraceback:\n",
      "1. install.packages(\"topGO\")",
      "2. contrib.url(repos, \"source\")",
      "3. stop(\"trying to use CRAN without setting a mirror\")"
     ]
    }
   ],
   "source": [
    "install.packages('topGO')\n",
    "library(topGO)\n",
    "plotGOgraph(ego)"
   ]
  },
  {
   "cell_type": "code",
   "execution_count": 14,
   "metadata": {},
   "outputs": [],
   "source": [
    "OE_foldchanges <- sdata$log2FoldChange\n",
    "\n",
    "names(OE_foldchanges) <- sdata$id"
   ]
  },
  {
   "cell_type": "code",
   "execution_count": 24,
   "metadata": {},
   "outputs": [
    {
     "data": {
      "image/png": "[encoded data removed]",
      "text/plain": [
       "Plot with title \"\""
      ]
     },
     "metadata": {},
     "output_type": "display_data"
    }
   ],
   "source": [
    "## To color genes by log2 fold changes, we need to extract the log2 fold changes from our results table creating a named vector\n",
    "OE_foldchanges <- sdata$log2FoldChange\n",
    "\n",
    "names(OE_foldchanges) <- sdata$id\n",
    "\n",
    "## Cnetplot details the genes associated with one or more terms - by default gives the top 5 significant terms (by padj)\n",
    "cnetplot(ego, \n",
    "         categorySize=\"pvalue\", \n",
    "         showCategory = 6, \n",
    "         foldChange=OE_foldchanges, \n",
    "         vertex.label.font=0.5,\n",
    "         vertex.label.cex=0.5)"
   ]
  },
  {
   "cell_type": "code",
   "execution_count": 17,
   "metadata": {},
   "outputs": [
    {
     "data": {
      "image/png": "[encoded data removed]",
      "text/plain": [
       "Plot with title \"\""
      ]
     },
     "metadata": {},
     "output_type": "display_data"
    }
   ],
   "source": [
    "cnetplot(ego, \n",
    "         categorySize=\"pvalue\", \n",
    "         showCategory = 5, \n",
    "         foldChange=OE_foldchanges, \n",
    "         vertex.label.cex =0.5, vertex.label.font=0.5)"
   ]
  },
  {
   "cell_type": "code",
   "execution_count": 19,
   "metadata": {},
   "outputs": [
    {
     "ename": "ERROR",
     "evalue": "Error in counts(dds, normalized = normalized, replaced = replaced)[gene, : подгруппа выходит за пределы\n",
     "output_type": "error",
     "traceback": [
      "Error in counts(dds, normalized = normalized, replaced = replaced)[gene, : подгруппа выходит за пределы\nTraceback:\n",
      "1. DEGreport::degPlotWide(dds, genes = row.names(results)[1:5], \n .     group = \"ZNF99mut\")",
      "2. bind_rows(lapply(genes, function(gene) {\n .     plotCounts(counts, gene, intgroup = group, returnData = TRUE) %>% \n .         mutate(count = log2(count + 1)) %>% mutate(gene = gene, \n .         sample = row.names(metadata))\n . }))",
      "3. flatten_bindable(dots_values(...))",
      "4. dots_values(...)",
      "5. lapply(genes, function(gene) {\n .     plotCounts(counts, gene, intgroup = group, returnData = TRUE) %>% \n .         mutate(count = log2(count + 1)) %>% mutate(gene = gene, \n .         sample = row.names(metadata))\n . })",
      "6. FUN(X[[i]], ...)",
      "7. plotCounts(counts, gene, intgroup = group, returnData = TRUE) %>% \n .     mutate(count = log2(count + 1)) %>% mutate(gene = gene, sample = row.names(metadata))",
      "8. eval(lhs, parent, parent)",
      "9. eval(lhs, parent, parent)",
      "10. plotCounts(counts, gene, intgroup = group, returnData = TRUE)"
     ]
    }
   ],
   "source": [
    "DEGreport::degPlotWide(dds, genes = row.names(results)[1:5], group = \"ZNF99mut\")"
   ]
  },
  {
   "cell_type": "code",
   "execution_count": 14,
   "metadata": {},
   "outputs": [
    {
     "data": {
      "text/html": [
       "<table>\n",
       "<thead><tr><th scope=col>id</th><th scope=col>baseMean</th><th scope=col>log2FoldChange</th><th scope=col>lfcSE</th><th scope=col>stat</th><th scope=col>pvalue</th><th scope=col>padj</th></tr></thead>\n",
       "<tbody>\n",
       "\t<tr><td>ENSG00000184454</td><td>  88.277337    </td><td>4.000559       </td><td>0.6017550      </td><td> 6.229873      </td><td>4.668139e-10   </td><td>4.039496e-06   </td></tr>\n",
       "\t<tr><td>ENSG00000167588</td><td> 526.369978    </td><td>3.939301       </td><td>0.6161641      </td><td> 5.921547      </td><td>3.189264e-09   </td><td>1.820750e-05   </td></tr>\n",
       "\t<tr><td>ENSG00000131771</td><td> 749.074523    </td><td>3.836786       </td><td>0.6390634      </td><td> 5.414825      </td><td>6.134860e-08   </td><td>2.275157e-04   </td></tr>\n",
       "\t<tr><td>ENSG00000205649</td><td>  78.059347    </td><td>3.373913       </td><td>0.6168541      </td><td>-4.064852      </td><td>4.806290e-05   </td><td>2.045431e-02   </td></tr>\n",
       "\t<tr><td>ENSG00000141750</td><td> 355.043508    </td><td>3.194037       </td><td>0.6327425      </td><td> 4.634141      </td><td>3.584228e-06   </td><td>3.001502e-03   </td></tr>\n",
       "\t<tr><td>ENSG00000102383</td><td>  63.889818    </td><td>3.132642       </td><td>0.5741517      </td><td> 5.237295      </td><td>1.629469e-07   </td><td>4.230102e-04   </td></tr>\n",
       "\t<tr><td>ENSG00000107147</td><td>  23.043455    </td><td>2.986436       </td><td>0.5432009      </td><td> 5.345752      </td><td>9.004228e-08   </td><td>2.921872e-04   </td></tr>\n",
       "\t<tr><td>ENSG00000257671</td><td>   3.318457    </td><td>2.980308       </td><td>0.6488904      </td><td> 3.885720      </td><td>1.020271e-04   </td><td>3.153124e-02   </td></tr>\n",
       "\t<tr><td>ENSG00000067715</td><td> 216.344555    </td><td>2.913333       </td><td>0.6003498      </td><td> 4.602457      </td><td>4.175366e-06   </td><td>3.284621e-03   </td></tr>\n",
       "\t<tr><td>ENSG00000157445</td><td>  99.716399    </td><td>2.878391       </td><td>0.5568611      </td><td> 5.004898      </td><td>5.589174e-07   </td><td>1.116115e-03   </td></tr>\n",
       "\t<tr><td>ENSG00000149596</td><td> 128.716715    </td><td>2.865547       </td><td>0.5326453      </td><td> 5.246054      </td><td>1.553917e-07   </td><td>4.230102e-04   </td></tr>\n",
       "\t<tr><td>ENSG00000096006</td><td>  28.720876    </td><td>2.850863       </td><td>0.6478984      </td><td> 3.731122      </td><td>1.906288e-04   </td><td>4.528467e-02   </td></tr>\n",
       "\t<tr><td>ENSG00000171195</td><td> 898.027116    </td><td>2.821390       </td><td>0.6469245      </td><td> 3.928412      </td><td>8.550870e-05   </td><td>2.814436e-02   </td></tr>\n",
       "\t<tr><td>ENSG00000211890</td><td>2238.519314    </td><td>2.732473       </td><td>0.6062303      </td><td> 4.267924      </td><td>1.973003e-05   </td><td>1.113460e-02   </td></tr>\n",
       "\t<tr><td>ENSG00000153822</td><td>  13.460546    </td><td>2.684763       </td><td>0.6010694      </td><td> 4.261796      </td><td>2.027903e-05   </td><td>1.120093e-02   </td></tr>\n",
       "\t<tr><td>ENSG00000146197</td><td>2751.690261    </td><td>2.681739       </td><td>0.6297529      </td><td> 3.954758      </td><td>7.661203e-05   </td><td>2.651798e-02   </td></tr>\n",
       "\t<tr><td>ENSG00000240298</td><td>   9.558814    </td><td>2.670563       </td><td>0.6491152      </td><td> 3.709562      </td><td>2.076184e-04   </td><td>4.715473e-02   </td></tr>\n",
       "\t<tr><td>ENSG00000276527</td><td>   5.167634    </td><td>2.665856       </td><td>0.6421415      </td><td> 3.821810      </td><td>1.324758e-04   </td><td>3.570894e-02   </td></tr>\n",
       "\t<tr><td>ENSG00000111215</td><td> 812.683171    </td><td>2.655703       </td><td>0.6145238      </td><td> 4.072347      </td><td>4.654179e-05   </td><td>2.045431e-02   </td></tr>\n",
       "\t<tr><td>ENSG00000223561</td><td>  49.003319    </td><td>2.631140       </td><td>0.6133286      </td><td> 4.052014      </td><td>5.077861e-05   </td><td>2.126150e-02   </td></tr>\n",
       "\t<tr><td>ENSG00000154188</td><td>1783.465526    </td><td>2.608587       </td><td>0.6146506      </td><td> 4.001481      </td><td>6.294721e-05   </td><td>2.436040e-02   </td></tr>\n",
       "\t<tr><td>ENSG00000170214</td><td> 174.611711    </td><td>2.558848       </td><td>0.5258254      </td><td> 4.763038      </td><td>1.907001e-06   </td><td>2.458830e-03   </td></tr>\n",
       "\t<tr><td>ENSG00000255595</td><td>   3.129606    </td><td>2.533294       </td><td>0.6380316      </td><td> 3.713368      </td><td>2.045193e-04   </td><td>4.698515e-02   </td></tr>\n",
       "\t<tr><td>ENSG00000259704</td><td>   4.989435    </td><td>2.513416       </td><td>0.5932284      </td><td> 4.101644      </td><td>4.102258e-05   </td><td>1.868327e-02   </td></tr>\n",
       "\t<tr><td>ENSG00000127472</td><td> 384.074551    </td><td>2.480224       </td><td>0.6116429      </td><td> 3.839376      </td><td>1.233473e-04   </td><td>3.457880e-02   </td></tr>\n",
       "\t<tr><td>ENSG00000261189</td><td>  12.997469    </td><td>2.459274       </td><td>0.6032936      </td><td> 3.891868      </td><td>9.947555e-05   </td><td>3.111307e-02   </td></tr>\n",
       "\t<tr><td>ENSG00000267206</td><td>   6.773343    </td><td>2.414429       </td><td>0.6112089      </td><td> 3.766049      </td><td>1.658512e-04   </td><td>4.210314e-02   </td></tr>\n",
       "\t<tr><td>ENSG00000130707</td><td> 488.129560    </td><td>2.322181       </td><td>0.5169028      </td><td> 4.411401      </td><td>1.027041e-05   </td><td>6.502925e-03   </td></tr>\n",
       "\t<tr><td>ENSG00000242808</td><td> 135.029695    </td><td>2.310620       </td><td>0.5660732      </td><td> 3.959967      </td><td>7.496009e-05   </td><td>2.629681e-02   </td></tr>\n",
       "\t<tr><td>ENSG00000163017</td><td> 954.538862    </td><td>2.304280       </td><td>0.5344872      </td><td> 4.218297      </td><td>2.461542e-05   </td><td>1.304115e-02   </td></tr>\n",
       "\t<tr><td>...</td><td>...</td><td>...</td><td>...</td><td>...</td><td>...</td><td>...</td></tr>\n",
       "\t<tr><td>ENSG00000102385</td><td>   72.29391    </td><td>-2.049879      </td><td>0.5041378      </td><td>-4.118452      </td><td>3.814264e-05   </td><td>0.0176818365   </td></tr>\n",
       "\t<tr><td>ENSG00000196581</td><td>  152.36568    </td><td>-2.059707      </td><td>0.6207584      </td><td>-3.756088      </td><td>1.725899e-04   </td><td>0.0430810847   </td></tr>\n",
       "\t<tr><td>ENSG00000119547</td><td>  357.44747    </td><td>-2.067951      </td><td>0.6128320      </td><td>-3.750951      </td><td>1.761648e-04   </td><td>0.0431437642   </td></tr>\n",
       "\t<tr><td>ENSG00000253326</td><td>   19.40879    </td><td>-2.069696      </td><td>0.5425320      </td><td>-3.833096      </td><td>1.265403e-04   </td><td>0.0345788004   </td></tr>\n",
       "\t<tr><td>ENSG00000176349</td><td>   45.01505    </td><td>-2.078557      </td><td>0.6338524      </td><td>-3.850209      </td><td>1.180172e-04   </td><td>0.0340414148   </td></tr>\n",
       "\t<tr><td>ENSG00000133863</td><td>  393.12850    </td><td>-2.102715      </td><td>0.6464288      </td><td>-4.690680      </td><td>2.722992e-06   </td><td>0.0024588302   </td></tr>\n",
       "\t<tr><td>ENSG00000108932</td><td> 1508.23202    </td><td>-2.106634      </td><td>0.6116800      </td><td>-3.838770      </td><td>1.236521e-04   </td><td>0.0345788004   </td></tr>\n",
       "\t<tr><td>ENSG00000128564</td><td>12874.47570    </td><td>-2.113344      </td><td>0.6374976      </td><td>-4.164370      </td><td>3.122140e-05   </td><td>0.0150094011   </td></tr>\n",
       "\t<tr><td>ENSG00000154118</td><td>  124.78168    </td><td>-2.121351      </td><td>0.6466743      </td><td>-4.715395      </td><td>2.412419e-06   </td><td>0.0024588302   </td></tr>\n",
       "\t<tr><td>ENSG00000254349</td><td>   23.06752    </td><td>-2.128649      </td><td>0.6311186      </td><td>-3.836642      </td><td>1.247281e-04   </td><td>0.0345788004   </td></tr>\n",
       "\t<tr><td>ENSG00000162643</td><td>  541.33613    </td><td>-2.134678      </td><td>0.5999455      </td><td>-3.879492      </td><td>1.046750e-04   </td><td>0.0319689835   </td></tr>\n",
       "\t<tr><td>ENSG00000158445</td><td>   58.39614    </td><td>-2.136211      </td><td>0.6200614      </td><td>-3.679204      </td><td>2.339631e-04   </td><td>0.0493795373   </td></tr>\n",
       "\t<tr><td>ENSG00000258670</td><td>   40.58552    </td><td>-2.138954      </td><td>0.6395698      </td><td>-4.126277      </td><td>3.686838e-05   </td><td>0.0174018764   </td></tr>\n",
       "\t<tr><td>ENSG00000175356</td><td> 1587.91844    </td><td>-2.155815      </td><td>0.6155565      </td><td>-3.960843      </td><td>7.468568e-05   </td><td>0.0262968110   </td></tr>\n",
       "\t<tr><td>ENSG00000176177</td><td> 1415.27251    </td><td>-2.162978      </td><td>0.6421377      </td><td>-4.550156      </td><td>5.360620e-06   </td><td>0.0037611270   </td></tr>\n",
       "\t<tr><td>ENSG00000141316</td><td>   12.70458    </td><td>-2.170577      </td><td>0.6275955      </td><td>-3.708015      </td><td>2.088903e-04   </td><td>0.0471547260   </td></tr>\n",
       "\t<tr><td>ENSG00000233705</td><td>  166.07417    </td><td>-2.180769      </td><td>0.6409215      </td><td>-4.492074      </td><td>7.053300e-06   </td><td>0.0046949659   </td></tr>\n",
       "\t<tr><td>ENSG00000178752</td><td>  117.74110    </td><td>-2.196587      </td><td>0.5848236      </td><td>-3.998259      </td><td>6.380997e-05   </td><td>0.0243603960   </td></tr>\n",
       "\t<tr><td>ENSG00000102387</td><td>  112.79437    </td><td>-2.207677      </td><td>0.5940944      </td><td>-4.007293      </td><td>6.141857e-05   </td><td>0.0243603960   </td></tr>\n",
       "\t<tr><td>ENSG00000060718</td><td> 1462.32213    </td><td>-2.213764      </td><td>0.6253813      </td><td>-4.179167      </td><td>2.925783e-05   </td><td>0.0148928097   </td></tr>\n",
       "\t<tr><td>ENSG00000280081</td><td>   36.62079    </td><td>-2.236799      </td><td>0.6465552      </td><td>-4.788829      </td><td>1.677576e-06   </td><td>0.0024194375   </td></tr>\n",
       "\t<tr><td>ENSG00000150656</td><td>  844.22561    </td><td>-2.242298      </td><td>0.6473692      </td><td>-5.905920      </td><td>3.506837e-09   </td><td>0.0000182075   </td></tr>\n",
       "\t<tr><td>ENSG00000102010</td><td>  400.66024    </td><td>-2.330103      </td><td>0.6252297      </td><td>-4.462636      </td><td>8.095754e-06   </td><td>0.0052541443   </td></tr>\n",
       "\t<tr><td>ENSG00000135253</td><td>  392.16783    </td><td>-2.343982      </td><td>0.6178778      </td><td>-4.401764      </td><td>1.073743e-05   </td><td>0.0066367551   </td></tr>\n",
       "\t<tr><td>ENSG00000140465</td><td>  190.59693    </td><td>-2.365188      </td><td>0.6276134      </td><td>-4.577333      </td><td>4.709405e-06   </td><td>0.0035957691   </td></tr>\n",
       "\t<tr><td>ENSG00000139155</td><td>  122.75060    </td><td>-2.434905      </td><td>0.6147208      </td><td>-4.556998      </td><td>5.188982e-06   </td><td>0.0037418327   </td></tr>\n",
       "\t<tr><td>ENSG00000155816</td><td>  233.80875    </td><td>-2.466746      </td><td>0.6376572      </td><td>-4.688901      </td><td>2.746767e-06   </td><td>0.0024588302   </td></tr>\n",
       "\t<tr><td>ENSG00000176887</td><td>   82.39537    </td><td>-2.505582      </td><td>0.6393560      </td><td>-3.752682      </td><td>1.749529e-04   </td><td>0.0431437642   </td></tr>\n",
       "\t<tr><td>ENSG00000261377</td><td>   89.75337    </td><td>-2.544785      </td><td>0.5704766      </td><td>-4.731564      </td><td>2.227963e-06   </td><td>0.0024588302   </td></tr>\n",
       "\t<tr><td>ENSG00000251164</td><td>   18.55867    </td><td>-2.621040      </td><td>0.6095784      </td><td>-3.820045      </td><td>1.334271e-04   </td><td>0.0357089394   </td></tr>\n",
       "</tbody>\n",
       "</table>\n"
      ],
      "text/latex": [
       "\\begin{tabular}{r|lllllll}\n",
       " id & baseMean & log2FoldChange & lfcSE & stat & pvalue & padj\\\\\n",
       "\\hline\n",
       "\t ENSG00000184454 &   88.277337     & 4.000559        & 0.6017550       &  6.229873       & 4.668139e-10    & 4.039496e-06   \\\\\n",
       "\t ENSG00000167588 &  526.369978     & 3.939301        & 0.6161641       &  5.921547       & 3.189264e-09    & 1.820750e-05   \\\\\n",
       "\t ENSG00000131771 &  749.074523     & 3.836786        & 0.6390634       &  5.414825       & 6.134860e-08    & 2.275157e-04   \\\\\n",
       "\t ENSG00000205649 &   78.059347     & 3.373913        & 0.6168541       & -4.064852       & 4.806290e-05    & 2.045431e-02   \\\\\n",
       "\t ENSG00000141750 &  355.043508     & 3.194037        & 0.6327425       &  4.634141       & 3.584228e-06    & 3.001502e-03   \\\\\n",
       "\t ENSG00000102383 &   63.889818     & 3.132642        & 0.5741517       &  5.237295       & 1.629469e-07    & 4.230102e-04   \\\\\n",
       "\t ENSG00000107147 &   23.043455     & 2.986436        & 0.5432009       &  5.345752       & 9.004228e-08    & 2.921872e-04   \\\\\n",
       "\t ENSG00000257671 &    3.318457     & 2.980308        & 0.6488904       &  3.885720       & 1.020271e-04    & 3.153124e-02   \\\\\n",
       "\t ENSG00000067715 &  216.344555     & 2.913333        & 0.6003498       &  4.602457       & 4.175366e-06    & 3.284621e-03   \\\\\n",
       "\t ENSG00000157445 &   99.716399     & 2.878391        & 0.5568611       &  5.004898       & 5.589174e-07    & 1.116115e-03   \\\\\n",
       "\t ENSG00000149596 &  128.716715     & 2.865547        & 0.5326453       &  5.246054       & 1.553917e-07    & 4.230102e-04   \\\\\n",
       "\t ENSG00000096006 &   28.720876     & 2.850863        & 0.6478984       &  3.731122       & 1.906288e-04    & 4.528467e-02   \\\\\n",
       "\t ENSG00000171195 &  898.027116     & 2.821390        & 0.6469245       &  3.928412       & 8.550870e-05    & 2.814436e-02   \\\\\n",
       "\t ENSG00000211890 & 2238.519314     & 2.732473        & 0.6062303       &  4.267924       & 1.973003e-05    & 1.113460e-02   \\\\\n",
       "\t ENSG00000153822 &   13.460546     & 2.684763        & 0.6010694       &  4.261796       & 2.027903e-05    & 1.120093e-02   \\\\\n",
       "\t ENSG00000146197 & 2751.690261     & 2.681739        & 0.6297529       &  3.954758       & 7.661203e-05    & 2.651798e-02   \\\\\n",
       "\t ENSG00000240298 &    9.558814     & 2.670563        & 0.6491152       &  3.709562       & 2.076184e-04    & 4.715473e-02   \\\\\n",
       "\t ENSG00000276527 &    5.167634     & 2.665856        & 0.6421415       &  3.821810       & 1.324758e-04    & 3.570894e-02   \\\\\n",
       "\t ENSG00000111215 &  812.683171     & 2.655703        & 0.6145238       &  4.072347       & 4.654179e-05    & 2.045431e-02   \\\\\n",
       "\t ENSG00000223561 &   49.003319     & 2.631140        & 0.6133286       &  4.052014       & 5.077861e-05    & 2.126150e-02   \\\\\n",
       "\t ENSG00000154188 & 1783.465526     & 2.608587        & 0.6146506       &  4.001481       & 6.294721e-05    & 2.436040e-02   \\\\\n",
       "\t ENSG00000170214 &  174.611711     & 2.558848        & 0.5258254       &  4.763038       & 1.907001e-06    & 2.458830e-03   \\\\\n",
       "\t ENSG00000255595 &    3.129606     & 2.533294        & 0.6380316       &  3.713368       & 2.045193e-04    & 4.698515e-02   \\\\\n",
       "\t ENSG00000259704 &    4.989435     & 2.513416        & 0.5932284       &  4.101644       & 4.102258e-05    & 1.868327e-02   \\\\\n",
       "\t ENSG00000127472 &  384.074551     & 2.480224        & 0.6116429       &  3.839376       & 1.233473e-04    & 3.457880e-02   \\\\\n",
       "\t ENSG00000261189 &   12.997469     & 2.459274        & 0.6032936       &  3.891868       & 9.947555e-05    & 3.111307e-02   \\\\\n",
       "\t ENSG00000267206 &    6.773343     & 2.414429        & 0.6112089       &  3.766049       & 1.658512e-04    & 4.210314e-02   \\\\\n",
       "\t ENSG00000130707 &  488.129560     & 2.322181        & 0.5169028       &  4.411401       & 1.027041e-05    & 6.502925e-03   \\\\\n",
       "\t ENSG00000242808 &  135.029695     & 2.310620        & 0.5660732       &  3.959967       & 7.496009e-05    & 2.629681e-02   \\\\\n",
       "\t ENSG00000163017 &  954.538862     & 2.304280        & 0.5344872       &  4.218297       & 2.461542e-05    & 1.304115e-02   \\\\\n",
       "\t ... & ... & ... & ... & ... & ... & ...\\\\\n",
       "\t ENSG00000102385 &    72.29391     & -2.049879       & 0.5041378       & -4.118452       & 3.814264e-05    & 0.0176818365   \\\\\n",
       "\t ENSG00000196581 &   152.36568     & -2.059707       & 0.6207584       & -3.756088       & 1.725899e-04    & 0.0430810847   \\\\\n",
       "\t ENSG00000119547 &   357.44747     & -2.067951       & 0.6128320       & -3.750951       & 1.761648e-04    & 0.0431437642   \\\\\n",
       "\t ENSG00000253326 &    19.40879     & -2.069696       & 0.5425320       & -3.833096       & 1.265403e-04    & 0.0345788004   \\\\\n",
       "\t ENSG00000176349 &    45.01505     & -2.078557       & 0.6338524       & -3.850209       & 1.180172e-04    & 0.0340414148   \\\\\n",
       "\t ENSG00000133863 &   393.12850     & -2.102715       & 0.6464288       & -4.690680       & 2.722992e-06    & 0.0024588302   \\\\\n",
       "\t ENSG00000108932 &  1508.23202     & -2.106634       & 0.6116800       & -3.838770       & 1.236521e-04    & 0.0345788004   \\\\\n",
       "\t ENSG00000128564 & 12874.47570     & -2.113344       & 0.6374976       & -4.164370       & 3.122140e-05    & 0.0150094011   \\\\\n",
       "\t ENSG00000154118 &   124.78168     & -2.121351       & 0.6466743       & -4.715395       & 2.412419e-06    & 0.0024588302   \\\\\n",
       "\t ENSG00000254349 &    23.06752     & -2.128649       & 0.6311186       & -3.836642       & 1.247281e-04    & 0.0345788004   \\\\\n",
       "\t ENSG00000162643 &   541.33613     & -2.134678       & 0.5999455       & -3.879492       & 1.046750e-04    & 0.0319689835   \\\\\n",
       "\t ENSG00000158445 &    58.39614     & -2.136211       & 0.6200614       & -3.679204       & 2.339631e-04    & 0.0493795373   \\\\\n",
       "\t ENSG00000258670 &    40.58552     & -2.138954       & 0.6395698       & -4.126277       & 3.686838e-05    & 0.0174018764   \\\\\n",
       "\t ENSG00000175356 &  1587.91844     & -2.155815       & 0.6155565       & -3.960843       & 7.468568e-05    & 0.0262968110   \\\\\n",
       "\t ENSG00000176177 &  1415.27251     & -2.162978       & 0.6421377       & -4.550156       & 5.360620e-06    & 0.0037611270   \\\\\n",
       "\t ENSG00000141316 &    12.70458     & -2.170577       & 0.6275955       & -3.708015       & 2.088903e-04    & 0.0471547260   \\\\\n",
       "\t ENSG00000233705 &   166.07417     & -2.180769       & 0.6409215       & -4.492074       & 7.053300e-06    & 0.0046949659   \\\\\n",
       "\t ENSG00000178752 &   117.74110     & -2.196587       & 0.5848236       & -3.998259       & 6.380997e-05    & 0.0243603960   \\\\\n",
       "\t ENSG00000102387 &   112.79437     & -2.207677       & 0.5940944       & -4.007293       & 6.141857e-05    & 0.0243603960   \\\\\n",
       "\t ENSG00000060718 &  1462.32213     & -2.213764       & 0.6253813       & -4.179167       & 2.925783e-05    & 0.0148928097   \\\\\n",
       "\t ENSG00000280081 &    36.62079     & -2.236799       & 0.6465552       & -4.788829       & 1.677576e-06    & 0.0024194375   \\\\\n",
       "\t ENSG00000150656 &   844.22561     & -2.242298       & 0.6473692       & -5.905920       & 3.506837e-09    & 0.0000182075   \\\\\n",
       "\t ENSG00000102010 &   400.66024     & -2.330103       & 0.6252297       & -4.462636       & 8.095754e-06    & 0.0052541443   \\\\\n",
       "\t ENSG00000135253 &   392.16783     & -2.343982       & 0.6178778       & -4.401764       & 1.073743e-05    & 0.0066367551   \\\\\n",
       "\t ENSG00000140465 &   190.59693     & -2.365188       & 0.6276134       & -4.577333       & 4.709405e-06    & 0.0035957691   \\\\\n",
       "\t ENSG00000139155 &   122.75060     & -2.434905       & 0.6147208       & -4.556998       & 5.188982e-06    & 0.0037418327   \\\\\n",
       "\t ENSG00000155816 &   233.80875     & -2.466746       & 0.6376572       & -4.688901       & 2.746767e-06    & 0.0024588302   \\\\\n",
       "\t ENSG00000176887 &    82.39537     & -2.505582       & 0.6393560       & -3.752682       & 1.749529e-04    & 0.0431437642   \\\\\n",
       "\t ENSG00000261377 &    89.75337     & -2.544785       & 0.5704766       & -4.731564       & 2.227963e-06    & 0.0024588302   \\\\\n",
       "\t ENSG00000251164 &    18.55867     & -2.621040       & 0.6095784       & -3.820045       & 1.334271e-04    & 0.0357089394   \\\\\n",
       "\\end{tabular}\n"
      ],
      "text/markdown": [
       "\n",
       "id | baseMean | log2FoldChange | lfcSE | stat | pvalue | padj | \n",
       "|---|---|---|---|---|---|---|---|---|---|---|---|---|---|---|---|---|---|---|---|---|---|---|---|---|---|---|---|---|---|---|---|---|---|---|---|---|---|---|---|---|---|---|---|---|---|---|---|---|---|---|---|---|---|---|---|---|---|---|---|---|\n",
       "| ENSG00000184454 |   88.277337     | 4.000559        | 0.6017550       |  6.229873       | 4.668139e-10    | 4.039496e-06    | \n",
       "| ENSG00000167588 |  526.369978     | 3.939301        | 0.6161641       |  5.921547       | 3.189264e-09    | 1.820750e-05    | \n",
       "| ENSG00000131771 |  749.074523     | 3.836786        | 0.6390634       |  5.414825       | 6.134860e-08    | 2.275157e-04    | \n",
       "| ENSG00000205649 |   78.059347     | 3.373913        | 0.6168541       | -4.064852       | 4.806290e-05    | 2.045431e-02    | \n",
       "| ENSG00000141750 |  355.043508     | 3.194037        | 0.6327425       |  4.634141       | 3.584228e-06    | 3.001502e-03    | \n",
       "| ENSG00000102383 |   63.889818     | 3.132642        | 0.5741517       |  5.237295       | 1.629469e-07    | 4.230102e-04    | \n",
       "| ENSG00000107147 |   23.043455     | 2.986436        | 0.5432009       |  5.345752       | 9.004228e-08    | 2.921872e-04    | \n",
       "| ENSG00000257671 |    3.318457     | 2.980308        | 0.6488904       |  3.885720       | 1.020271e-04    | 3.153124e-02    | \n",
       "| ENSG00000067715 |  216.344555     | 2.913333        | 0.6003498       |  4.602457       | 4.175366e-06    | 3.284621e-03    | \n",
       "| ENSG00000157445 |   99.716399     | 2.878391        | 0.5568611       |  5.004898       | 5.589174e-07    | 1.116115e-03    | \n",
       "| ENSG00000149596 |  128.716715     | 2.865547        | 0.5326453       |  5.246054       | 1.553917e-07    | 4.230102e-04    | \n",
       "| ENSG00000096006 |   28.720876     | 2.850863        | 0.6478984       |  3.731122       | 1.906288e-04    | 4.528467e-02    | \n",
       "| ENSG00000171195 |  898.027116     | 2.821390        | 0.6469245       |  3.928412       | 8.550870e-05    | 2.814436e-02    | \n",
       "| ENSG00000211890 | 2238.519314     | 2.732473        | 0.6062303       |  4.267924       | 1.973003e-05    | 1.113460e-02    | \n",
       "| ENSG00000153822 |   13.460546     | 2.684763        | 0.6010694       |  4.261796       | 2.027903e-05    | 1.120093e-02    | \n",
       "| ENSG00000146197 | 2751.690261     | 2.681739        | 0.6297529       |  3.954758       | 7.661203e-05    | 2.651798e-02    | \n",
       "| ENSG00000240298 |    9.558814     | 2.670563        | 0.6491152       |  3.709562       | 2.076184e-04    | 4.715473e-02    | \n",
       "| ENSG00000276527 |    5.167634     | 2.665856        | 0.6421415       |  3.821810       | 1.324758e-04    | 3.570894e-02    | \n",
       "| ENSG00000111215 |  812.683171     | 2.655703        | 0.6145238       |  4.072347       | 4.654179e-05    | 2.045431e-02    | \n",
       "| ENSG00000223561 |   49.003319     | 2.631140        | 0.6133286       |  4.052014       | 5.077861e-05    | 2.126150e-02    | \n",
       "| ENSG00000154188 | 1783.465526     | 2.608587        | 0.6146506       |  4.001481       | 6.294721e-05    | 2.436040e-02    | \n",
       "| ENSG00000170214 |  174.611711     | 2.558848        | 0.5258254       |  4.763038       | 1.907001e-06    | 2.458830e-03    | \n",
       "| ENSG00000255595 |    3.129606     | 2.533294        | 0.6380316       |  3.713368       | 2.045193e-04    | 4.698515e-02    | \n",
       "| ENSG00000259704 |    4.989435     | 2.513416        | 0.5932284       |  4.101644       | 4.102258e-05    | 1.868327e-02    | \n",
       "| ENSG00000127472 |  384.074551     | 2.480224        | 0.6116429       |  3.839376       | 1.233473e-04    | 3.457880e-02    | \n",
       "| ENSG00000261189 |   12.997469     | 2.459274        | 0.6032936       |  3.891868       | 9.947555e-05    | 3.111307e-02    | \n",
       "| ENSG00000267206 |    6.773343     | 2.414429        | 0.6112089       |  3.766049       | 1.658512e-04    | 4.210314e-02    | \n",
       "| ENSG00000130707 |  488.129560     | 2.322181        | 0.5169028       |  4.411401       | 1.027041e-05    | 6.502925e-03    | \n",
       "| ENSG00000242808 |  135.029695     | 2.310620        | 0.5660732       |  3.959967       | 7.496009e-05    | 2.629681e-02    | \n",
       "| ENSG00000163017 |  954.538862     | 2.304280        | 0.5344872       |  4.218297       | 2.461542e-05    | 1.304115e-02    | \n",
       "| ... | ... | ... | ... | ... | ... | ... | \n",
       "| ENSG00000102385 |    72.29391     | -2.049879       | 0.5041378       | -4.118452       | 3.814264e-05    | 0.0176818365    | \n",
       "| ENSG00000196581 |   152.36568     | -2.059707       | 0.6207584       | -3.756088       | 1.725899e-04    | 0.0430810847    | \n",
       "| ENSG00000119547 |   357.44747     | -2.067951       | 0.6128320       | -3.750951       | 1.761648e-04    | 0.0431437642    | \n",
       "| ENSG00000253326 |    19.40879     | -2.069696       | 0.5425320       | -3.833096       | 1.265403e-04    | 0.0345788004    | \n",
       "| ENSG00000176349 |    45.01505     | -2.078557       | 0.6338524       | -3.850209       | 1.180172e-04    | 0.0340414148    | \n",
       "| ENSG00000133863 |   393.12850     | -2.102715       | 0.6464288       | -4.690680       | 2.722992e-06    | 0.0024588302    | \n",
       "| ENSG00000108932 |  1508.23202     | -2.106634       | 0.6116800       | -3.838770       | 1.236521e-04    | 0.0345788004    | \n",
       "| ENSG00000128564 | 12874.47570     | -2.113344       | 0.6374976       | -4.164370       | 3.122140e-05    | 0.0150094011    | \n",
       "| ENSG00000154118 |   124.78168     | -2.121351       | 0.6466743       | -4.715395       | 2.412419e-06    | 0.0024588302    | \n",
       "| ENSG00000254349 |    23.06752     | -2.128649       | 0.6311186       | -3.836642       | 1.247281e-04    | 0.0345788004    | \n",
       "| ENSG00000162643 |   541.33613     | -2.134678       | 0.5999455       | -3.879492       | 1.046750e-04    | 0.0319689835    | \n",
       "| ENSG00000158445 |    58.39614     | -2.136211       | 0.6200614       | -3.679204       | 2.339631e-04    | 0.0493795373    | \n",
       "| ENSG00000258670 |    40.58552     | -2.138954       | 0.6395698       | -4.126277       | 3.686838e-05    | 0.0174018764    | \n",
       "| ENSG00000175356 |  1587.91844     | -2.155815       | 0.6155565       | -3.960843       | 7.468568e-05    | 0.0262968110    | \n",
       "| ENSG00000176177 |  1415.27251     | -2.162978       | 0.6421377       | -4.550156       | 5.360620e-06    | 0.0037611270    | \n",
       "| ENSG00000141316 |    12.70458     | -2.170577       | 0.6275955       | -3.708015       | 2.088903e-04    | 0.0471547260    | \n",
       "| ENSG00000233705 |   166.07417     | -2.180769       | 0.6409215       | -4.492074       | 7.053300e-06    | 0.0046949659    | \n",
       "| ENSG00000178752 |   117.74110     | -2.196587       | 0.5848236       | -3.998259       | 6.380997e-05    | 0.0243603960    | \n",
       "| ENSG00000102387 |   112.79437     | -2.207677       | 0.5940944       | -4.007293       | 6.141857e-05    | 0.0243603960    | \n",
       "| ENSG00000060718 |  1462.32213     | -2.213764       | 0.6253813       | -4.179167       | 2.925783e-05    | 0.0148928097    | \n",
       "| ENSG00000280081 |    36.62079     | -2.236799       | 0.6465552       | -4.788829       | 1.677576e-06    | 0.0024194375    | \n",
       "| ENSG00000150656 |   844.22561     | -2.242298       | 0.6473692       | -5.905920       | 3.506837e-09    | 0.0000182075    | \n",
       "| ENSG00000102010 |   400.66024     | -2.330103       | 0.6252297       | -4.462636       | 8.095754e-06    | 0.0052541443    | \n",
       "| ENSG00000135253 |   392.16783     | -2.343982       | 0.6178778       | -4.401764       | 1.073743e-05    | 0.0066367551    | \n",
       "| ENSG00000140465 |   190.59693     | -2.365188       | 0.6276134       | -4.577333       | 4.709405e-06    | 0.0035957691    | \n",
       "| ENSG00000139155 |   122.75060     | -2.434905       | 0.6147208       | -4.556998       | 5.188982e-06    | 0.0037418327    | \n",
       "| ENSG00000155816 |   233.80875     | -2.466746       | 0.6376572       | -4.688901       | 2.746767e-06    | 0.0024588302    | \n",
       "| ENSG00000176887 |    82.39537     | -2.505582       | 0.6393560       | -3.752682       | 1.749529e-04    | 0.0431437642    | \n",
       "| ENSG00000261377 |    89.75337     | -2.544785       | 0.5704766       | -4.731564       | 2.227963e-06    | 0.0024588302    | \n",
       "| ENSG00000251164 |    18.55867     | -2.621040       | 0.6095784       | -3.820045       | 1.334271e-04    | 0.0357089394    | \n",
       "\n",
       "\n"
      ],
      "text/plain": [
       "    id              baseMean    log2FoldChange lfcSE     stat      pvalue      \n",
       "1   ENSG00000184454   88.277337 4.000559       0.6017550  6.229873 4.668139e-10\n",
       "2   ENSG00000167588  526.369978 3.939301       0.6161641  5.921547 3.189264e-09\n",
       "3   ENSG00000131771  749.074523 3.836786       0.6390634  5.414825 6.134860e-08\n",
       "4   ENSG00000205649   78.059347 3.373913       0.6168541 -4.064852 4.806290e-05\n",
       "5   ENSG00000141750  355.043508 3.194037       0.6327425  4.634141 3.584228e-06\n",
       "6   ENSG00000102383   63.889818 3.132642       0.5741517  5.237295 1.629469e-07\n",
       "7   ENSG00000107147   23.043455 2.986436       0.5432009  5.345752 9.004228e-08\n",
       "8   ENSG00000257671    3.318457 2.980308       0.6488904  3.885720 1.020271e-04\n",
       "9   ENSG00000067715  216.344555 2.913333       0.6003498  4.602457 4.175366e-06\n",
       "10  ENSG00000157445   99.716399 2.878391       0.5568611  5.004898 5.589174e-07\n",
       "11  ENSG00000149596  128.716715 2.865547       0.5326453  5.246054 1.553917e-07\n",
       "12  ENSG00000096006   28.720876 2.850863       0.6478984  3.731122 1.906288e-04\n",
       "13  ENSG00000171195  898.027116 2.821390       0.6469245  3.928412 8.550870e-05\n",
       "14  ENSG00000211890 2238.519314 2.732473       0.6062303  4.267924 1.973003e-05\n",
       "15  ENSG00000153822   13.460546 2.684763       0.6010694  4.261796 2.027903e-05\n",
       "16  ENSG00000146197 2751.690261 2.681739       0.6297529  3.954758 7.661203e-05\n",
       "17  ENSG00000240298    9.558814 2.670563       0.6491152  3.709562 2.076184e-04\n",
       "18  ENSG00000276527    5.167634 2.665856       0.6421415  3.821810 1.324758e-04\n",
       "19  ENSG00000111215  812.683171 2.655703       0.6145238  4.072347 4.654179e-05\n",
       "20  ENSG00000223561   49.003319 2.631140       0.6133286  4.052014 5.077861e-05\n",
       "21  ENSG00000154188 1783.465526 2.608587       0.6146506  4.001481 6.294721e-05\n",
       "22  ENSG00000170214  174.611711 2.558848       0.5258254  4.763038 1.907001e-06\n",
       "23  ENSG00000255595    3.129606 2.533294       0.6380316  3.713368 2.045193e-04\n",
       "24  ENSG00000259704    4.989435 2.513416       0.5932284  4.101644 4.102258e-05\n",
       "25  ENSG00000127472  384.074551 2.480224       0.6116429  3.839376 1.233473e-04\n",
       "26  ENSG00000261189   12.997469 2.459274       0.6032936  3.891868 9.947555e-05\n",
       "27  ENSG00000267206    6.773343 2.414429       0.6112089  3.766049 1.658512e-04\n",
       "28  ENSG00000130707  488.129560 2.322181       0.5169028  4.411401 1.027041e-05\n",
       "29  ENSG00000242808  135.029695 2.310620       0.5660732  3.959967 7.496009e-05\n",
       "30  ENSG00000163017  954.538862 2.304280       0.5344872  4.218297 2.461542e-05\n",
       "... ...             ...         ...            ...       ...       ...         \n",
       "94  ENSG00000102385    72.29391 -2.049879      0.5041378 -4.118452 3.814264e-05\n",
       "95  ENSG00000196581   152.36568 -2.059707      0.6207584 -3.756088 1.725899e-04\n",
       "96  ENSG00000119547   357.44747 -2.067951      0.6128320 -3.750951 1.761648e-04\n",
       "97  ENSG00000253326    19.40879 -2.069696      0.5425320 -3.833096 1.265403e-04\n",
       "98  ENSG00000176349    45.01505 -2.078557      0.6338524 -3.850209 1.180172e-04\n",
       "99  ENSG00000133863   393.12850 -2.102715      0.6464288 -4.690680 2.722992e-06\n",
       "100 ENSG00000108932  1508.23202 -2.106634      0.6116800 -3.838770 1.236521e-04\n",
       "101 ENSG00000128564 12874.47570 -2.113344      0.6374976 -4.164370 3.122140e-05\n",
       "102 ENSG00000154118   124.78168 -2.121351      0.6466743 -4.715395 2.412419e-06\n",
       "103 ENSG00000254349    23.06752 -2.128649      0.6311186 -3.836642 1.247281e-04\n",
       "104 ENSG00000162643   541.33613 -2.134678      0.5999455 -3.879492 1.046750e-04\n",
       "105 ENSG00000158445    58.39614 -2.136211      0.6200614 -3.679204 2.339631e-04\n",
       "106 ENSG00000258670    40.58552 -2.138954      0.6395698 -4.126277 3.686838e-05\n",
       "107 ENSG00000175356  1587.91844 -2.155815      0.6155565 -3.960843 7.468568e-05\n",
       "108 ENSG00000176177  1415.27251 -2.162978      0.6421377 -4.550156 5.360620e-06\n",
       "109 ENSG00000141316    12.70458 -2.170577      0.6275955 -3.708015 2.088903e-04\n",
       "110 ENSG00000233705   166.07417 -2.180769      0.6409215 -4.492074 7.053300e-06\n",
       "111 ENSG00000178752   117.74110 -2.196587      0.5848236 -3.998259 6.380997e-05\n",
       "112 ENSG00000102387   112.79437 -2.207677      0.5940944 -4.007293 6.141857e-05\n",
       "113 ENSG00000060718  1462.32213 -2.213764      0.6253813 -4.179167 2.925783e-05\n",
       "114 ENSG00000280081    36.62079 -2.236799      0.6465552 -4.788829 1.677576e-06\n",
       "115 ENSG00000150656   844.22561 -2.242298      0.6473692 -5.905920 3.506837e-09\n",
       "116 ENSG00000102010   400.66024 -2.330103      0.6252297 -4.462636 8.095754e-06\n",
       "117 ENSG00000135253   392.16783 -2.343982      0.6178778 -4.401764 1.073743e-05\n",
       "118 ENSG00000140465   190.59693 -2.365188      0.6276134 -4.577333 4.709405e-06\n",
       "119 ENSG00000139155   122.75060 -2.434905      0.6147208 -4.556998 5.188982e-06\n",
       "120 ENSG00000155816   233.80875 -2.466746      0.6376572 -4.688901 2.746767e-06\n",
       "121 ENSG00000176887    82.39537 -2.505582      0.6393560 -3.752682 1.749529e-04\n",
       "122 ENSG00000261377    89.75337 -2.544785      0.5704766 -4.731564 2.227963e-06\n",
       "123 ENSG00000251164    18.55867 -2.621040      0.6095784 -3.820045 1.334271e-04\n",
       "    padj        \n",
       "1   4.039496e-06\n",
       "2   1.820750e-05\n",
       "3   2.275157e-04\n",
       "4   2.045431e-02\n",
       "5   3.001502e-03\n",
       "6   4.230102e-04\n",
       "7   2.921872e-04\n",
       "8   3.153124e-02\n",
       "9   3.284621e-03\n",
       "10  1.116115e-03\n",
       "11  4.230102e-04\n",
       "12  4.528467e-02\n",
       "13  2.814436e-02\n",
       "14  1.113460e-02\n",
       "15  1.120093e-02\n",
       "16  2.651798e-02\n",
       "17  4.715473e-02\n",
       "18  3.570894e-02\n",
       "19  2.045431e-02\n",
       "20  2.126150e-02\n",
       "21  2.436040e-02\n",
       "22  2.458830e-03\n",
       "23  4.698515e-02\n",
       "24  1.868327e-02\n",
       "25  3.457880e-02\n",
       "26  3.111307e-02\n",
       "27  4.210314e-02\n",
       "28  6.502925e-03\n",
       "29  2.629681e-02\n",
       "30  1.304115e-02\n",
       "... ...         \n",
       "94  0.0176818365\n",
       "95  0.0430810847\n",
       "96  0.0431437642\n",
       "97  0.0345788004\n",
       "98  0.0340414148\n",
       "99  0.0024588302\n",
       "100 0.0345788004\n",
       "101 0.0150094011\n",
       "102 0.0024588302\n",
       "103 0.0345788004\n",
       "104 0.0319689835\n",
       "105 0.0493795373\n",
       "106 0.0174018764\n",
       "107 0.0262968110\n",
       "108 0.0037611270\n",
       "109 0.0471547260\n",
       "110 0.0046949659\n",
       "111 0.0243603960\n",
       "112 0.0243603960\n",
       "113 0.0148928097\n",
       "114 0.0024194375\n",
       "115 0.0000182075\n",
       "116 0.0052541443\n",
       "117 0.0066367551\n",
       "118 0.0035957691\n",
       "119 0.0037418327\n",
       "120 0.0024588302\n",
       "121 0.0431437642\n",
       "122 0.0024588302\n",
       "123 0.0357089394"
      ]
     },
     "metadata": {},
     "output_type": "display_data"
    }
   ],
   "source": [
    "sdata = read.table('magsr.csv', sep = ';', header = T)\n",
    "sdata\n"
   ]
  },
  {
   "cell_type": "code",
   "execution_count": 8,
   "metadata": {},
   "outputs": [],
   "source": [
    "sdata = read.table('DEmagec12_sign.csv', sep = '\\t', header = T)"
   ]
  },
  {
   "cell_type": "code",
   "execution_count": 19,
   "metadata": {},
   "outputs": [
    {
     "name": "stderr",
     "output_type": "stream",
     "text": [
      "Loading required package: quantreg\n",
      "Loading required package: SparseM\n",
      "\n",
      "Attaching package: 'SparseM'\n",
      "\n",
      "The following object is masked from 'package:base':\n",
      "\n",
      "    backsolve\n",
      "\n"
     ]
    },
    {
     "data": {},
     "metadata": {},
     "output_type": "display_data"
    },
    {
     "data": {
      "image/png": "[encoded data removed]",
      "text/plain": [
       "plot without title"
      ]
     },
     "metadata": {},
     "output_type": "display_data"
    }
   ],
   "source": [
    "library(DEGreport)\n",
    "DEGreport::degVolcano(\n",
    "    shade.colour = \"purple\",\n",
    "    data.frame(results[,c(\"log2FoldChange\",\"padj\")]), # table - 2 columns\n",
    "    plot_text = data.frame(sdata[1:18,c(\"log2FoldChange\",\"padj\",\"id\")])) # table to add names\n"
   ]
  },
  {
   "cell_type": "code",
   "execution_count": 27,
   "metadata": {},
   "outputs": [
    {
     "data": {
      "text/plain": [
       "log2 fold change (MAP): ZNF99mut mut vs norm \n",
       "Wald test p-value: ZNF99mut mut vs norm \n",
       "DataFrame with 60488 rows and 6 columns\n",
       "                   baseMean log2FoldChange     lfcSE       stat     pvalue\n",
       "                  <numeric>      <numeric> <numeric>  <numeric>  <numeric>\n",
       "ENSG00000000003 2059.253373    -0.43103631 0.3299009 -1.3069025  0.1912458\n",
       "ENSG00000000005    4.999658    -1.97605644 0.8062111 -0.8638443  0.3876734\n",
       "ENSG00000000419 1600.328160     0.22009813 0.2377733  0.9256361  0.3546351\n",
       "ENSG00000000457  777.986047    -0.06728995 0.2221920 -0.3028471  0.7620064\n",
       "ENSG00000000460  634.199410     0.42988873 0.2952687  1.4557055  0.1454740\n",
       "...                     ...            ...       ...        ...        ...\n",
       "__no_feature        2906177      0.1194948 0.1938387  0.6164582 0.53759215\n",
       "__ambiguous         2594146     -0.2811433 0.1459317 -1.9265533 0.05403532\n",
       "__too_low_aQual           0             NA        NA         NA         NA\n",
       "__not_aligned             0             NA        NA         NA         NA\n",
       "__alignment_not    18584146     -0.6138402 0.2433391 -2.5228450 0.01164097\n",
       "                     padj\n",
       "                <numeric>\n",
       "ENSG00000000003 0.6504420\n",
       "ENSG00000000005 0.7860977\n",
       "ENSG00000000419 0.7685983\n",
       "ENSG00000000457 0.9397390\n",
       "ENSG00000000460 0.6021350\n",
       "...                   ...\n",
       "__no_feature    0.8600210\n",
       "__ambiguous     0.4447957\n",
       "__too_low_aQual        NA\n",
       "__not_aligned          NA\n",
       "__alignment_not 0.2668489"
      ]
     },
     "metadata": {},
     "output_type": "display_data"
    }
   ],
   "source": [
    "res_tableMUT"
   ]
  },
  {
   "cell_type": "code",
   "execution_count": 20,
   "metadata": {},
   "outputs": [
    {
     "name": "stderr",
     "output_type": "stream",
     "text": [
      "Loading required package: AnnotationDbi\n",
      "\n",
      "\n",
      "DOSE v3.4.0  For help: https://guangchuangyu.github.io/DOSE\n",
      "\n",
      "If you use DOSE in published research, please cite:\n",
      "Guangchuang Yu, Li-Gen Wang, Guang-Rong Yan, Qing-Yu He. DOSE: an R/Bioconductor package for Disease Ontology Semantic and Enrichment analysis. Bioinformatics 2015, 31(4):608-609\n",
      "\n",
      "##############################################################################\n",
      "Pathview is an open source software package distributed under GNU General\n",
      "Public License version 3 (GPLv3). Details of GPLv3 is available at\n",
      "http://www.gnu.org/licenses/gpl-3.0.html. Particullary, users are required to\n",
      "formally cite the original Pathview paper (not just mention it) in publications\n",
      "or products. For details, do citation(\"pathview\") within R.\n",
      "\n",
      "The pathview downloads and uses KEGG data. Non-academic uses may require a KEGG\n",
      "license agreement (details at http://www.kegg.jp/kegg/legal.html).\n",
      "##############################################################################\n",
      "\n",
      "Attaching package: 'purrr'\n",
      "\n",
      "The following object is masked from 'package:GenomicRanges':\n",
      "\n",
      "    reduce\n",
      "\n",
      "The following object is masked from 'package:IRanges':\n",
      "\n",
      "    reduce\n",
      "\n",
      "clusterProfiler v3.6.0  For help: https://guangchuangyu.github.io/clusterProfiler\n",
      "\n",
      "If you use clusterProfiler in published research, please cite:\n",
      "Guangchuang Yu., Li-Gen Wang, Yanyan Han, Qing-Yu He. clusterProfiler: an R package for comparing biological themes among gene clusters. OMICS: A Journal of Integrative Biology. 2012, 16(5):284-287.\n",
      "\n",
      "Attaching package: 'clusterProfiler'\n",
      "\n",
      "The following object is masked from 'package:purrr':\n",
      "\n",
      "    simplify\n",
      "\n"
     ]
    }
   ],
   "source": [
    "library(org.Hs.eg.db)\n",
    "library(DOSE)\n",
    "library(pathview)\n",
    "library(purrr)\n",
    "library(clusterProfiler)\n",
    "library(annotables)"
   ]
  }
 ],
 "metadata": {
  "kernelspec": {
   "display_name": "R",
   "language": "R",
   "name": "ir"
  },
  "language_info": {
   "codemirror_mode": "r",
   "file_extension": ".r",
   "mimetype": "text/x-r-source",
   "name": "R",
   "pygments_lexer": "r",
   "version": "3.4.4"
  }
 },
 "nbformat": 4,
 "nbformat_minor": 2
}
